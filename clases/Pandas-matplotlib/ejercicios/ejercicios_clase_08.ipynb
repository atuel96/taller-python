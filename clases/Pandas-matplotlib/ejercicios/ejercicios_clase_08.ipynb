{
 "cells": [
  {
   "cell_type": "markdown",
   "metadata": {},
   "source": [
    "## Ejercicio 1\n",
    "Importar el archivo `SN_m_tot_V2.0.csv` usando la función `read_csv()` de la librería Pandas.\n",
    "Usar el argumento `\";\"` al el parámetro `sep` (ejemplo: `read_csv(archivo, sep=\";\")`). Luego:\n",
    "\n",
    "1. graficar la fecha el número de manchas solares (Monthly total sunspot number) en función de la fecha (usar la comlumna Decimal date)\n",
    "\n",
    "2. Hacer un histograma de los valores de manchas solares\n",
    "\n",
    "3. En una misma figura graficar las manchas solares en función del tiempo, y el histograma de manchas solares, usando dos `axes` de matplitlib."
   ]
  },
  {
   "cell_type": "code",
   "execution_count": null,
   "metadata": {},
   "outputs": [],
   "source": [
    "# Ejercicio 1"
   ]
  },
  {
   "cell_type": "markdown",
   "metadata": {},
   "source": [
    "# Vpython\n",
    "## Ejercicio 2\n",
    "\n",
    "Simular el rebote de una pelota sobre un plano. Usar un coeficiente de restitución para el choque y variar este parámetro para obtener distintos tipos de rebotes (incluso un choque plástico!). Opcional: seguir la trayectoria del rebote con una traza."
   ]
  },
  {
   "cell_type": "code",
   "execution_count": null,
   "metadata": {},
   "outputs": [],
   "source": [
    "# Ejercicio"
   ]
  },
  {
   "cell_type": "markdown",
   "metadata": {},
   "source": [
    "## Ejercicio 3\n",
    "Simular un juego donde se pida la velocidad inicial y el ángulo de elevación en un disparo de un cañón para que el disparo impacte en un blanco puesto de manera aleatoria en el inicio del juego. La idea es que el blanco esté en línea recta respecto del cañón, es decir, que ambos estén sobre el eje x por ejemplo. Que el juego le permita tres intentos de disparos antes de cambiar la posición del blanco. Si acierta que aparezca un texto de felicitaciones y si no acierta que lo indique con un texto también.\n",
    "\n",
    "\n",
    "\n",
    "Para este juego se necesita crear una base o suelo, un cilindro puede ser el cañón y otro cilindro el blanco. Con esferas marcamos la bala y podemos hacer el seguimiento de la bala con la trayectoria.\n"
   ]
  },
  {
   "cell_type": "code",
   "execution_count": null,
   "metadata": {},
   "outputs": [],
   "source": [
    "# Ejercicio"
   ]
  },
  {
   "cell_type": "markdown",
   "metadata": {},
   "source": [
    "## Ejercicio 4\n",
    "\n",
    "Una versión avanzada puede ser entre dos compañeros, donde se disparen entre dos cañones, siendo que cada participante maneja uno individualmente. "
   ]
  },
  {
   "cell_type": "code",
   "execution_count": null,
   "metadata": {},
   "outputs": [],
   "source": [
    "# Ejercicio"
   ]
  },
  {
   "cell_type": "markdown",
   "metadata": {},
   "source": [
    "Se puede mejorar un poco el juego si agregamos resistencia del aire"
   ]
  },
  {
   "cell_type": "code",
   "execution_count": null,
   "metadata": {},
   "outputs": [],
   "source": [
    "# Extra"
   ]
  },
  {
   "cell_type": "markdown",
   "metadata": {},
   "source": [
    "Podemos avanzar más, podemos poner viento y si lo complicamos más podemos trabajar con viento en dos direcciones y que los cañones no estén sobre el mismo eje, que cada cañón tenga su posición x-y en el plano del suelo. En este caso se puede agregar que ingrese también al comienzo de cada disparo un giro del cañón con la intención de apuntar hacia el otro."
   ]
  },
  {
   "cell_type": "code",
   "execution_count": null,
   "metadata": {},
   "outputs": [],
   "source": [
    "# Extra"
   ]
  }
 ],
 "metadata": {
  "kernelspec": {
   "display_name": "base",
   "language": "python",
   "name": "python3"
  },
  "language_info": {
   "codemirror_mode": {
    "name": "ipython",
    "version": 3
   },
   "file_extension": ".py",
   "mimetype": "text/x-python",
   "name": "python",
   "nbconvert_exporter": "python",
   "pygments_lexer": "ipython3",
   "version": "3.11.5"
  }
 },
 "nbformat": 4,
 "nbformat_minor": 2
}
