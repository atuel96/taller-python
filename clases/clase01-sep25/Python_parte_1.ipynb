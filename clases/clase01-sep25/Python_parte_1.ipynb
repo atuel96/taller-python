{
  "cells": [
    {
      "cell_type": "markdown",
      "metadata": {
        "id": "9MliPb-tfDQX"
      },
      "source": [
        "# Python\n",
        "\n",
        "Antes de empezar queremos aclarar que esta intenta ser una guía relativamente rápida de inciación para Python. No vamos a explorar todas las funcionalidades que existen. Para complementar todo lo que presentamos a continuación, dejamos el link al tutorial oficial de Python 3 en español: https://docs.python.org/es/3/tutorial/ y a la referencia oficial también en español: https://docs.python.org/es/3/reference/index.html.\n",
        "\n",
        "\n",
        "Vamos a trabajar con el formato de _notebooks_ en el cual se puede escribir pequeñas porciones (llamdas _celdas_) de código y ejecutarlas individualmente.\n",
        "\n",
        "Un programa escrito en Python tiene su extensión caracteristica _.py_:\n",
        "\n",
        "```programa_ejemplo.py```\n",
        "\n",
        "Mientras que una notebook utiliza la extensión _.ipynb_:\n",
        "\n",
        "```notebook_ejemplo.ipynb```\n",
        "\n",
        "\n"
      ]
    },
    {
      "cell_type": "markdown",
      "metadata": {
        "id": "dEcUXPW49t_3"
      },
      "source": [
        "## Contenido de este Notebook\n",
        "\n",
        "En este notebook trataremos los siguientes temas:\n",
        "\n",
        "* Sintaxis Básica de Python\n",
        "* Variables y Tipos de Datos\n",
        "* Operadores artiméticos, de comparacióna y lógicos\n",
        "* Control de Flujo con bloques if-else\n",
        "* Métodos de Strings\n",
        "* Importar Modulos Externos"
      ]
    },
    {
      "cell_type": "markdown",
      "metadata": {
        "id": "_F7dzddD-V_Q"
      },
      "source": [
        "## Ejectuando una celda\n",
        "Abajo se encuentra una celda con la función _print()_, la cual se encarga de mostrar un texto en la salida.\n",
        "\n",
        "Para ejecutar la celda solo hace falta hacer click en el pequeño triangulo que aparece a la izquierda de la celda cuando hacemos click dentro de esta.\n",
        "Otra opción es usar el atajo _\"Ctrl + Shift\"._"
      ]
    },
    {
      "cell_type": "code",
      "execution_count": null,
      "metadata": {
        "colab": {
          "base_uri": "https://localhost:8080/"
        },
        "id": "6vzx5ZR6fJC_",
        "outputId": "88761835-bf42-4458-ad44-ead411ef1f43"
      },
      "outputs": [
        {
          "name": "stdout",
          "output_type": "stream",
          "text": [
            "Hola Mundo\n"
          ]
        }
      ],
      "source": [
        "print(\"Hola Mundo\")"
      ]
    },
    {
      "cell_type": "markdown",
      "metadata": {
        "id": "UdxomNNfAQtK"
      },
      "source": [
        "Luego de ejecutar la celda, se podrá ver a la izquierda un ícono verde de una tilde si la ejecución se produjo sin problemas, y en caso contrario aparecerá un ícono de color rojo para indicarnos que hubo un fallo.\n",
        "\n",
        "Justo debajo de la celda se mostrará el _output_ o salida de la celda ejectuada (el resultado de la ejecución).\n",
        "\n",
        "Cada celda empieza con unos corchetes vacios [ ]. Luego de la primera ejecución aparecerá un número uno [1] para indicar que es la primera celda ejecutada, luego aparecerá un [2], un [3], etc, para recordarnos el orden de ejecución."
      ]
    },
    {
      "cell_type": "markdown",
      "metadata": {
        "id": "UdJ0FLZ7HV_Y"
      },
      "source": [
        "## Comentarios\n",
        "\n",
        "Cuando se utiliza el símbolo \"#\", todo lo que siga a esa linea no será relevante para la ejecución de la celda, y es lo que se conoce como un _comentario_. Los comentarios pueden utilizarse para ir explicando el funcionamiento del programa. De esta forma, logramos dos cosas:  \n",
        "1) nos manejamos mejor dentro del código del programa, sobre todo si volvemos a verlo después de un tiempo y no lo tenemos fresco  \n",
        "2) facilitamos la colaboración con otras personas  \n",
        "Por estas razones, está bueno escribir comentarios descriptivos en nuestros programas."
      ]
    },
    {
      "cell_type": "code",
      "execution_count": null,
      "metadata": {
        "colab": {
          "base_uri": "https://localhost:8080/"
        },
        "id": "qP9tUZKxs2I-",
        "outputId": "1c919c49-ca30-4df4-a420-774dd81f986e"
      },
      "outputs": [
        {
          "name": "stdout",
          "output_type": "stream",
          "text": [
            "Esto no es un comentario\n"
          ]
        }
      ],
      "source": [
        "# Esto es un comentario\n",
        "print(\"Esto no es un comentario\") # Con esta linea imprimimos el texto \"Esto no es un comentario\""
      ]
    },
    {
      "cell_type": "markdown",
      "metadata": {
        "id": "oTLPmoyqseJC"
      },
      "source": [
        "## Operaciones Matemáticas Simples\n",
        "\n",
        "Una buena forma de empezar a usar python es probar hacer simples opraciones aritméticas. Es decir, vamos a usar pyhton como una calculadora sencilla. Mostramos algunos ejemplos y luego verán una tabla mostrando todos los operadores aritméticos en Python\n"
      ]
    },
    {
      "cell_type": "code",
      "execution_count": null,
      "metadata": {
        "colab": {
          "base_uri": "https://localhost:8080/"
        },
        "id": "mvQXVF9OsnCA",
        "outputId": "7b122577-9815-4aea-f72f-4ccf5619f4ee"
      },
      "outputs": [
        {
          "data": {
            "text/plain": [
              "8"
            ]
          },
          "execution_count": 5,
          "metadata": {},
          "output_type": "execute_result"
        }
      ],
      "source": [
        "# suma\n",
        "3 + 5"
      ]
    },
    {
      "cell_type": "code",
      "execution_count": null,
      "metadata": {
        "colab": {
          "base_uri": "https://localhost:8080/"
        },
        "id": "41QW9z4MspDp",
        "outputId": "b30784d8-34c0-4d44-d9d3-5acfb469da96"
      },
      "outputs": [
        {
          "data": {
            "text/plain": [
              "-4"
            ]
          },
          "execution_count": 6,
          "metadata": {},
          "output_type": "execute_result"
        }
      ],
      "source": [
        "# resta\n",
        "8 - 12"
      ]
    },
    {
      "cell_type": "code",
      "execution_count": null,
      "metadata": {
        "colab": {
          "base_uri": "https://localhost:8080/"
        },
        "id": "3ATcyVQTsrnB",
        "outputId": "0f41748e-dc79-458e-d42b-4cc5c48c1fd9"
      },
      "outputs": [
        {
          "data": {
            "text/plain": [
              "60"
            ]
          },
          "execution_count": 8,
          "metadata": {},
          "output_type": "execute_result"
        }
      ],
      "source": [
        "# multiplicación\n",
        "5 * 12"
      ]
    },
    {
      "cell_type": "code",
      "execution_count": null,
      "metadata": {
        "colab": {
          "base_uri": "https://localhost:8080/"
        },
        "id": "CvIK-pQOte0U",
        "outputId": "2f768a7d-2a29-4455-be53-4a31f3e57605"
      },
      "outputs": [
        {
          "data": {
            "text/plain": [
              "3.3333333333333335"
            ]
          },
          "execution_count": 9,
          "metadata": {},
          "output_type": "execute_result"
        }
      ],
      "source": [
        "# División\n",
        "10 / 3"
      ]
    },
    {
      "cell_type": "markdown",
      "metadata": {
        "id": "qML-pwU6tmtD"
      },
      "source": [
        "*** Nota: si notan algo raro en el resultado de la división 10/3, no se preocupen que más adelante explicaremos la razón de este resultado"
      ]
    },
    {
      "cell_type": "code",
      "execution_count": null,
      "metadata": {
        "colab": {
          "base_uri": "https://localhost:8080/"
        },
        "id": "nywGA0I3t0QJ",
        "outputId": "97419b53-1714-4529-bb0b-74855f1880bb"
      },
      "outputs": [
        {
          "data": {
            "text/plain": [
              "25"
            ]
          },
          "execution_count": 10,
          "metadata": {},
          "output_type": "execute_result"
        }
      ],
      "source": [
        "# Exponente\n",
        "5 ** 2 # así escribimos 5 al cuadrado ¡NO USAR 5^2! el operador ^ es válido pero no es el exponente"
      ]
    },
    {
      "cell_type": "markdown",
      "metadata": {
        "id": "XX5jOnwisl_4"
      },
      "source": [
        "Aquí dejamos una lista completa de los operadores aritméticos\n",
        "\n",
        "### Operadores Aritméticos\n",
        "\n",
        "Símbolo | Operación  | Ejemplo\n",
        "--------|------------|--------\n",
        "`+` | Suma | `3 + 5` = 8\n",
        "`-` | Resta | `8 - 5` = 3\n",
        "`*` | Multiplicación | `3 * 4` = 12\n",
        "`/` | División | `5 / 2` = 2.5\n",
        "`**` | Exponente | `5**2` = 25\n",
        "`//` | Parte entera de la división | `7 // 3` = 2\n",
        "`%` | Resto de la división | `7 % 3` = 1"
      ]
    },
    {
      "cell_type": "markdown",
      "metadata": {
        "id": "U8_oAinjvWq1"
      },
      "source": [
        "# Ejercicios\n",
        "\n",
        "Si recién empiezan a programar o son nuevos en python, recomendamos ir haciendo los diferentes ejercicios propuestos a lo largo de estas notebooks.\n",
        "\n",
        "Pueden usar la cenda donde se describe el ejercicio, o si les resulta más cómodo, pueden crear una nueva celda haciendo click en la opción \"**+ Código**\" arriba a la izquerda de la pantalla, o yendo a la opción en el menú: **Insertar -> Célda de código.**"
      ]
    },
    {
      "cell_type": "code",
      "execution_count": null,
      "metadata": {
        "id": "cguwNRLVuMOR"
      },
      "outputs": [],
      "source": [
        "# EJERCICIO 1:\n",
        "\n",
        "# Probar el resto de los operadores\n",
        "# ¿Cuál cree que sería el resultado de 10 // 3?\n",
        "# ¿Y Cual sería el resultado de 10 % 3?\n",
        "# ¿Puede entender la diferencia entre estos operadores y el operador de división?\n"
      ]
    },
    {
      "cell_type": "code",
      "execution_count": null,
      "metadata": {
        "id": "QxKUoDuzu0EL"
      },
      "outputs": [],
      "source": [
        "# EJERCICIO 2:\n",
        "\n",
        "# Pruebe ejecutar la expresión 5^2 para verificar que no es 5 al cuadrado.\n",
        "# ¿Cómo puedo obtener el resultado de 5 al cuadrado?"
      ]
    },
    {
      "cell_type": "markdown",
      "metadata": {
        "id": "-32pJ3LCvOae"
      },
      "source": [
        "## Expresiones más complejas\n",
        "\n",
        "Todo lo que fuimos escribiendo en las celdas anteriores son expresiones. En python una expresión es una combinación de valores, operadores, y llamadas a funciones que se evalúan a un cierto valor. Por ejemplo si se evalúa la expresión `2 + 2` se obtiene el valor 4.\n",
        "\n",
        "Las expresiones que vimos anteriormente son bastante simples, pero pueden empezar a complicarse.\n",
        "\n",
        "Por ejemplo, es claro que `2 + 2` es 4, o que `9 / 3` es 3, pero no es tan fácil saber a simple vista a que valor se evalua la expresion `5 + 5*10/2**2`.\n",
        "\n",
        "Primero debemos tener en cuenta que el orden de los operadores es el mismo que aprendimos en matemáticas el secundario, y segundo, que podemos usar paréntesis para cambiar este orden, o simplemente para organizar de forma más clara una expresión."
      ]
    },
    {
      "cell_type": "markdown",
      "metadata": {
        "id": "p35hN02EJXKX"
      },
      "source": [
        "### Orden de los operadores\n",
        "\n",
        "El orden de las operaciones el el siguiente\n",
        "\n",
        "1. Exponente (**)\n",
        "2. Multiplicación (*), División (/), Parte entera de la división (//), Resto (modulo) (%)\n",
        "3. Suma (+), Resta (-)"
      ]
    },
    {
      "cell_type": "code",
      "execution_count": null,
      "metadata": {
        "colab": {
          "base_uri": "https://localhost:8080/"
        },
        "id": "t7Qu7ELaxvTQ",
        "outputId": "563df768-ea5d-412a-d80e-b35f4952b165"
      },
      "outputs": [
        {
          "data": {
            "text/plain": [
              "17"
            ]
          },
          "execution_count": 1,
          "metadata": {},
          "output_type": "execute_result"
        }
      ],
      "source": [
        "# Suma y Producto. Primero se resuelve el producto y después la suma\n",
        "5 + 3*4"
      ]
    },
    {
      "cell_type": "code",
      "execution_count": null,
      "metadata": {
        "colab": {
          "base_uri": "https://localhost:8080/"
        },
        "id": "QhcNCEjrIsmo",
        "outputId": "5976d68d-4eb4-4500-85fc-4671f44f1b67"
      },
      "outputs": [
        {
          "data": {
            "text/plain": [
              "32"
            ]
          },
          "execution_count": 2,
          "metadata": {},
          "output_type": "execute_result"
        }
      ],
      "source": [
        "# Suma y producto. Usando paréntesis podemos hacer que se resuelva primero la suma y luego el producto\n",
        "(5+3) * 4"
      ]
    },
    {
      "cell_type": "markdown",
      "metadata": {
        "id": "UBruprnjLa19"
      },
      "source": [
        "## Errores ejectuando una celda\n",
        "\n",
        "**No siempre se ejecturará correctamente una celda**. Por ejemplo ¿Qué pasa si intento dividir un número por cero?\n"
      ]
    },
    {
      "cell_type": "code",
      "execution_count": null,
      "metadata": {
        "id": "qHUOdeEeLbUU"
      },
      "outputs": [],
      "source": [
        "# EJERCICIO\n",
        "\n",
        "# Dividir un número por cero y ver que pasa.\n",
        "# Por ejemplo: 5 / 0"
      ]
    },
    {
      "cell_type": "markdown",
      "metadata": {
        "id": "cDXxoS5zLupJ"
      },
      "source": [
        "Intentar dividir un número sobre cero nos devuelve un error. Especificamente el error llamado **ZeroDivisionError**. Al final de la salída de la celda podemos ver el nombre del error junto a una breve descripción del mismo:\n",
        "\n",
        "`ZeroDivisionError: division by zero`\n",
        "\n",
        "Existen multiples tipos de errores con los cuales nos iremos familiarizando a medida que sigamos programando."
      ]
    },
    {
      "cell_type": "markdown",
      "metadata": {
        "id": "lLxHuEqyNc4x"
      },
      "source": [
        "## Variables\n",
        "\n",
        "Supongamos que queremos calcular el módulo de la fuerza entre dos particulas cargadas $q_1$ y $q_2$, separadas una distancia $r$ entre sí. Para esto utilizamos la ley de coulomb (despreciando la fuerza gravitacional). Es decir:\n",
        "\n",
        "$$ F = k \\frac{q_1 \\cdot q_2}{r^2}$$\n",
        "\n",
        "Si tenemos los siguientes datos con unidades en el SI:\n",
        "\n",
        "$$ k = 8.9\\times 10^{9}$$\n",
        "$$ q_1 = 0.9 \\times 10^{-6}$$\n",
        "$$q_2 = 1.2 \\times 10^{-6}$$\n",
        "$$r = 2.5 \\times 10^{-3}$$\n",
        "\n",
        "podemos calcular la fuerza escribiendo la siguiente expresión:\n",
        "\n"
      ]
    },
    {
      "cell_type": "code",
      "execution_count": null,
      "metadata": {
        "colab": {
          "base_uri": "https://localhost:8080/"
        },
        "id": "FdBTBgUJPPin",
        "outputId": "705a8e7b-6bb6-4d1a-eff6-49d73cb4c205"
      },
      "outputs": [
        {
          "data": {
            "text/plain": [
              "1537.9199999999998"
            ]
          },
          "execution_count": 8,
          "metadata": {},
          "output_type": "execute_result"
        }
      ],
      "source": [
        "# Escribimos la expresión para calcular la fuerza electrostáctica\n",
        "8.9 * 10**9 * (0.9*10**-6 * 1.2*10**-6) / ((2.5 * 10**-3)**2)"
      ]
    },
    {
      "cell_type": "markdown",
      "metadata": {
        "id": "JQ_NHVLEhqT0"
      },
      "source": [
        "O mejor aún, podemos usar variables para cada uno de nuestros valores, de la siguiente forma:"
      ]
    },
    {
      "cell_type": "code",
      "execution_count": null,
      "metadata": {
        "colab": {
          "base_uri": "https://localhost:8080/"
        },
        "id": "UWb9hsKoh_Vc",
        "outputId": "9b2aaa2f-89f7-4b4d-acda-5f2a2b1c2a40"
      },
      "outputs": [
        {
          "name": "stdout",
          "output_type": "stream",
          "text": [
            "1537.9199999999998\n"
          ]
        }
      ],
      "source": [
        "# Primero creamos variables para cada uno de nuestros datos\n",
        "# Notemos que en vez de escribir 8.9 * 10**9 escribimos 8.9E9.\n",
        "# Esta notación es equivalente y más sencilla de usar\n",
        "k = 8.9e9\n",
        "q_1 = 0.9e-6\n",
        "q_2 = 1.2e-6\n",
        "r = 2.5e-3\n",
        "\n",
        "# Ahora podemos calcular la fuerza de una forma mucho más sencilla\n",
        "# y con menos posibilidades de error\n",
        "F = k * (q_1*q_2)/(r**2) # También podemos guardar la fuerza en otra variable\n",
        "print(F)"
      ]
    },
    {
      "cell_type": "markdown",
      "metadata": {
        "id": "orKKjKqRjRbz"
      },
      "source": [
        "En python el símbolo = denota el operador de asignación (no representa igualdad necesariamente, sino asignación, ya hablaremos de eso más adelante).\n",
        "\n",
        "De forma general creamos una variable de la siguiente forma:\n",
        "\n",
        "`nombre_de_mi_variable = expresión`\n",
        "\n",
        "Es decir, elegimos un nombre para nuestra variable, usamos el operador = y luego una expresión válida.\n",
        "\n",
        "Algunas reglas importantes al momento de elegir el nombre de una variable son que no podemos empezar el nombre con un número y que no podemos dejar espacios en medio.\n",
        "\n",
        "Luego, existen algunas convenciones que debemos conocer.\n",
        "Por ejemplo, debido a que no se pueden usar espacios en el nombre de una variable, existen diferentes formas de denotar la separación entre palabras. Dos convenciones muy utilizadas son:\n",
        "\n",
        "* Camel Case: estaEsMiVariable\n",
        "* Snake Case: esta_es_mi_variable\n",
        "\n",
        "En python la convención es usar snake case, reemplazando los espacios por un guión bajo. También se desaconseja usar acentos o la letra ñ.\n"
      ]
    },
    {
      "cell_type": "code",
      "execution_count": null,
      "metadata": {
        "colab": {
          "base_uri": "https://localhost:8080/"
        },
        "id": "xno4X5I4lrpW",
        "outputId": "0106768d-69e6-4bd6-b615-88f9d5abfa7b"
      },
      "outputs": [
        {
          "name": "stdout",
          "output_type": "stream",
          "text": [
            "hola mundo\n"
          ]
        }
      ],
      "source": [
        "# volvemos a nuestro primer ejemplo, pero esta vez usando una variable\n",
        "mensaje = \"hola mundo\"\n",
        "print(mensaje)"
      ]
    },
    {
      "cell_type": "markdown",
      "metadata": {
        "id": "6FtshkX-oznJ"
      },
      "source": [
        "Las variables nos sirven para guardar valores que podamos necesitar más adelante, y para mejorar la comprensión de nuestro código.\n",
        "\n",
        "Considerando nuestro ejemplo anterior de la fuerza electromagnética, si vemos esta línea de código es dificil tener claro qué estamos haciendo:\n",
        "\n",
        "`8.9 * 10**9 * (0.9*10**-6 * 1.2*10**-6) / ((2.5 * 10**-3)**2)`\n",
        "\n",
        "Mientras que de esta forma tiene mucho más sentido:\n",
        "\n",
        "`F = k * (q_1*q_2)/(r**2)`\n",
        "\n",
        "***NOTA:*** Siempre que podamos es imporante dar un nombre descriptivo a nuestras variables. Normalmente de desaconseja usar letras únicas para declarar variables. En el caso de problemas de física podemos hacer una excepción ya que muchas constantes son expresadas de esta forma, pero debemos tener en cuenta que el nombre de la variable debe ser descriptivo de alguna forma."
      ]
    },
    {
      "cell_type": "code",
      "execution_count": null,
      "metadata": {
        "colab": {
          "base_uri": "https://localhost:8080/"
        },
        "id": "5tmlN7N0ozL6",
        "outputId": "4dc10281-d32e-489a-f7fb-a68e16e9833a"
      },
      "outputs": [
        {
          "name": "stdout",
          "output_type": "stream",
          "text": [
            "1\n",
            "5\n"
          ]
        }
      ],
      "source": [
        "# podemos reasignar el valor de una variable en cualquier momento del código.\n",
        "mi_nivel_de_estres = 1\n",
        "print(mi_nivel_de_estres)\n",
        "\n",
        "# Reasignamos la variable con otro valor\n",
        "mi_nivel_de_estres = 5\n",
        "print(mi_nivel_de_estres)"
      ]
    },
    {
      "cell_type": "code",
      "execution_count": null,
      "metadata": {
        "colab": {
          "base_uri": "https://localhost:8080/"
        },
        "id": "50fIubrrzxh3",
        "outputId": "bf8a7495-e5b9-4507-9b3e-ab9046da939e"
      },
      "outputs": [
        {
          "name": "stdout",
          "output_type": "stream",
          "text": [
            "Mi nivel de estres es: 3\n"
          ]
        }
      ],
      "source": [
        "# Nota: Podemos pasar varios argumentos a la función print:\n",
        "# por ejemplo:\n",
        "print(\"Mi nivel de estres es:\", mi_nivel_de_estres)"
      ]
    },
    {
      "cell_type": "code",
      "execution_count": null,
      "metadata": {
        "colab": {
          "base_uri": "https://localhost:8080/"
        },
        "id": "SQafOl6Wqopy",
        "outputId": "79d940c1-ee65-47aa-b5e3-13dd739d3dc8"
      },
      "outputs": [
        {
          "name": "stdout",
          "output_type": "stream",
          "text": [
            "Mi nivel de estres es: 1\n",
            "Mi nivel de estres es: 2\n",
            "Mi nivel de estres es: 3\n"
          ]
        }
      ],
      "source": [
        "# También podemos actualizar nuestra variable dependiendo del valor que tenía anteriormente\n",
        "mi_nivel_de_estres = 1\n",
        "print(\"Mi nivel de estres es:\", mi_nivel_de_estres)\n",
        "\n",
        "# Recordemos que el signo = no es el igual matemático, sino un operador de asignación\n",
        "# Sí, podemos hacer esto:\n",
        "mi_nivel_de_estres = mi_nivel_de_estres + 1\n",
        "print(\"Mi nivel de estres es:\", mi_nivel_de_estres)\n",
        "# Cuando asignamos un valor a una variable, siempre se resuelve primero la expresión\n",
        "# a la derecha del igual, y luego recién se realiza la asignación.\n",
        "\n",
        "# Otra forma de hacer lo mismo es:\n",
        "mi_nivel_de_estres +=  1\n",
        "print(\"Mi nivel de estres es:\", mi_nivel_de_estres)"
      ]
    },
    {
      "cell_type": "markdown",
      "metadata": {
        "id": "hmNnCpiLrddo"
      },
      "source": [
        "## Tipos de Datos\n",
        "\n",
        "Hasta ahora estuvimos trabajando principalmente con números, pero existen otros tipos de datos.\n",
        "Para saber con que tipo de dato estamos trabajando podemos usar la función type().\n",
        "\n",
        "### Datos Numéricos\n",
        "Debemos distinguir entre los valores enteros (int) y los valores de punto flotante (float):"
      ]
    },
    {
      "cell_type": "code",
      "execution_count": null,
      "metadata": {
        "colab": {
          "base_uri": "https://localhost:8080/"
        },
        "id": "Kfx-qNqOowy_",
        "outputId": "624cb2f3-b465-40eb-8c9f-500d40253a5f"
      },
      "outputs": [
        {
          "name": "stdout",
          "output_type": "stream",
          "text": [
            "<class 'int'>\n",
            "<class 'float'>\n"
          ]
        }
      ],
      "source": [
        "a = 1   # int\n",
        "b = 1.1 # float\n",
        "\n",
        "# para saber el tipo de una variable podemos usar una función precargada llamada type():\n",
        "print(type(a))\n",
        "print(type(b))"
      ]
    },
    {
      "cell_type": "code",
      "execution_count": null,
      "metadata": {
        "colab": {
          "base_uri": "https://localhost:8080/"
        },
        "id": "c5oh-MDKzCgq",
        "outputId": "72050d3c-0bb2-4798-9974-3e0efe40fa69"
      },
      "outputs": [
        {
          "data": {
            "text/plain": [
              "float"
            ]
          },
          "execution_count": 18,
          "metadata": {},
          "output_type": "execute_result"
        }
      ],
      "source": [
        "# si tenemos una operación entre un entero y un flotante, el resultado es\n",
        "# otro flotante, ya que así no perdemos información\n",
        "var = 5 + 5.5\n",
        "type(var)"
      ]
    },
    {
      "cell_type": "code",
      "execution_count": null,
      "metadata": {
        "colab": {
          "base_uri": "https://localhost:8080/"
        },
        "id": "whAZFQ48zaM-",
        "outputId": "d3544337-2978-40dc-9289-38eb77b6541e"
      },
      "outputs": [
        {
          "data": {
            "text/plain": [
              "float"
            ]
          },
          "execution_count": 21,
          "metadata": {},
          "output_type": "execute_result"
        }
      ],
      "source": [
        "# En una división de enteros, el resultado también es un flotante\n",
        "type(5/2)"
      ]
    },
    {
      "cell_type": "markdown",
      "metadata": {
        "id": "E6ddqsgw3CM6"
      },
      "source": [
        "También existen los números complejos como la suma de la parte real y la parte imaginaria (con la letra j denotando la parte imaginaria)"
      ]
    },
    {
      "cell_type": "code",
      "execution_count": null,
      "metadata": {
        "colab": {
          "base_uri": "https://localhost:8080/"
        },
        "id": "nBvqt19r3F7o",
        "outputId": "a13b7054-3ede-4209-a1ad-236e083d0510"
      },
      "outputs": [
        {
          "name": "stdout",
          "output_type": "stream",
          "text": [
            "parte real: 1.0\n",
            "parte imaginaria: 2.0\n"
          ]
        },
        {
          "data": {
            "text/plain": [
              "complex"
            ]
          },
          "execution_count": 41,
          "metadata": {},
          "output_type": "execute_result"
        }
      ],
      "source": [
        "es_complejo = 1+2j\n",
        "# podemos acceder a la parte real e imaginaria individualmente con la notación\n",
        "# de punto, de la siguiente forma:\n",
        "print(\"parte real:\", es_complejo.real)\n",
        "print(\"parte imaginaria:\", es_complejo.imag)\n",
        "type(es_complejo)"
      ]
    },
    {
      "cell_type": "markdown",
      "metadata": {
        "id": "FWkGQsQeETgD"
      },
      "source": [
        "### Cadenas de caracteres\n",
        "\n",
        "Los caracteres que están entre comillas se llaman Cadenas o *strings* y se usan generalmente para representar texto.\n",
        "\n",
        "\n",
        "Pära crear una cadena o string utilizamos comillas dobes \" o comillas simples '.\n",
        "\n",
        "`cadena_valida = \"mi texto aquí\"`\n",
        "\n",
        "`otra_cadena_valida = 'más texto aquí'`\n",
        "\n",
        "Si abrimos con comillas simples, debemos cerrar con comillas simples, y si abrimos con comillas dobles, debemos cerrar con comillas dobles. Es decir que esto no es válido:\n",
        "\n",
        "`cadena_invalida = \"un texto'`\n"
      ]
    },
    {
      "cell_type": "code",
      "execution_count": null,
      "metadata": {
        "colab": {
          "base_uri": "https://localhost:8080/"
        },
        "id": "ivs5y9F_CdBD",
        "outputId": "2b5a4e46-1d2a-4479-e13c-89d79cf8122d"
      },
      "outputs": [
        {
          "data": {
            "text/plain": [
              "str"
            ]
          },
          "execution_count": 24,
          "metadata": {},
          "output_type": "execute_result"
        }
      ],
      "source": [
        "FACET = \"Facultad de Ciencias Exactas y Tecnología\"\n",
        "type(FACET)"
      ]
    },
    {
      "cell_type": "code",
      "execution_count": null,
      "metadata": {
        "colab": {
          "base_uri": "https://localhost:8080/"
        },
        "id": "WZaLxaPdCeY-",
        "outputId": "6c765747-2365-4768-ffa0-946399991f68"
      },
      "outputs": [
        {
          "data": {
            "text/plain": [
              "str"
            ]
          },
          "execution_count": 25,
          "metadata": {},
          "output_type": "execute_result"
        }
      ],
      "source": [
        "esto_no_es_una_suma = \"1 + 5\" # esto deja de ser una operación numérica al colocar las comillas\n",
        "type(esto_no_es_una_suma)"
      ]
    },
    {
      "cell_type": "code",
      "execution_count": null,
      "metadata": {
        "colab": {
          "base_uri": "https://localhost:8080/"
        },
        "id": "o19WD82kgo6U",
        "outputId": "4a04b330-0bd1-451f-e803-d753803df019"
      },
      "outputs": [
        {
          "name": "stdout",
          "output_type": "stream",
          "text": [
            "hola como están?\n"
          ]
        }
      ],
      "source": [
        "# Si intentamos sumar dos cadenas, se concatenan una detrás de la otra:\n",
        "suma_de_cadenas = \"hola \" + \"como están?\"\n",
        "print(suma_de_cadenas)"
      ]
    },
    {
      "cell_type": "markdown",
      "metadata": {
        "id": "i3VhxuuO2VZG"
      },
      "source": [
        "Usar operaciones aritméticas mezclando cadenas y numéros generalmente va a generar un error, con la exepción de la multiplicación entre un entero y una cadena."
      ]
    },
    {
      "cell_type": "code",
      "execution_count": null,
      "metadata": {
        "colab": {
          "base_uri": "https://localhost:8080/"
        },
        "id": "_ZVYlMwI2TXf",
        "outputId": "b1deb08d-daeb-4998-8ae8-06606f9fd585"
      },
      "outputs": [
        {
          "name": "stdout",
          "output_type": "stream",
          "text": [
            "JAJAJAJAJAJAJAJAJAJA\n",
            "jajaja\n"
          ]
        }
      ],
      "source": [
        "# así nos podemos reir fuerte:\n",
        "print(10*\"JA\")\n",
        "\n",
        "# y así más despacio:\n",
        "print(3*\"ja\")"
      ]
    },
    {
      "cell_type": "markdown",
      "metadata": {
        "id": "oIFeYQKOg3z4"
      },
      "source": [
        "A veces es necesario utilizar tanto las comillas simples como las dobles. Por ejemplo si dentro del texto queremos que haya comillas dobles:"
      ]
    },
    {
      "cell_type": "code",
      "execution_count": null,
      "metadata": {
        "colab": {
          "base_uri": "https://localhost:8080/"
        },
        "id": "RpcWmWOJg0Fm",
        "outputId": "75828bb4-d14d-48e1-d710-9cd2934b4a4a"
      },
      "outputs": [
        {
          "name": "stdout",
          "output_type": "stream",
          "text": [
            "Estoy usando \"comillas\" dobles dentro de esta string\n"
          ]
        }
      ],
      "source": [
        "print('Estoy usando \"comillas\" dobles dentro de esta string')"
      ]
    },
    {
      "cell_type": "code",
      "execution_count": null,
      "metadata": {
        "id": "14icPxRL9uBj"
      },
      "outputs": [],
      "source": [
        "# EJERCICIO:\n",
        "\n",
        "# Como puedo imprimir en una sola linea el siguiente mensaje\n",
        "# que nos muiestra dos tipos de comillas:\n",
        "# comillas doble: \"\", comillas simple: ''"
      ]
    },
    {
      "cell_type": "markdown",
      "metadata": {
        "id": "InDYZdPfiqmB"
      },
      "source": [
        "### Booleanos\n",
        "\n",
        "Otro tipo de dato son los booleanos. En este caso solo hay dos valores posibles:"
      ]
    },
    {
      "cell_type": "code",
      "execution_count": null,
      "metadata": {
        "colab": {
          "base_uri": "https://localhost:8080/"
        },
        "id": "V3vIuuyXhWUu",
        "outputId": "d63b9b03-e278-41e5-de36-1b2032174303"
      },
      "outputs": [
        {
          "data": {
            "text/plain": [
              "True"
            ]
          },
          "execution_count": 24,
          "metadata": {},
          "output_type": "execute_result"
        }
      ],
      "source": [
        "True  # True (con T mayúscula)"
      ]
    },
    {
      "cell_type": "code",
      "execution_count": null,
      "metadata": {
        "colab": {
          "base_uri": "https://localhost:8080/"
        },
        "id": "1q5RrNdpiyqa",
        "outputId": "21e63feb-50fe-4d99-f974-fdbe43fb3c91"
      },
      "outputs": [
        {
          "data": {
            "text/plain": [
              "False"
            ]
          },
          "execution_count": 25,
          "metadata": {},
          "output_type": "execute_result"
        }
      ],
      "source": [
        "False # False (con F mayúscula)"
      ]
    },
    {
      "cell_type": "code",
      "execution_count": null,
      "metadata": {
        "colab": {
          "base_uri": "https://localhost:8080/"
        },
        "id": "vQhHgEoI464S",
        "outputId": "01f47fa0-c9de-4155-cca0-ff6e5849a8cf"
      },
      "outputs": [
        {
          "name": "stdout",
          "output_type": "stream",
          "text": [
            "6\n",
            "0\n"
          ]
        }
      ],
      "source": [
        "# Podemos usar True y False dentro de operaciones aritméticas.\n",
        "# True toma el valor de 1 y False toma el valor 0:\n",
        "\n",
        "print(5 + True)\n",
        "print(False*7)"
      ]
    },
    {
      "cell_type": "markdown",
      "metadata": {
        "id": "hYvcne3GjJEK"
      },
      "source": [
        "Más adelante veremos como se utilizan los Booleanos para el control de flujo"
      ]
    },
    {
      "cell_type": "markdown",
      "metadata": {
        "id": "wV7o0rjxjWRP"
      },
      "source": [
        "### Valor Nulo\n",
        "\n",
        "Por último también existe el dato nulo. Este tipo de dato denota la ausencia de un valor, puede parecer poco útil, pero ya veremos algunos ejemplos con él"
      ]
    },
    {
      "cell_type": "code",
      "execution_count": null,
      "metadata": {
        "colab": {
          "base_uri": "https://localhost:8080/"
        },
        "id": "5y6l4Ukkizsy",
        "outputId": "19cb0d23-4c19-4f40-a72b-305f26ad99ec"
      },
      "outputs": [
        {
          "data": {
            "text/plain": [
              "NoneType"
            ]
          },
          "execution_count": 45,
          "metadata": {},
          "output_type": "execute_result"
        }
      ],
      "source": [
        "aqui_no_hay_valor = None\n",
        "\n",
        "type(aqui_no_hay_valor)"
      ]
    },
    {
      "cell_type": "markdown",
      "metadata": {
        "id": "I1S7y_a95cCv"
      },
      "source": [
        "### Convertir un tipo de dato a otro (Casting)\n",
        "\n",
        "Existen funciones que nos permiten pasar de un tipo de dato a otro\n",
        "\n",
        "float(), str(), int(), bool()"
      ]
    },
    {
      "cell_type": "code",
      "execution_count": null,
      "metadata": {
        "colab": {
          "base_uri": "https://localhost:8080/"
        },
        "id": "WYNMOX_r5kyS",
        "outputId": "58b3aa61-38f0-4143-9cbe-c4da7820750b"
      },
      "outputs": [
        {
          "data": {
            "text/plain": [
              "5"
            ]
          },
          "execution_count": 54,
          "metadata": {},
          "output_type": "execute_result"
        }
      ],
      "source": [
        "# al transformar un flotante a un entero se pierde la parte decimal, NO se redondea!\n",
        "int(5.9)"
      ]
    },
    {
      "cell_type": "code",
      "execution_count": null,
      "metadata": {
        "colab": {
          "base_uri": "https://localhost:8080/"
        },
        "id": "XgGbTkOA5ycU",
        "outputId": "c70de2c6-9c65-4846-8be1-b732bd3f9100"
      },
      "outputs": [
        {
          "data": {
            "text/plain": [
              "8.0"
            ]
          },
          "execution_count": 55,
          "metadata": {},
          "output_type": "execute_result"
        }
      ],
      "source": [
        "float(8)"
      ]
    },
    {
      "cell_type": "code",
      "execution_count": null,
      "metadata": {
        "id": "RVnsFpfd9uBt",
        "outputId": "ba42b355-684b-4a69-abaa-bbcb59abaabd"
      },
      "outputs": [
        {
          "data": {
            "text/plain": [
              "'42'"
            ]
          },
          "execution_count": 1,
          "metadata": {},
          "output_type": "execute_result"
        }
      ],
      "source": [
        "str(42)"
      ]
    },
    {
      "cell_type": "code",
      "execution_count": null,
      "metadata": {
        "id": "X6rTFPRd9uBu",
        "outputId": "2f715130-69e5-48f9-fdd9-30e0a0f4d65b"
      },
      "outputs": [
        {
          "data": {
            "text/plain": [
              "True"
            ]
          },
          "execution_count": 3,
          "metadata": {},
          "output_type": "execute_result"
        }
      ],
      "source": [
        "# Todos los números distintos a 0 se convierten en True, cero se convierte en False\n",
        "bool(-1)"
      ]
    },
    {
      "cell_type": "code",
      "execution_count": null,
      "metadata": {
        "id": "sLd3YURY9uBv",
        "outputId": "51edaca5-4778-4c04-a849-38bca40d45db"
      },
      "outputs": [
        {
          "data": {
            "text/plain": [
              "False"
            ]
          },
          "execution_count": 45,
          "metadata": {},
          "output_type": "execute_result"
        }
      ],
      "source": [
        "# Las cadenas también se evaluan a True, con exepción de la cadena vacia \"\"\n",
        "bool(\"\")"
      ]
    },
    {
      "cell_type": "code",
      "execution_count": null,
      "metadata": {
        "id": "lXY6C8gN9uBw",
        "outputId": "fa9e707e-9d5c-416f-e304-1094d2c79d54"
      },
      "outputs": [
        {
          "data": {
            "text/plain": [
              "True"
            ]
          },
          "execution_count": 46,
          "metadata": {},
          "output_type": "execute_result"
        }
      ],
      "source": [
        "bool(\"cadena\")"
      ]
    },
    {
      "cell_type": "code",
      "execution_count": null,
      "metadata": {
        "colab": {
          "base_uri": "https://localhost:8080/"
        },
        "id": "QvPPrCG150Zo",
        "outputId": "74e2efee-81d5-44ff-e25c-5cfda9716d48"
      },
      "outputs": [
        {
          "name": "stdout",
          "output_type": "stream",
          "text": [
            "Aquí estamos concatenando dos strings: 54\n",
            "Aquí estamos sumando dos enteros: 9\n"
          ]
        }
      ],
      "source": [
        "# podemos convertir una string a un valor numérico en caso de que la string\n",
        "# contenga solamente números:\n",
        "string_1 = \"5\"\n",
        "string_2 = \"4\"\n",
        "print(\"Aquí estamos concatenando dos strings:\", string_1 + string_2)\n",
        "print(\"Aquí estamos sumando dos enteros:\", int(string_1) + int(string_2))"
      ]
    },
    {
      "cell_type": "markdown",
      "metadata": {
        "id": "0Vkiyx8uoBdo"
      },
      "source": [
        "## Un poco de control de flujo\n",
        "\n",
        "Muchas veces queremos que nuestro programa realice diferentes acciones dependiendo de ciertos factores.\n",
        "\n",
        "Empezaremos aprendiendo sobre los operadores de comparación:\n",
        "\n",
        "\n",
        "### Operadores de Comparación\n",
        "\n",
        "Los operadores de comparación nos resultarán bastante familiares. Una comparación se realiza entre dos objetos, y si la expresión es válida el resultado será un booleano (True o False)"
      ]
    },
    {
      "cell_type": "code",
      "execution_count": null,
      "metadata": {
        "id": "8VRupxJz9uBy",
        "outputId": "0279e848-86bf-4fde-88ef-2631719a0e86"
      },
      "outputs": [
        {
          "data": {
            "text/plain": [
              "False"
            ]
          },
          "execution_count": 5,
          "metadata": {},
          "output_type": "execute_result"
        }
      ],
      "source": [
        "5 < 4 # False"
      ]
    },
    {
      "cell_type": "code",
      "execution_count": null,
      "metadata": {
        "id": "G3Dampjn9uBz",
        "outputId": "3b4c32ca-a7a8-43bf-b5c1-a5a2e2ca0248"
      },
      "outputs": [
        {
          "data": {
            "text/plain": [
              "True"
            ]
          },
          "execution_count": 7,
          "metadata": {},
          "output_type": "execute_result"
        }
      ],
      "source": [
        "12 > 5 # True"
      ]
    },
    {
      "cell_type": "code",
      "execution_count": null,
      "metadata": {
        "id": "4S9s89Mf9uB0",
        "outputId": "0effb277-43d4-4a7b-aa4b-a0c6b637f499"
      },
      "outputs": [
        {
          "data": {
            "text/plain": [
              "True"
            ]
          },
          "execution_count": 12,
          "metadata": {},
          "output_type": "execute_result"
        }
      ],
      "source": [
        "# También existen el mayor o igual >= y menor o igual <=\n",
        "5 >= 4"
      ]
    },
    {
      "cell_type": "code",
      "execution_count": null,
      "metadata": {
        "id": "NrlPWuNU9uB0",
        "outputId": "1a198469-25f0-4d7d-f07a-25b5868dbc0d"
      },
      "outputs": [
        {
          "data": {
            "text/plain": [
              "False"
            ]
          },
          "execution_count": 9,
          "metadata": {},
          "output_type": "execute_result"
        }
      ],
      "source": [
        "# El doble == es el operador de igualdad\n",
        "5 == 4"
      ]
    },
    {
      "cell_type": "code",
      "execution_count": null,
      "metadata": {
        "id": "QtPbRp0t9uB1",
        "outputId": "76d725fb-90b9-42f0-d623-67243b519e4b"
      },
      "outputs": [
        {
          "data": {
            "text/plain": [
              "True"
            ]
          },
          "execution_count": 10,
          "metadata": {},
          "output_type": "execute_result"
        }
      ],
      "source": [
        "# Mientras que != implica desigualdad\n",
        "12 != 12.5"
      ]
    },
    {
      "cell_type": "markdown",
      "metadata": {
        "id": "HIBWbcxj9uB3"
      },
      "source": [
        "#### Problemas de representar números reales\n",
        "\n",
        "Veamos el siguiente ejemplo"
      ]
    },
    {
      "cell_type": "code",
      "execution_count": null,
      "metadata": {
        "id": "sxKhXY9d9uB4",
        "outputId": "7815339e-a0e6-4da7-bcc9-1dc3140c888a"
      },
      "outputs": [
        {
          "data": {
            "text/plain": [
              "False"
            ]
          },
          "execution_count": 77,
          "metadata": {},
          "output_type": "execute_result"
        }
      ],
      "source": [
        "# La siguiente expresión se evalua a False, aunque debería ser True\n",
        "0.3 == 0.4 - 0.1"
      ]
    },
    {
      "cell_type": "markdown",
      "metadata": {
        "id": "izYJoZ839uB6"
      },
      "source": [
        "Antes vimos que el resultado obtenido de `10/3` era `3.3333333333333335`.\n",
        "\n",
        "El problema es el 5 que aparece al final. Claramente no debería estar ahi.\n",
        "\n",
        "Para entender esto necesitamos tener en cuenta que los números reales son infinitos, pero la computadora no tiene memoria infinita, por lo tanto no puede representar números reales, sino que los aproxima.\n",
        "\n",
        "Solo ciertos números pueden expresarse de forma exacta con los números flotantes.\n",
        "\n",
        "Estos números son aquellos que puedan expresarse como una suma de fracciones donde los denominadores son múltiplos de dos, de la siguiente forma:\n",
        "\n",
        "$$\\frac{a}{2^0} + \\frac{b}{2^1} + \\frac{c}{2^2} + \\cdots$$\n",
        "\n",
        "Por ejemplo el número 1.75 se puede expresar como:\n",
        "\n",
        "$$\n",
        " 1.75 =  \\frac{1}{2^0} + \\frac{3}{2^2}\n",
        "$$\n",
        "\n",
        "Sin embargo 10/3 no puede representarse de manera exacta de esta forma, por lo tanto el resultado es una aproximación"
      ]
    },
    {
      "cell_type": "code",
      "execution_count": null,
      "metadata": {
        "id": "15Ducbc99uB7",
        "outputId": "992b1035-8ec5-42b4-d0f7-ff11070bdcf6"
      },
      "outputs": [
        {
          "data": {
            "text/plain": [
              "True"
            ]
          },
          "execution_count": 84,
          "metadata": {},
          "output_type": "execute_result"
        }
      ],
      "source": [
        "# Estos números pueden representarse de forma exacta, por lo tanto no hay ningún error\n",
        "1.75 == 1 + 3/4"
      ]
    },
    {
      "cell_type": "markdown",
      "metadata": {
        "id": "jQZqsA3E9uB8"
      },
      "source": [
        "En general se recomienda NO usar el operador `==` para comparar dos flotantes"
      ]
    },
    {
      "cell_type": "markdown",
      "metadata": {
        "id": "gjB6v85o9uB9"
      },
      "source": [
        "### Sentencia if - else\n",
        "\n",
        "La sentencia if nos permite ejecutar un bloque de código dependiendo de una condición.\n",
        "\n",
        "```\n",
        "if <expresión>:\n",
        "    bloque 1\n",
        "else:\n",
        "    bloque 2\n",
        "```\n",
        "\n",
        "Si la expresión se evalúa a True, se ejecuta el bloque 1, de lo contrario se ejecuta el bloque 2.\n",
        "Es importante notar la indentación (el esapacio o la sangría) en los bloques 1 y 2.\n",
        "Esta indentación es necesaria para la correcta ejecución de los bloques de código."
      ]
    },
    {
      "cell_type": "code",
      "execution_count": null,
      "metadata": {
        "id": "Z4F999UA9uB_",
        "outputId": "8bd27d70-8187-4ed1-a01d-bfe1dc557bcf"
      },
      "outputs": [
        {
          "name": "stdout",
          "output_type": "stream",
          "text": [
            "¡Puedo tomar alcohol legalmente!\n",
            "Tomen con moderación gente\n"
          ]
        }
      ],
      "source": [
        "# Un ejemplo:\n",
        "edad = 21\n",
        "\n",
        "if edad >= 18:\n",
        "    print(\"¡Puedo tomar alcohol legalmente!\")\n",
        "else:\n",
        "    print(\"No puedo tomar alcohol legalmente :(\")\n",
        "\n",
        "# este código esta fuera de ambos bloques, por lo tanto siempre se ejecutará\n",
        "print(\"Tomen con moderación gente\")\n"
      ]
    },
    {
      "cell_type": "markdown",
      "metadata": {
        "id": "lMD8oFxF9uCA"
      },
      "source": [
        "\n",
        "\n",
        "#### Función input():\n",
        "\n",
        "Para hacer más interesante nuestro ejemplo anterior podemos usar la función `input()` para crear una variable que será definida en tiempo de ejecución por el usario.\n",
        "\n",
        "Primero veamos un ejemplo:"
      ]
    },
    {
      "cell_type": "code",
      "execution_count": null,
      "metadata": {
        "colab": {
          "base_uri": "https://localhost:8080/"
        },
        "id": "KYB9BWxkny0Q",
        "outputId": "ffab0206-a061-47b9-b270-2cde7cfeeef2"
      },
      "outputs": [
        {
          "name": "stdout",
          "output_type": "stream",
          "text": [
            "Cuál es tu nombre? \n",
            "Atuel\n",
            "Hola Atuel\n"
          ]
        }
      ],
      "source": [
        "print(\"Cuál es tu nombre? \")\n",
        "nombre = input()\n",
        "\n",
        "print(\"Hola\", nombre)"
      ]
    },
    {
      "cell_type": "code",
      "execution_count": null,
      "metadata": {
        "id": "qlseZXrM9uCB",
        "outputId": "af3de973-33b1-42a1-af0c-edbb62b2902f"
      },
      "outputs": [
        {
          "data": {
            "text/plain": [
              "str"
            ]
          },
          "execution_count": 18,
          "metadata": {},
          "output_type": "execute_result"
        }
      ],
      "source": [
        "# Ahora, queremos que nuestro programa nos pregunte que edad tenemos, pero hay un problema\n",
        "edad = input(\"Que edad tenés? ',:c\")\n",
        "type(edad)"
      ]
    },
    {
      "cell_type": "markdown",
      "metadata": {
        "id": "GBCWc73u9uCC"
      },
      "source": [
        "la función `input()` siempre devuelve una string. Por lo tanto para hacer la comparación necesitamos transformar la string en un entero:"
      ]
    },
    {
      "cell_type": "code",
      "execution_count": null,
      "metadata": {
        "colab": {
          "base_uri": "https://localhost:8080/"
        },
        "id": "WBACLCHvptCR",
        "outputId": "0e1ae13c-2893-4ea3-eb36-280aab015a16"
      },
      "outputs": [
        {
          "name": "stdout",
          "output_type": "stream",
          "text": [
            "No puedo tomar alcohol legalmente :(\n",
            "Tomen con moderación gente\n"
          ]
        }
      ],
      "source": [
        "edad = int(input(\"Que edad tenés? ',:c\"))\n",
        "\n",
        "if edad >= 18:\n",
        "    # Este es el bloque del if\n",
        "    print(\"¡Puedo tomar alcohol legalmente!\")\n",
        "else:\n",
        "    # Este es el bloque del else\n",
        "    print(\"No puedo tomar alcohol legalmente :(\")\n",
        "\n",
        "# este código esta fuera de ambos bloques, por lo tanto siempre se ejecutará\n",
        "print(\"Tomen con moderación gente\")\n"
      ]
    },
    {
      "cell_type": "markdown",
      "metadata": {
        "id": "S2buQtEz9uCE"
      },
      "source": [
        "### Operadores Lógicos\n",
        "\n",
        "Otro tipo de operadores bastante útiles en estos casos son los operadores lógicos:\n",
        "\n",
        "Tenemos tres operadores lógicos: `and`, `or` y `not`\n",
        "\n",
        "Operación | Resultado\n",
        "--------|------------\n",
        "`a and b`| Si `a` se evalua `False` devuelve el valor de `a`, sino el de `b`\n",
        "`a or b` | Si `a` se evalua `False` devuelve el valor de b, sino el de `a`\n",
        "`not a` | Si `a` se evalua `False` devulve `True`, si no devuelve `False`\n",
        "\n",
        "Estas explicaciones pueden parecer confusas, sobre todo para los operadores `and` y `or`, pero tengamos en cuenta lo siguiente;\n",
        " si `a` y `b` son booleanos (`True` o `False`) entonces se cumple que:\n",
        "\n",
        "Operación | Resultado\n",
        "--------|------------\n",
        "`a and b`| Se evalua a `True` solo si tanto a como b son `True`, sino `False`\n",
        "`a or b` | Se evalua a `True` si a es` True`, o si b es `True`, o si ambos son `True`, de lo contrario False\n",
        "\n",
        "pero veamoslo con un ejemplo:"
      ]
    },
    {
      "cell_type": "code",
      "execution_count": null,
      "metadata": {
        "id": "BkHoV-bR9uCE",
        "outputId": "6c73b541-06a3-4f5a-8534-75fb56cb6f49"
      },
      "outputs": [
        {
          "name": "stdout",
          "output_type": "stream",
          "text": [
            "No puede tomar\n"
          ]
        }
      ],
      "source": [
        "# Tenemos dos variables, la edad y una variable que indica si estamos o no manejando\n",
        "edad = 19\n",
        "manejando = True\n",
        "\n",
        "# Solo vamos a poder tomar si se cumplen dos condiciones (tener más de 18 y no estar manejando)\n",
        "if edad > 18 and not manejando:\n",
        "    print(\"Puede tomar\")\n",
        "else:\n",
        "    print(\"No puede tomar\")\n"
      ]
    },
    {
      "cell_type": "markdown",
      "metadata": {
        "id": "vDtTHqoG9uCF"
      },
      "source": [
        "#### **Ejercicio Opcional**: entendiendo el funcionamiento de los operadores `and` y `or`\n",
        "\n",
        "Veamos que pasa cuando usamos `and` y `or` con valores no booleanos.\n"
      ]
    },
    {
      "cell_type": "code",
      "execution_count": null,
      "metadata": {
        "id": "Gv0nfOvk9uCG"
      },
      "outputs": [],
      "source": [
        "# EJERCICIO\n",
        "\n",
        "# ¿Cual es el resultado de las siguientes expresiones?\n",
        "# 1 and 2\n",
        "# 0 and 1\n",
        "# 1 or 2\n",
        "# 0 or 2\n",
        "# \"a\" or \"b\"\n",
        "# \"\" and \"b\""
      ]
    },
    {
      "cell_type": "markdown",
      "metadata": {
        "id": "fq535aYk9uCH"
      },
      "source": [
        "¿Puede entender porque estos operadores funcionan de esta forma?"
      ]
    },
    {
      "cell_type": "code",
      "execution_count": null,
      "metadata": {
        "colab": {
          "base_uri": "https://localhost:8080/"
        },
        "id": "iapuIcPpuliZ",
        "outputId": "707f95e6-59b3-4689-891b-2e339d68c50c"
      },
      "outputs": [
        {
          "data": {
            "text/plain": [
              "4"
            ]
          },
          "execution_count": 14,
          "metadata": {},
          "output_type": "execute_result"
        }
      ],
      "source": [
        "max(1, 2, 4)  # devuelve el valor máximo"
      ]
    },
    {
      "cell_type": "code",
      "execution_count": null,
      "metadata": {
        "colab": {
          "base_uri": "https://localhost:8080/"
        },
        "id": "6zEeKU9oum4L",
        "outputId": "f694f877-2de5-4516-dd0f-cc1897305254"
      },
      "outputs": [
        {
          "data": {
            "text/plain": [
              "-10"
            ]
          },
          "execution_count": 15,
          "metadata": {},
          "output_type": "execute_result"
        }
      ],
      "source": [
        "min(2, -5, -10) # devuelve el valor mínimo"
      ]
    },
    {
      "cell_type": "code",
      "execution_count": null,
      "metadata": {
        "colab": {
          "base_uri": "https://localhost:8080/"
        },
        "id": "myrkqay_usY6",
        "outputId": "538796ed-5e39-4bfe-cffb-19728f96d3da"
      },
      "outputs": [
        {
          "data": {
            "text/plain": [
              "55"
            ]
          },
          "execution_count": 16,
          "metadata": {},
          "output_type": "execute_result"
        }
      ],
      "source": [
        "abs(-55)  # devuelve el valor absoluto"
      ]
    },
    {
      "cell_type": "markdown",
      "metadata": {
        "id": "tQ0YYai5vuXp"
      },
      "source": [
        "## Strings con formato\n",
        "\n",
        "Las strings con formato nos permiten colocar variables dentro de una string.\n",
        "\n",
        "Supongamos que queremos imprimir un mensaje del tipo:\n",
        "\n",
        "\"Hola Juan!\"\n",
        "\n",
        "pero no queremos saludar siempre a Juan, sino a una persona genérica."
      ]
    },
    {
      "cell_type": "code",
      "execution_count": null,
      "metadata": {
        "id": "vblmcKeihgct",
        "outputId": "a594a7aa-0ea4-424f-f991-cd4b1b41edfc"
      },
      "outputs": [
        {
          "name": "stdout",
          "output_type": "stream",
          "text": [
            "Hola Blas !\n",
            "Hola Blas!\n"
          ]
        }
      ],
      "source": [
        "# Una opción es realizar una concatenación de strings:\n",
        "nombre = \"Blas\"\n",
        "print(\"Hola \" + nombre + \"!\")\n",
        "\n",
        "# Pero la alternativa más cómoda es utilizar f-strings:\n",
        "nombre = \"Blas\"\n",
        "print(f\"Hola {nombre}!\")"
      ]
    },
    {
      "cell_type": "markdown",
      "metadata": {
        "id": "Rbdn2l479uCM"
      },
      "source": [
        "las f-strings empiezan con una letra **f** situada justo antes de las comillas. Luego las variables se colocan entre dos llaves {}"
      ]
    },
    {
      "cell_type": "code",
      "execution_count": null,
      "metadata": {
        "colab": {
          "base_uri": "https://localhost:8080/"
        },
        "id": "0zVosBBVvy4N",
        "outputId": "b2554ea6-a62f-4595-9f54-20d7972cd04c"
      },
      "outputs": [
        {
          "name": "stdout",
          "output_type": "stream",
          "text": [
            "hay 5 botellas en el patio\n"
          ]
        }
      ],
      "source": [
        "# otro ejemplo\n",
        "numero = 5\n",
        "objeto = \"botellas\"\n",
        "lugar = \"patio\"\n",
        "\n",
        "mensaje = f\"hay {numero} {objeto} en el {lugar}\" # probar sacar la f delante de la string y ejecutar\n",
        "print(mensaje)"
      ]
    },
    {
      "cell_type": "markdown",
      "metadata": {
        "id": "Azq7eswG9uCN"
      },
      "source": [
        "Dentro de una f-string también podemos dar formato a los números que vayamos a imprimir en pantalla"
      ]
    },
    {
      "cell_type": "code",
      "execution_count": null,
      "metadata": {
        "colab": {
          "base_uri": "https://localhost:8080/"
        },
        "id": "wdqZxCZLwWZt",
        "outputId": "2effc7cb-912e-420a-f4aa-64738b1a313e"
      },
      "outputs": [
        {
          "name": "stdout",
          "output_type": "stream",
          "text": [
            "31.311\n",
            "31.3\n",
            "3.13e+01\n"
          ]
        }
      ],
      "source": [
        "num = 31.311\n",
        "\n",
        "print(f\"{num:.3f}\") # número con formato flotante, con tres cifras luego de la coma\n",
        "print(f\"{num:.1f}\") # una cifra luego de la coma\n",
        "print(f\"{num:.2e}\") # notación exponencial, con 2 cifras luego e la coma"
      ]
    },
    {
      "cell_type": "markdown",
      "metadata": {
        "id": "jUyVSVmv9uCO"
      },
      "source": [
        "## Métodos de Strings\n",
        "\n",
        "Los métodos son funciones que pertenecen a un objeto. Para acceder a un método tenemos que partir desde el objeto usando la notación de punto:\n",
        "\n",
        "`string.metodo()`\n",
        "\n",
        "Algunos métodos utiles para las strings son:\n",
        "\n",
        "* `upper()` : Devuelve la string en mayúsculas\n",
        "* `lower()` : Devuelve la string en minúsculas\n",
        "* `strip()` : Devuelve la string sin espacios al final ni al inicio\n",
        "* `title()` : Devuelve una string con cada primer letra en mayúscucla\n",
        "* `replace()` : Permite reemplazar un valor con otro\n",
        "\n",
        "Veamos algunos ejemplos:"
      ]
    },
    {
      "cell_type": "code",
      "execution_count": null,
      "metadata": {
        "id": "juYjX8HT9uCP",
        "outputId": "93f5b2d2-7498-4997-d9ae-1959d604c2fb"
      },
      "outputs": [
        {
          "data": {
            "text/plain": [
              "'estoy en mayusculas!'"
            ]
          },
          "execution_count": 87,
          "metadata": {},
          "output_type": "execute_result"
        }
      ],
      "source": [
        "\"ESTOY EN MAYUSCULAS!\".lower()"
      ]
    },
    {
      "cell_type": "code",
      "execution_count": null,
      "metadata": {
        "id": "ALDUF7_D9uCQ",
        "outputId": "aa2a7929-3f8c-436d-a874-5f6d3cf4b00a"
      },
      "outputs": [
        {
          "data": {
            "text/plain": [
              "'vamos de fiesta!'"
            ]
          },
          "execution_count": 89,
          "metadata": {},
          "output_type": "execute_result"
        }
      ],
      "source": [
        "cadena = \"vamos de viaje!\"\n",
        "\n",
        "# cambiamos viaje por fiesta:\n",
        "cadena.replace(\"viaje\", \"fiesta\")"
      ]
    },
    {
      "cell_type": "markdown",
      "metadata": {
        "id": "_0zfNc-mu9Cc"
      },
      "source": [
        "## Otras funciones:\n",
        "Existen varias funciones precargadas en python puro, a continuación mostramos algunas que pueden resultarnos útiles:"
      ]
    },
    {
      "cell_type": "code",
      "execution_count": null,
      "metadata": {
        "id": "xj7xYd8t9uCR",
        "outputId": "32da10fe-e933-4f01-8588-1e2803a18cfa"
      },
      "outputs": [
        {
          "data": {
            "text/plain": [
              "2"
            ]
          },
          "execution_count": 51,
          "metadata": {},
          "output_type": "execute_result"
        }
      ],
      "source": [
        "# devuelve el valor máximo:\n",
        "max(1, 2)"
      ]
    },
    {
      "cell_type": "code",
      "execution_count": null,
      "metadata": {
        "id": "a6eZ_SAs9uCS",
        "outputId": "01f08b5b-1f23-413c-c2a6-2716b932e22f"
      },
      "outputs": [
        {
          "data": {
            "text/plain": [
              "-10"
            ]
          },
          "execution_count": 50,
          "metadata": {},
          "output_type": "execute_result"
        }
      ],
      "source": [
        "# devuelve el valor mínimo\n",
        "min(1, 5, -10)"
      ]
    },
    {
      "cell_type": "code",
      "execution_count": null,
      "metadata": {
        "id": "2YSZz9a19uCT",
        "outputId": "3252e2cc-11c5-4ce0-b267-bc737d6925f6"
      },
      "outputs": [
        {
          "data": {
            "text/plain": [
              "75"
            ]
          },
          "execution_count": 49,
          "metadata": {},
          "output_type": "execute_result"
        }
      ],
      "source": [
        "# valor absoluto\n",
        "abs(-75)"
      ]
    },
    {
      "cell_type": "code",
      "execution_count": null,
      "metadata": {
        "id": "mCAOb-Ty9uCU",
        "outputId": "9dcc7e11-843f-4c93-eb69-adce73b27024"
      },
      "outputs": [
        {
          "data": {
            "text/plain": [
              "6"
            ]
          },
          "execution_count": 54,
          "metadata": {},
          "output_type": "execute_result"
        }
      ],
      "source": [
        "# redondear\n",
        "round(5.88)"
      ]
    },
    {
      "cell_type": "code",
      "execution_count": null,
      "metadata": {
        "id": "P70AwUjb9uCV",
        "outputId": "c3db05f9-2e29-4cea-eb00-31e32c36e2b1"
      },
      "outputs": [
        {
          "data": {
            "text/plain": [
              "5.9"
            ]
          },
          "execution_count": 56,
          "metadata": {},
          "output_type": "execute_result"
        }
      ],
      "source": [
        "# redondear con una cifra decimal\n",
        "round(5.88, 1)"
      ]
    },
    {
      "cell_type": "markdown",
      "metadata": {
        "id": "tFFW7g3b9uCV"
      },
      "source": [
        "#### Comparar flotantes con `round()`\n",
        "\n",
        "Usando la función round() podemos comparar la igauldad dos flotantes de forma más segura"
      ]
    },
    {
      "cell_type": "code",
      "execution_count": null,
      "metadata": {
        "id": "gllq2ozK9uCW",
        "outputId": "c3f42fb7-a05a-4e06-fc96-cb839dbe315c"
      },
      "outputs": [
        {
          "data": {
            "text/plain": [
              "True"
            ]
          },
          "execution_count": 86,
          "metadata": {},
          "output_type": "execute_result"
        }
      ],
      "source": [
        "0.3 == round(0.4 - 0.1, 1)"
      ]
    },
    {
      "cell_type": "markdown",
      "metadata": {
        "id": "nJW1awe59uCX"
      },
      "source": [
        "## Importar Librerias\n",
        "\n",
        "Al instalar python también tenemos acceso a su biblioteca estandar. Dentro de esta biblioteca tenemos varios módulos y librerias (conjuntos de módulos) que vienen con sus propias funciones, tipos de datos y variables. A continuación mostramos dos modulos bastante útiles; `math` y `random`:\n",
        "\n",
        "Para utilizar un módulo usamos la palabra `import` seguida del nombre del módulo:\n",
        "\n",
        "```\n",
        "import <nombre-del-modulo>\n",
        "```\n",
        "\n",
        "### Módulo `math`\n",
        "\n",
        "El modulo math tiene cargadas muchas funciones matemáticas y algunas variables como pi.\n",
        "\n",
        "### Módulo `random`\n",
        "\n",
        "El módulo random nos permite generar números [\"pseudoaleatorios\" ](https://es.wikipedia.org/wiki/N%C3%BAmero_pseudoaleatorio#:~:text=Un%20n%C3%BAmero%20pseudoaleatorio%20es%20un,pero%20no%20lo%20hace%20realmente.). Estos son números que a fines practicos simular ser números aleatorios.\n",
        "\n",
        "### Estilo de Importación\n",
        "\n",
        "Hay diferentes formas de importar y usar un modulo\n"
      ]
    },
    {
      "cell_type": "code",
      "execution_count": null,
      "metadata": {
        "id": "dlxGyQq19uCY",
        "outputId": "8e796dde-f381-4c61-b323-660b782cfdbc"
      },
      "outputs": [
        {
          "data": {
            "text/plain": [
              "1.0"
            ]
          },
          "execution_count": 63,
          "metadata": {},
          "output_type": "execute_result"
        }
      ],
      "source": [
        "# Opción 1. Usar la notación de punto\n",
        "# Esta es la opción más sencilla. Luego de importar debemos usar un punto seguido del objeto que vayamos a utilizar\n",
        "import math\n",
        "\n",
        "# seno de pi/2:\n",
        "math.sin(math.pi/2)"
      ]
    },
    {
      "cell_type": "code",
      "execution_count": null,
      "metadata": {
        "id": "YDQQImaE9uCY",
        "outputId": "f470652b-ca2a-48a6-a1bf-039e33a38795"
      },
      "outputs": [
        {
          "data": {
            "text/plain": [
              "1.0"
            ]
          },
          "execution_count": 64,
          "metadata": {},
          "output_type": "execute_result"
        }
      ],
      "source": [
        "# Opción 2. Importar solo los elementos que vayamos a usar\n",
        "from math import sin, pi\n",
        "\n",
        "# seno de pi/2:\n",
        "sin(pi/2)"
      ]
    },
    {
      "cell_type": "code",
      "execution_count": null,
      "metadata": {
        "id": "52HJ3Iyr9uCa",
        "outputId": "6b8255bf-49e8-44fb-f1a8-44a8ba63c85f"
      },
      "outputs": [
        {
          "data": {
            "text/plain": [
              "1.0"
            ]
          },
          "execution_count": 68,
          "metadata": {},
          "output_type": "execute_result"
        }
      ],
      "source": [
        "# Opción 3. No muy recomendada, pero válida para casos particulares\n",
        "from math import *\n",
        "\n",
        "# seno de pi/2:\n",
        "sin(pi/2)\n",
        "# El problema de este método es que puede haber un conflicto entre dos o más módulos\n",
        "# Por lo tanto en caso de estar usando varios modulos o librerias no se recomienda usar\n",
        "# esta notación, ya que puede haber funciones con el mismo nombre en ambos lugares"
      ]
    },
    {
      "cell_type": "code",
      "execution_count": null,
      "metadata": {
        "id": "yUWEwCGA9uCb",
        "outputId": "b2384c9d-8155-402c-a6f2-31fc45d1abaa"
      },
      "outputs": [
        {
          "data": {
            "text/plain": [
              "1.0"
            ]
          },
          "execution_count": 66,
          "metadata": {},
          "output_type": "execute_result"
        }
      ],
      "source": [
        "# Opción 4. Usar un alias\n",
        "# Igual a la opçión 1 pero usando un alias o apodo para el nombre del modulo\n",
        "import math as m\n",
        "\n",
        "# seno de pi/2:\n",
        "m.sin(m.pi/2)"
      ]
    },
    {
      "cell_type": "markdown",
      "metadata": {
        "id": "giRmnVqT9uCc"
      },
      "source": [
        "Algunas funciones útiles en math son:\n",
        "\n",
        "`cos(x)` : coseno de x\n",
        "\n",
        "`sin(x)` : seno de x\n",
        "\n",
        "`log(x)` : logaritmo natural de x\n",
        "\n",
        "`log10(x)` : logaritmo base 10 de x\n",
        "\n",
        "`sqrt(x)` : raiz cuadrada de x\n",
        "\n",
        "`exp(x)` : e elevado a la x\n",
        "\n",
        "ver https://docs.python.org/es/3/library/math.html para más información."
      ]
    },
    {
      "cell_type": "code",
      "execution_count": null,
      "metadata": {
        "id": "Trwi_Skj9uCd",
        "outputId": "9819e9b3-6161-45c0-ec1c-a7b30a921ee1"
      },
      "outputs": [
        {
          "data": {
            "text/plain": [
              "0.9659202588640557"
            ]
          },
          "execution_count": 71,
          "metadata": {},
          "output_type": "execute_result"
        }
      ],
      "source": [
        "import random\n",
        "\n",
        "# la función random() devuelve un valor flotante aleatorio del intervalo semiabierto [0, 1)\n",
        "random.random()"
      ]
    },
    {
      "cell_type": "code",
      "execution_count": null,
      "metadata": {
        "id": "ofRKePro9uCe",
        "outputId": "e1a305d4-03d5-43eb-98ce-83609a84b222"
      },
      "outputs": [
        {
          "data": {
            "text/plain": [
              "1"
            ]
          },
          "execution_count": 73,
          "metadata": {},
          "output_type": "execute_result"
        }
      ],
      "source": [
        "a = 1\n",
        "b = 3\n",
        "\n",
        "# la función randint(a, b) devuelve un valor entre a y b (incluidos a y b)\n",
        "random.randint(a, b)"
      ]
    },
    {
      "cell_type": "markdown",
      "metadata": {
        "id": "Uv182Ee29uCe"
      },
      "source": [
        "Mas adelante veremos más funciones del módulo `random`"
      ]
    },
    {
      "cell_type": "code",
      "execution_count": null,
      "metadata": {
        "id": "fcF3bOPau1mI"
      },
      "outputs": [],
      "source": []
    }
  ],
  "metadata": {
    "colab": {
      "provenance": []
    },
    "kernelspec": {
      "display_name": "Python 3",
      "name": "python3"
    },
    "language_info": {
      "codemirror_mode": {
        "name": "ipython",
        "version": 3
      },
      "file_extension": ".py",
      "mimetype": "text/x-python",
      "name": "python",
      "nbconvert_exporter": "python",
      "pygments_lexer": "ipython3",
      "version": "3.11.2"
    }
  },
  "nbformat": 4,
  "nbformat_minor": 0
}