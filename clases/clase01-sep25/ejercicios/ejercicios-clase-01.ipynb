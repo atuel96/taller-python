{
 "cells": [
  {
   "cell_type": "markdown",
   "metadata": {},
   "source": [
    "# Ejercicios Primera Clase\n",
    "\n",
    "Cada ejercicio tiene una celda en blanco para que escriba su propio código. Puede crear celdas extras en caso de ser necesario, o simplemente por comodidad. Al momento de resolver los ejercicios utilice sus propias variables con nombres que ayuden a la comprensión del problema.\n",
    "\n",
    "## 1 - Cambio de Unidades\n",
    "\n",
    "Escriba un programa que pregunte al usuario por la temperatura en grados Celcius e imprima la temperatura equivalente en grados Farhenheit.\n",
    "\n",
    "$$ T [°F] = 32 + ( T[°C] \\cdot \\frac{9}{5}) $$\n",
    "\n",
    "Utilice sus propias variables.\n"
   ]
  },
  {
   "cell_type": "code",
   "execution_count": 2,
   "metadata": {},
   "outputs": [],
   "source": [
    "# Su código aquí."
   ]
  },
  {
   "cell_type": "markdown",
   "metadata": {},
   "source": [
    "## 2 - Altura Máxima \n",
    "\n",
    "Desde el suelo se lanza una pelota hacía arriba con rapidez $v_0$. Escriba un programa que pregunte al usuario el módulo de la velocidad inicial $v_0$ en metros sobre segundo e imprima en pantalla la altura máxima que alcanzaría la pelota en cm, con dos cifras significativas. \n",
    "\n",
    "Considere $g = 9.8 m/s^2$ y desprecie la interacción con el aire.\n"
   ]
  },
  {
   "cell_type": "code",
   "execution_count": 3,
   "metadata": {},
   "outputs": [],
   "source": [
    "# Su código aquí."
   ]
  }
 ],
 "metadata": {
  "kernelspec": {
   "display_name": "base",
   "language": "python",
   "name": "python3"
  },
  "language_info": {
   "codemirror_mode": {
    "name": "ipython",
    "version": 3
   },
   "file_extension": ".py",
   "mimetype": "text/x-python",
   "name": "python",
   "nbconvert_exporter": "python",
   "pygments_lexer": "ipython3",
   "version": "3.11.4"
  },
  "orig_nbformat": 4
 },
 "nbformat": 4,
 "nbformat_minor": 2
}
