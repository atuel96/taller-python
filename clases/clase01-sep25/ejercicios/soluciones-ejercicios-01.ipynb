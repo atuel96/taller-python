{
 "cells": [
  {
   "cell_type": "markdown",
   "metadata": {},
   "source": [
    "# Ejercicios Primera Clase\n",
    "\n",
    "Cada ejercicio tiene una celda en blanco para que escriba su propio código. Puede crear celdas extras en caso de ser necesario, o simplemente por comodidad. Al momento de resolver los ejercicios utilice sus propias variables con nombres que ayuden a la comprensión del problema.\n",
    "\n",
    "## 1 - Cambio de Unidades\n",
    "\n",
    "Escriba un programa que pregunte al usuario por la temperatura en grados Celcius e imprima la temperatura equivalente en grados Fahrenheit.\n",
    "\n",
    "$$ T [°F] = 32 + ( T[°C] \\cdot \\frac{9}{5}) $$\n",
    "\n",
    "Utilice sus propias variables.\n"
   ]
  },
  {
   "cell_type": "code",
   "execution_count": 3,
   "metadata": {
    "tags": []
   },
   "outputs": [
    {
     "name": "stdin",
     "output_type": "stream",
     "text": [
      "Ingrese una temperatura en °C : 37\n"
     ]
    },
    {
     "name": "stdout",
     "output_type": "stream",
     "text": [
      "37.0°C son 98.6°F\n"
     ]
    }
   ],
   "source": [
    "T_celcius = input(\"Ingrese una temperatura en °C :\")\n",
    "T_celcius = float(T_celcius)\n",
    "T_fahrenheit = 32 + (T_celcius*9/5)\n",
    "\n",
    "print(f\"{T_celcius}°C son {T_fahrenheit}°F\")"
   ]
  },
  {
   "cell_type": "markdown",
   "metadata": {},
   "source": [
    "## 2 - Altura Máxima \n",
    "\n",
    "Desde el suelo se lanza una pelota hacía arriba con rapidez $v_0$. Escriba un programa que pregunte al usuario el módulo de la velocidad inicial $v_0$ en metros sobre segundo e imprima en pantalla la altura máxima que alcanzaría la pelota en cm, con dos cifras significativas. \n",
    "\n",
    "Además el programa deberá imprimir un segundo mensaje que comunique al usuario si la altura máxima supera o no los 314.15 cm.\n",
    "\n",
    "\n",
    "Considere $g = 9.8 m/s^2$ y desprecie la interacción con el aire.\n"
   ]
  },
  {
   "cell_type": "markdown",
   "metadata": {},
   "source": [
    "### Resolución\n",
    "\n",
    "Usando el principio de conservación de la energía:\n",
    "\n",
    "$$ EC_i = EP_f $$\n",
    "$$ \\frac{1}{2}mv_0^2 = m g h_{max}$$\n",
    "$$ h_{max} = \\frac{v_0^2 }{2g} $$"
   ]
  },
  {
   "cell_type": "code",
   "execution_count": 13,
   "metadata": {},
   "outputs": [
    {
     "name": "stdin",
     "output_type": "stream",
     "text": [
      "Ingrese la rapidez inicial en m/s : 1\n"
     ]
    },
    {
     "name": "stdout",
     "output_type": "stream",
     "text": [
      "Si la rapidez inicial es 1.0 m/s², la altura máxima será 5.10 cm.\n",
      "La altura máxima no superó los 314.15 cm\n"
     ]
    }
   ],
   "source": [
    "g = 9.8 # m/s**2 \n",
    "h_ref = 314.15\n",
    "v0 = float(input(\"Ingrese la rapidez inicial en m/s :\"))\n",
    "\n",
    "# calculamos la altura máxima\n",
    "h_max = v0**2/(2*g) # hmax en metros\n",
    "h_max = h_max*10**2 # pasamos a cm\n",
    "\n",
    "print(f\"Si la rapidez inicial es {v0} m/s², la altura máxima será {h_max:.2f} cm.\")\n",
    "\n",
    "if h_max > h_ref:\n",
    "    print(f\"¡La altura máxima superó los {h_ref} cm!\")\n",
    "else:\n",
    "    print(f\"La altura máxima no superó los {h_ref} cm\")"
   ]
  },
  {
   "cell_type": "code",
   "execution_count": null,
   "metadata": {},
   "outputs": [],
   "source": []
  },
  {
   "cell_type": "code",
   "execution_count": 19,
   "metadata": {
    "tags": []
   },
   "outputs": [
    {
     "name": "stdin",
     "output_type": "stream",
     "text": [
      "esta manejando? (si/no) juluyuylt\n"
     ]
    },
    {
     "name": "stdout",
     "output_type": "stream",
     "text": [
      "False\n"
     ]
    }
   ],
   "source": [
    "i = input(\"esta manejando? (si/no)\")\n",
    "if i == \"si\":\n",
    "    manejando = True\n",
    "else:\n",
    "    manejando = False\n",
    "    \n",
    "print(manejando)\n",
    "    "
   ]
  },
  {
   "cell_type": "code",
   "execution_count": null,
   "metadata": {},
   "outputs": [],
   "source": []
  }
 ],
 "metadata": {
  "kernelspec": {
   "display_name": "Python 3 (ipykernel)",
   "language": "python",
   "name": "python3"
  },
  "language_info": {
   "codemirror_mode": {
    "name": "ipython",
    "version": 3
   },
   "file_extension": ".py",
   "mimetype": "text/x-python",
   "name": "python",
   "nbconvert_exporter": "python",
   "pygments_lexer": "ipython3",
   "version": "3.11.4"
  }
 },
 "nbformat": 4,
 "nbformat_minor": 4
}
