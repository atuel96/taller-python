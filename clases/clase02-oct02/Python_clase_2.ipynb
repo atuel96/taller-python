{
  "cells": [
    {
      "cell_type": "markdown",
      "metadata": {
        "id": "dEcUXPW49t_3"
      },
      "source": [
        "# Python Clase 2\n",
        "\n",
        "## Contenido de este Notebook\n",
        "\n",
        "En este notebook trataremos los siguientes temas:\n",
        "\n",
        "* Control de Flujo con bloques if-else\n",
        "* Métodos de Strings\n",
        "* Importar Modulos Externos\n",
        "* Estructuras de Datos"
      ]
    },
    {
      "cell_type": "markdown",
      "metadata": {
        "id": "tQ0YYai5vuXp"
      },
      "source": [
        "## Strings con formato\n",
        "\n",
        "Las strings con formato nos permiten colocar variables dentro de una string.\n",
        "\n",
        "Supongamos que queremos imprimir un mensaje del tipo:\n",
        "\n",
        "\"Hola Juan!\"\n",
        "\n",
        "pero no queremos saludar siempre a Juan, sino a una persona genérica."
      ]
    },
    {
      "cell_type": "code",
      "execution_count": null,
      "metadata": {
        "id": "vblmcKeihgct",
        "outputId": "a594a7aa-0ea4-424f-f991-cd4b1b41edfc"
      },
      "outputs": [
        {
          "name": "stdout",
          "output_type": "stream",
          "text": [
            "Hola Blas !\n",
            "Hola Blas!\n"
          ]
        }
      ],
      "source": [
        "# Una opción es realizar una concatenación de strings:\n",
        "nombre = \"Blas\"\n",
        "print(\"Hola \" + nombre + \"!\")\n",
        "\n",
        "# Pero la alternativa más cómoda es utilizar f-strings:\n",
        "nombre = \"Blas\"\n",
        "print(f\"Hola {nombre}!\")"
      ]
    },
    {
      "cell_type": "markdown",
      "metadata": {
        "id": "Rbdn2l479uCM"
      },
      "source": [
        "las f-strings empiezan con una letra **f** situada justo antes de las comillas. Luego las variables se colocan entre dos llaves {}"
      ]
    },
    {
      "cell_type": "code",
      "execution_count": null,
      "metadata": {
        "colab": {
          "base_uri": "https://localhost:8080/"
        },
        "id": "0zVosBBVvy4N",
        "outputId": "b2554ea6-a62f-4595-9f54-20d7972cd04c"
      },
      "outputs": [
        {
          "name": "stdout",
          "output_type": "stream",
          "text": [
            "hay 5 botellas en el patio\n"
          ]
        }
      ],
      "source": [
        "# otro ejemplo\n",
        "numero = 5\n",
        "objeto = \"botellas\"\n",
        "lugar = \"patio\"\n",
        "\n",
        "mensaje = f\"hay {numero} {objeto} en el {lugar}\" # probar sacar la f delante de la string y ejecutar\n",
        "print(mensaje)"
      ]
    },
    {
      "cell_type": "markdown",
      "metadata": {
        "id": "Azq7eswG9uCN"
      },
      "source": [
        "Dentro de una f-string también podemos dar formato a los números que vayamos a imprimir en pantalla"
      ]
    },
    {
      "cell_type": "code",
      "execution_count": null,
      "metadata": {
        "colab": {
          "base_uri": "https://localhost:8080/"
        },
        "id": "wdqZxCZLwWZt",
        "outputId": "2effc7cb-912e-420a-f4aa-64738b1a313e"
      },
      "outputs": [
        {
          "name": "stdout",
          "output_type": "stream",
          "text": [
            "31.311\n",
            "31.3\n",
            "3.13e+01\n"
          ]
        }
      ],
      "source": [
        "num = 31.311\n",
        "\n",
        "print(f\"{num:.3f}\") # número con formato flotante, con tres cifras luego de la coma\n",
        "print(f\"{num:.1f}\") # una cifra luego de la coma\n",
        "print(f\"{num:.2e}\") # notación exponencial, con 2 cifras luego e la coma"
      ]
    },
    {
      "cell_type": "markdown",
      "metadata": {
        "id": "jUyVSVmv9uCO"
      },
      "source": [
        "## Métodos de Strings\n",
        "\n",
        "Los métodos son funciones que pertenecen a un objeto. Para acceder a un método tenemos que partir desde el objeto usando la notación de punto:\n",
        "\n",
        "`string.metodo()`\n",
        "\n",
        "Algunos métodos utiles para las strings son:\n",
        "\n",
        "* `upper()` : Devuelve la string en mayúsculas\n",
        "* `lower()` : Devuelve la string en minúsculas\n",
        "* `strip()` : Devuelve la string sin espacios al final ni al inicio\n",
        "* `title()` : Devuelve una string con cada primer letra en mayúscucla\n",
        "* `replace()` : Permite reemplazar un valor con otro\n",
        "\n",
        "Veamos algunos ejemplos:"
      ]
    },
    {
      "cell_type": "code",
      "execution_count": null,
      "metadata": {
        "id": "juYjX8HT9uCP",
        "outputId": "93f5b2d2-7498-4997-d9ae-1959d604c2fb"
      },
      "outputs": [
        {
          "data": {
            "text/plain": [
              "'estoy en mayusculas!'"
            ]
          },
          "execution_count": 87,
          "metadata": {},
          "output_type": "execute_result"
        }
      ],
      "source": [
        "\"ESTOY EN MAYUSCULAS!\".lower()"
      ]
    },
    {
      "cell_type": "code",
      "execution_count": null,
      "metadata": {
        "id": "ALDUF7_D9uCQ",
        "outputId": "aa2a7929-3f8c-436d-a874-5f6d3cf4b00a"
      },
      "outputs": [
        {
          "data": {
            "text/plain": [
              "'vamos de fiesta!'"
            ]
          },
          "execution_count": 89,
          "metadata": {},
          "output_type": "execute_result"
        }
      ],
      "source": [
        "cadena = \"vamos de viaje!\"\n",
        "\n",
        "# cambiamos viaje por fiesta:\n",
        "cadena.replace(\"viaje\", \"fiesta\")"
      ]
    },
    {
      "cell_type": "markdown",
      "metadata": {
        "id": "_0zfNc-mu9Cc"
      },
      "source": [
        "## Otras funciones:\n",
        "Existen varias funciones precargadas en python puro, a continuación mostramos algunas que pueden resultarnos útiles:"
      ]
    },
    {
      "cell_type": "code",
      "execution_count": null,
      "metadata": {
        "id": "xj7xYd8t9uCR",
        "outputId": "32da10fe-e933-4f01-8588-1e2803a18cfa"
      },
      "outputs": [
        {
          "data": {
            "text/plain": [
              "2"
            ]
          },
          "execution_count": 51,
          "metadata": {},
          "output_type": "execute_result"
        }
      ],
      "source": [
        "# devuelve el valor máximo:\n",
        "max(1, 2)"
      ]
    },
    {
      "cell_type": "code",
      "execution_count": null,
      "metadata": {
        "id": "a6eZ_SAs9uCS",
        "outputId": "01f08b5b-1f23-413c-c2a6-2716b932e22f"
      },
      "outputs": [
        {
          "data": {
            "text/plain": [
              "-10"
            ]
          },
          "execution_count": 50,
          "metadata": {},
          "output_type": "execute_result"
        }
      ],
      "source": [
        "# devuelve el valor mínimo\n",
        "min(1, 5, -10)"
      ]
    },
    {
      "cell_type": "code",
      "execution_count": null,
      "metadata": {
        "id": "2YSZz9a19uCT",
        "outputId": "3252e2cc-11c5-4ce0-b267-bc737d6925f6"
      },
      "outputs": [
        {
          "data": {
            "text/plain": [
              "75"
            ]
          },
          "execution_count": 49,
          "metadata": {},
          "output_type": "execute_result"
        }
      ],
      "source": [
        "# valor absoluto\n",
        "abs(-75)"
      ]
    },
    {
      "cell_type": "code",
      "execution_count": null,
      "metadata": {
        "id": "mCAOb-Ty9uCU",
        "outputId": "9dcc7e11-843f-4c93-eb69-adce73b27024"
      },
      "outputs": [
        {
          "data": {
            "text/plain": [
              "6"
            ]
          },
          "execution_count": 54,
          "metadata": {},
          "output_type": "execute_result"
        }
      ],
      "source": [
        "# redondear\n",
        "round(5.88)"
      ]
    },
    {
      "cell_type": "code",
      "execution_count": null,
      "metadata": {
        "id": "P70AwUjb9uCV",
        "outputId": "c3db05f9-2e29-4cea-eb00-31e32c36e2b1"
      },
      "outputs": [
        {
          "data": {
            "text/plain": [
              "5.9"
            ]
          },
          "execution_count": 56,
          "metadata": {},
          "output_type": "execute_result"
        }
      ],
      "source": [
        "# redondear con una cifra decimal\n",
        "round(5.88, 1)"
      ]
    },
    {
      "cell_type": "markdown",
      "metadata": {
        "id": "tFFW7g3b9uCV"
      },
      "source": [
        "#### Comparar flotantes con `round()`\n",
        "\n",
        "Usando la función round() podemos comparar la igauldad dos flotantes de forma más segura"
      ]
    },
    {
      "cell_type": "code",
      "execution_count": null,
      "metadata": {
        "id": "gllq2ozK9uCW",
        "outputId": "c3f42fb7-a05a-4e06-fc96-cb839dbe315c"
      },
      "outputs": [
        {
          "data": {
            "text/plain": [
              "True"
            ]
          },
          "execution_count": 86,
          "metadata": {},
          "output_type": "execute_result"
        }
      ],
      "source": [
        "0.3 == round(0.4 - 0.1, 1)"
      ]
    },
    {
      "cell_type": "markdown",
      "metadata": {
        "id": "nJW1awe59uCX"
      },
      "source": [
        "## Importar Librerias\n",
        "\n",
        "Al instalar python también tenemos acceso a su biblioteca estandar. Dentro de esta biblioteca tenemos varios módulos y librerias (conjuntos de módulos) que vienen con sus propias funciones, tipos de datos y variables. A continuación mostramos dos modulos bastante útiles; `math` y `random`:\n",
        "\n",
        "Para utilizar un módulo usamos la palabra `import` seguida del nombre del módulo:\n",
        "\n",
        "```\n",
        "import <nombre-del-modulo>\n",
        "```\n",
        "\n",
        "### Módulo `math`\n",
        "\n",
        "El modulo math tiene cargadas muchas funciones matemáticas y algunas variables como pi.\n",
        "\n",
        "### Módulo `random`\n",
        "\n",
        "El módulo random nos permite generar números [\"pseudoaleatorios\" ](https://es.wikipedia.org/wiki/N%C3%BAmero_pseudoaleatorio#:~:text=Un%20n%C3%BAmero%20pseudoaleatorio%20es%20un,pero%20no%20lo%20hace%20realmente.). Estos son números que a fines practicos simular ser números aleatorios.\n",
        "\n",
        "### Estilo de Importación\n",
        "\n",
        "Hay diferentes formas de importar y usar un modulo\n"
      ]
    },
    {
      "cell_type": "code",
      "execution_count": null,
      "metadata": {
        "id": "dlxGyQq19uCY",
        "outputId": "8e796dde-f381-4c61-b323-660b782cfdbc"
      },
      "outputs": [
        {
          "data": {
            "text/plain": [
              "1.0"
            ]
          },
          "execution_count": 63,
          "metadata": {},
          "output_type": "execute_result"
        }
      ],
      "source": [
        "# Opción 1. Usar la notación de punto\n",
        "# Esta es la opción más sencilla. Luego de importar debemos usar un punto seguido del objeto que vayamos a utilizar\n",
        "import math\n",
        "\n",
        "# seno de pi/2:\n",
        "math.sin(math.pi/2)"
      ]
    },
    {
      "cell_type": "code",
      "execution_count": null,
      "metadata": {
        "id": "YDQQImaE9uCY",
        "outputId": "f470652b-ca2a-48a6-a1bf-039e33a38795"
      },
      "outputs": [
        {
          "data": {
            "text/plain": [
              "1.0"
            ]
          },
          "execution_count": 64,
          "metadata": {},
          "output_type": "execute_result"
        }
      ],
      "source": [
        "# Opción 2. Importar solo los elementos que vayamos a usar\n",
        "from math import sin, pi\n",
        "\n",
        "# seno de pi/2:\n",
        "sin(pi/2)"
      ]
    },
    {
      "cell_type": "code",
      "execution_count": null,
      "metadata": {
        "id": "52HJ3Iyr9uCa",
        "outputId": "6b8255bf-49e8-44fb-f1a8-44a8ba63c85f"
      },
      "outputs": [
        {
          "data": {
            "text/plain": [
              "1.0"
            ]
          },
          "execution_count": 68,
          "metadata": {},
          "output_type": "execute_result"
        }
      ],
      "source": [
        "# Opción 3. No muy recomendada, pero válida para casos particulares\n",
        "from math import *\n",
        "\n",
        "# seno de pi/2:\n",
        "sin(pi/2)\n",
        "# El problema de este método es que puede haber un conflicto entre dos o más módulos\n",
        "# Por lo tanto en caso de estar usando varios modulos o librerias no se recomienda usar\n",
        "# esta notación, ya que puede haber funciones con el mismo nombre en ambos lugares"
      ]
    },
    {
      "cell_type": "code",
      "execution_count": null,
      "metadata": {
        "id": "yUWEwCGA9uCb",
        "outputId": "b2384c9d-8155-402c-a6f2-31fc45d1abaa"
      },
      "outputs": [
        {
          "data": {
            "text/plain": [
              "1.0"
            ]
          },
          "execution_count": 66,
          "metadata": {},
          "output_type": "execute_result"
        }
      ],
      "source": [
        "# Opción 4. Usar un alias\n",
        "# Igual a la opçión 1 pero usando un alias o apodo para el nombre del modulo\n",
        "import math as m\n",
        "\n",
        "# seno de pi/2:\n",
        "m.sin(m.pi/2)"
      ]
    },
    {
      "cell_type": "markdown",
      "metadata": {
        "id": "giRmnVqT9uCc"
      },
      "source": [
        "Algunas funciones útiles en math son:\n",
        "\n",
        "`cos(x)` : coseno de x\n",
        "\n",
        "`sin(x)` : seno de x\n",
        "\n",
        "`log(x)` : logaritmo natural de x\n",
        "\n",
        "`log10(x)` : logaritmo base 10 de x\n",
        "\n",
        "`sqrt(x)` : raiz cuadrada de x\n",
        "\n",
        "`exp(x)` : e elevado a la x\n",
        "\n",
        "ver https://docs.python.org/es/3/library/math.html para más información."
      ]
    },
    {
      "cell_type": "code",
      "execution_count": null,
      "metadata": {
        "id": "Trwi_Skj9uCd",
        "outputId": "9819e9b3-6161-45c0-ec1c-a7b30a921ee1"
      },
      "outputs": [
        {
          "data": {
            "text/plain": [
              "0.9659202588640557"
            ]
          },
          "execution_count": 71,
          "metadata": {},
          "output_type": "execute_result"
        }
      ],
      "source": [
        "import random\n",
        "\n",
        "# la función random() devuelve un valor flotante aleatorio del intervalo semiabierto [0, 1)\n",
        "random.random()"
      ]
    },
    {
      "cell_type": "code",
      "execution_count": null,
      "metadata": {
        "id": "ofRKePro9uCe",
        "outputId": "e1a305d4-03d5-43eb-98ce-83609a84b222"
      },
      "outputs": [
        {
          "data": {
            "text/plain": [
              "1"
            ]
          },
          "execution_count": 73,
          "metadata": {},
          "output_type": "execute_result"
        }
      ],
      "source": [
        "a = 1\n",
        "b = 3\n",
        "\n",
        "# la función randint(a, b) devuelve un valor entre a y b (incluidos a y b)\n",
        "random.randint(a, b)"
      ]
    },
    {
      "cell_type": "markdown",
      "metadata": {
        "id": "Uv182Ee29uCe"
      },
      "source": [
        "Mas adelante veremos más funciones del módulo `random`"
      ]
    },
    {
      "cell_type": "markdown",
      "metadata": {},
      "source": [
        "## Estructuras de Datos\n",
        "\n",
        "Aparte de los tipos básicos mencionados en la primera notebook, python cuenta con algunas estructuras de datos bastante útiles.\n",
        "\n",
        "### Listas\n",
        "\n",
        "Podemos pensar a una lista simplemente como un grupo de objetos.\n",
        "\n",
        "Para denotar que estamos creando una lista utilizamos corchetes y separamos sus elementos con una coma:\n",
        "\n",
        "`lista = [objeto_1, objeto_2, objeto_3]`\n",
        "\n"
      ]
    },
    {
      "cell_type": "code",
      "execution_count": 1,
      "metadata": {
        "id": "fcF3bOPau1mI"
      },
      "outputs": [
        {
          "data": {
            "text/plain": [
              "list"
            ]
          },
          "execution_count": 1,
          "metadata": {},
          "output_type": "execute_result"
        }
      ],
      "source": [
        "# Ejemplo\n",
        "mi_lista = [1, 1, 2, 3, 5, 8, 13]\n",
        "type(mi_lista)"
      ]
    },
    {
      "cell_type": "markdown",
      "metadata": {},
      "source": [
        "Cada elemento de la lista puede ser de un tipo diferente.\n",
        "\n",
        "Para acceder a cada objeto usamos la siguiente notación:\n",
        "\n",
        "* `lista[0]` : nos devuelve el primer elemento **(Sí, el 0 es el primer elemento)**\n",
        "* `lista[1]` : nos devuelve el segundo elemento\n",
        "* `lista[2]` : nos devuelve el segundo elemento\n",
        "* Etcetera"
      ]
    },
    {
      "cell_type": "code",
      "execution_count": 2,
      "metadata": {},
      "outputs": [],
      "source": [
        "# EJERCICIO\n",
        "\n",
        "# Dada la siguiente lista:\n",
        "lista = [\"perro\", 5, True]\n",
        "\n",
        "# imprima el segundo elemento:"
      ]
    },
    {
      "cell_type": "markdown",
      "metadata": {},
      "source": [
        "También podemos obtener los últimos elementos de la siguiente forma:\n",
        "\n",
        "* `lista[-1]` : nos devuelve el último elemento\n",
        "* `lista[-2]` : nos devuelve el penúltimo elemento\n",
        "* `lista[-3]` : nos devuelve el antepenúltimo elemento\n",
        "* Etcetera"
      ]
    },
    {
      "cell_type": "code",
      "execution_count": 3,
      "metadata": {},
      "outputs": [],
      "source": [
        "# EJERCICIO\n",
        "\n",
        "# Dada la siguiente lista:\n",
        "lista = [\"perro\", 5, True]\n",
        "\n",
        "# Imprima el último elemento"
      ]
    },
    {
      "cell_type": "code",
      "execution_count": 4,
      "metadata": {},
      "outputs": [],
      "source": [
        "# EJERCICIO\n",
        "\n",
        "# Dada la siguiente lista:\n",
        "lista = [\"perro\", 5, True]\n",
        "\n",
        "# Intente imprimir el quinto elemento (que no existe)"
      ]
    },
    {
      "cell_type": "markdown",
      "metadata": {},
      "source": [
        "Cuando intentemos acceder a un elemento fuera del rango de la lista obtendremos el error **IndexError**."
      ]
    },
    {
      "cell_type": "code",
      "execution_count": 5,
      "metadata": {},
      "outputs": [
        {
          "name": "stdout",
          "output_type": "stream",
          "text": [
            "dos\n",
            "uno\n",
            "tres\n",
            "dos\n"
          ]
        }
      ],
      "source": [
        "# Ejemplo\n",
        "lista = [\"uno\", \"dos\", \"tres\"]\n",
        "\n",
        "print(lista[1]) # segundo elemento de la lista\n",
        "print(lista[0]) # primer elemento de la lista\n",
        "print(lista[-1]) # el -1 nos dirige al último elemento de la lista\n",
        "print(lista[-2]) # el -2 es el antepenúltimo elemento, en este caso el elemento -2 y el 1 son el mismo"
      ]
    },
    {
      "cell_type": "markdown",
      "metadata": {},
      "source": [
        "#### Función `len()`\n",
        "\n",
        "Esta función nos permite saber cuantos elementos hay en una lista"
      ]
    },
    {
      "cell_type": "code",
      "execution_count": 7,
      "metadata": {},
      "outputs": [
        {
          "data": {
            "text/plain": [
              "3"
            ]
          },
          "execution_count": 7,
          "metadata": {},
          "output_type": "execute_result"
        }
      ],
      "source": [
        "len([1, 2, 3])"
      ]
    },
    {
      "cell_type": "markdown",
      "metadata": {},
      "source": [
        "#### Cambiando elementos de una lista\n",
        "\n",
        "Usando la notación de corchetes no solo podemos acceder a un elemento de la lista, sino que podemos modificarlo también"
      ]
    },
    {
      "cell_type": "code",
      "execution_count": 8,
      "metadata": {},
      "outputs": [
        {
          "name": "stdout",
          "output_type": "stream",
          "text": [
            "[99, 1, 0, 1]\n"
          ]
        }
      ],
      "source": [
        "lista = [0, 1, 0, 1]\n",
        "lista[0] = 99   # Cambio el primer elemento a 99\n",
        "print(lista)"
      ]
    },
    {
      "cell_type": "markdown",
      "metadata": {},
      "source": [
        "#### Agregando elementos a una lista\n",
        "\n",
        "Muchas veces vamos a querer agregar elementos a una lista a lo largo de nuestro programa.\n",
        "\n",
        "Al igual que las strings o cadenas, las listas tienen métodos (funciones) que nos serán de ayuda:\n",
        "\n",
        "* `append()` Agrega un elemento al final de la lista.\n",
        "* `clear()` Borra todo el contenido de la lista\n",
        "* `copy()` Regresa una copia de la lista\n",
        "* `count()` Regresa el número de veces que aparece un dado elemento\n",
        "* `index()` Regresa el índice de un dado elemento.\n",
        "* `pop()` Quita el elemento a la posición indicada y devulve ese elemento.\n",
        "* `remove()` Quita un elemento de la lista.\n",
        "* `reverse()` Invierte el orden de al lista\n",
        "* `sort()` Ordena la lista\n",
        "  \n",
        "Veamos algunos ejemplos"
      ]
    },
    {
      "cell_type": "code",
      "execution_count": 9,
      "metadata": {},
      "outputs": [
        {
          "name": "stdout",
          "output_type": "stream",
          "text": [
            "['uno', 'dos', 'tres', 'cuatro', 'cinco']\n",
            "['uno', 'tres', 'cuatro', 'cinco']\n",
            "['tres', 'cuatro', 'cinco']\n"
          ]
        }
      ],
      "source": [
        "# Como usar append\n",
        "lista = [\"uno\", \"dos\", \"tres\"]\n",
        "lista.append(\"cuatro\")\n",
        "lista.append(\"cinco\")\n",
        "\n",
        "print(lista)\n",
        "\n",
        "lista.pop(1)    # elimino el segundo elemento de la lista\n",
        "print(lista)\n",
        "\n",
        "lista.remove(\"uno\") # elimino el primer elemento que tenga un valor \"uno\"\n",
        "print(lista)"
      ]
    },
    {
      "cell_type": "markdown",
      "metadata": {},
      "source": [
        "#### Copiando una lista\n",
        "\n",
        "Puede parecer raro que exista un método para copiar una lista.\n",
        "\n",
        "Para entender por qué es útil este método hagamos una prueba:"
      ]
    },
    {
      "cell_type": "code",
      "execution_count": 10,
      "metadata": {},
      "outputs": [
        {
          "name": "stdout",
          "output_type": "stream",
          "text": [
            "[1, 2, 3]\n",
            "[1, 2, 3]\n"
          ]
        }
      ],
      "source": [
        "# Vamos a hacer una lista, y luego a intentar copiarla de la siguiente manera:\n",
        "lista_a = [1, 2, 3]\n",
        "lista_b = lista_a\n",
        "\n",
        "print(lista_a)\n",
        "print(lista_b)"
      ]
    },
    {
      "cell_type": "code",
      "execution_count": 11,
      "metadata": {},
      "outputs": [],
      "source": [
        "# EJERCICIO\n",
        "\n",
        "# Modificar el primer elemento de la lista_b\n",
        "# Luego imprimir nuevamente ambas listas\n",
        "\n",
        "lista_a = [1, 2, 3]\n",
        "lista_b = lista_a"
      ]
    },
    {
      "cell_type": "code",
      "execution_count": 12,
      "metadata": {},
      "outputs": [
        {
          "name": "stdout",
          "output_type": "stream",
          "text": [
            "6\n",
            "5\n"
          ]
        }
      ],
      "source": [
        "# Veamos una situación similar con enteros:\n",
        "a = 5\n",
        "b = a\n",
        "\n",
        "# actualizo mi variable a\n",
        "a = a + 1\n",
        "\n",
        "# afecté a mi variable b?\n",
        "print(a)\n",
        "print(b)"
      ]
    },
    {
      "cell_type": "markdown",
      "metadata": {},
      "source": [
        "Todo parece funcionar correctamente hasta que modificamos una de las listas.\n",
        "\n",
        "Esto ocurre porque en python tenemos básicamente dos tipos de objetos, los mutables y los inmutables.\n",
        "Los tipos de datos como `int, float, str, bool` son inmutables, mientras que las listas son mutables.\n",
        "\n",
        "Cuando planteemos esta situación:\n",
        "\n",
        "Cuando le asignamos un objeto a una variable, por ejemplo `a = 5`, el objeto `5` existe en la memoria de nuestra computadora, y la variable a nos conduce hacia este objeto.\n",
        "Luego con `b = a` no estamos creando un nuevo objeto, sino que ahora tenemos dos variables apuntado al mismo objeto, el `5`.\n",
        "\n",
        "\n",
        "Si después escribimos `a = a + 1` parecería que estamos modificando nuestro objeto, que el `5` pasa a ser un `6`, pero realmente el `6` es otro objeto totalmente diferente, que ocupa otro lugar en la memoria. Como dijimos arriba, este tipo de objetos son inmutables.\n",
        "\n",
        "En el caso de las listas (y otras estructuras de datos que veremos más adelante) sí estamos modificando a nuestro objeto, por lo tanto en el momento en el que tenemos a dos variables apuntando a la misma lista, podemos modificar el mismo objeto desde cualquiera de las dos variables.\n",
        "\n",
        "Por esta razon existe el método `copy()`, que básicamente crea otro objeto idéntico en la memoria, de forma que ahora cada variable pueda apuntar a un objeto diferente. Veamos un ejemplo:"
      ]
    },
    {
      "cell_type": "code",
      "execution_count": 13,
      "metadata": {},
      "outputs": [
        {
          "name": "stdout",
          "output_type": "stream",
          "text": [
            "[1, 2, 3]\n",
            "[-55, 2, 3]\n"
          ]
        }
      ],
      "source": [
        "lista_a = [1, 2, 3]\n",
        "lista_b = lista_a.copy()\n",
        "\n",
        "lista_b[0] = -55\n",
        "\n",
        "print(lista_a)\n",
        "print(lista_b)"
      ]
    },
    {
      "cell_type": "markdown",
      "metadata": {},
      "source": [
        "#### Las cadenas son inmutables\n",
        "\n",
        "Una string es una cadena de caracteres, es decir, es como una lista de caracteres.\n",
        "\n",
        "Veamos que pasa si usamos la notación de corchetes en una string"
      ]
    },
    {
      "cell_type": "code",
      "execution_count": 14,
      "metadata": {},
      "outputs": [],
      "source": [
        "# EJERCICIO\n",
        "\n",
        "cadena = \"Soy una cadena\"\n",
        "\n",
        "# Intente acceder al primer y último elemento de la cadena usando la notación de corchetes"
      ]
    },
    {
      "cell_type": "code",
      "execution_count": 15,
      "metadata": {},
      "outputs": [],
      "source": [
        "# EJERCICIO\n",
        "\n",
        "cadena = \"Soy una cadena\"\n",
        "\n",
        "# Ahora utilice la notación de corchetes para intentar cambiar un elemento"
      ]
    },
    {
      "cell_type": "markdown",
      "metadata": {},
      "source": [
        "Si intentamos modificar un elemento de la cadena obtendremos un error de tipo **TypeError**, indicandonos que no podemos asignar items.\n",
        "\n",
        "Esto es porque las cadenas, a diferencia de las listas, y al igual que los enteros y los flotantes, son inmutables (el método `replace()` crea una nueva cadena, no la modifica)"
      ]
    },
    {
      "cell_type": "markdown",
      "metadata": {},
      "source": [
        "#### Rebanar Listas (Slices)\n",
        "\n",
        "Con la notación de corchetes también podemos acceder a \"rebanadas\" de la lista de la siguiente forma:\n",
        "\n",
        "`lista[ inicio : fin : salto ]`\n",
        "\n",
        "donde `inicio` y `fin` son índices, y `salto` es opcional y por defecto igual a 1. El elemento del índice `inicio` se incluye en la lista resultante, mientras que el índice `fin` no se incluye en la lista resultante. La lista resultante es un objeto diferente, por lo tanto modificar esta lista no afecta a la lista original"
      ]
    },
    {
      "cell_type": "code",
      "execution_count": 16,
      "metadata": {},
      "outputs": [
        {
          "name": "stdout",
          "output_type": "stream",
          "text": [
            "[2, 3]\n",
            "[1, 2, 3, 4]\n",
            "[1, 3, 5]\n"
          ]
        }
      ],
      "source": [
        "lista = [1, 2, 3, 4, 5, 6, 7]\n",
        "\n",
        "print(lista[1:3]) # desde el segundo al tercer elemento\n",
        "print(lista[0:4]) # Desde el primer al cuarto elemento\n",
        "print(lista[0:5:2]) # Desde el primer al quinto elemento, salteando un elemento"
      ]
    },
    {
      "cell_type": "markdown",
      "metadata": {},
      "source": [
        "Vimos que no es necesario dar un valor para `salto`.\n",
        "\n",
        "Ocurre algo similar con los índices de inicio y fin.\n",
        "\n",
        "Dejar vacío el inicio equivale a un 0, mientrsa que dejar vacío el fin equivale a colocar el tamaño de la lista\n",
        "\n",
        "* `lista[:1] == lista[0:1]`\n",
        "* `lista[1:] == lista[1:len(lista)]`\n",
        "\n",
        "También podemos dejar ambos vacíos, realizando una copia de toda la lista:\n",
        "\n",
        "* `lista[:] == lista`\n",
        "\n",
        "Y por último, podemos dejar los dos índices vacíos, pero indicar el `salto`:\n",
        "\n",
        "* `lista[::salto]`"
      ]
    },
    {
      "cell_type": "code",
      "execution_count": 17,
      "metadata": {},
      "outputs": [
        {
          "data": {
            "text/plain": [
              "[1, 3, 5, 7]"
            ]
          },
          "execution_count": 17,
          "metadata": {},
          "output_type": "execute_result"
        }
      ],
      "source": [
        "# Ejemplo\n",
        "\n",
        "lista = [1, 2, 3, 4, 5, 6, 7]\n",
        "lista[::2]"
      ]
    },
    {
      "cell_type": "markdown",
      "metadata": {},
      "source": [
        "### Diccionarios\n",
        "\n",
        "Los diccionarios son una estrucutra que guarda pares de elementos; donde cada llave, o `key`, tiene asociado un valor, o `value`.\n",
        "\n",
        "Para crear un diccionario utilizamos llaves `{}`, y colocamos los pares `key:value` separados por comas:\n",
        "\n",
        "`diccionario = {key_1 : value_1, key_2 : value_2}`\n",
        "\n",
        "luego podemos acceder a los diferentes valores a partir de las llaves con la notación de corchetes:\n",
        "\n",
        "`diccionario[key_1] == value_1`\n",
        "\n",
        "Si `key_1` es una cadena sin espacios ni números se puede usar una notación de punto también:\n",
        "\n",
        "`diccionario.key_1 == diccionario[key_1] == value_1`"
      ]
    },
    {
      "cell_type": "code",
      "execution_count": 18,
      "metadata": {},
      "outputs": [
        {
          "name": "stdout",
          "output_type": "stream",
          "text": [
            "Gustavo sacó un 8\n"
          ]
        }
      ],
      "source": [
        "# ejemplo\n",
        "notas = {\"Gustavo\" : 8, \"Matías\" : 9, \"Gloria\" : 10}\n",
        "\n",
        "print(f\"Gustavo sacó un {notas['Gustavo']}\")    \n",
        "# notar que se tuvo que usar diferentes comillas"
      ]
    },
    {
      "cell_type": "markdown",
      "metadata": {},
      "source": [
        "### Tuplas (_tuples_)\n",
        "\n",
        "Una tupla es similar a una lista, pero sus elementos son inalterables.\n",
        "\n",
        "Para las tuplas podemos usar paréntesis:"
      ]
    },
    {
      "cell_type": "code",
      "execution_count": 19,
      "metadata": {},
      "outputs": [
        {
          "name": "stdout",
          "output_type": "stream",
          "text": [
            "(81, 2, 3, 1, 2, 1)\n"
          ]
        }
      ],
      "source": [
        "tup_a = (81, 2, 3, 1, 2, 1)\n",
        "\n",
        "print(tup_a)"
      ]
    },
    {
      "cell_type": "markdown",
      "metadata": {},
      "source": [
        "Realmente no necesitamos utilizar paréntesis, ya que al colocar elementos separados por una coma obtendremos por defecto una tupla:"
      ]
    },
    {
      "cell_type": "code",
      "execution_count": 20,
      "metadata": {},
      "outputs": [
        {
          "data": {
            "text/plain": [
              "tuple"
            ]
          },
          "execution_count": 20,
          "metadata": {},
          "output_type": "execute_result"
        }
      ],
      "source": [
        "tupla = 1, 2, 3\n",
        "\n",
        "type(tupla)"
      ]
    },
    {
      "cell_type": "markdown",
      "metadata": {},
      "source": []
    }
  ],
  "metadata": {
    "colab": {
      "provenance": []
    },
    "kernelspec": {
      "display_name": "Python 3",
      "name": "python3"
    },
    "language_info": {
      "codemirror_mode": {
        "name": "ipython",
        "version": 3
      },
      "file_extension": ".py",
      "mimetype": "text/x-python",
      "name": "python",
      "nbconvert_exporter": "python",
      "pygments_lexer": "ipython3",
      "version": "3.11.2"
    }
  },
  "nbformat": 4,
  "nbformat_minor": 0
}
