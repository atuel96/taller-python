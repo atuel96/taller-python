{
 "cells": [
  {
   "cell_type": "markdown",
   "metadata": {},
   "source": [
    "# Ejercicios Segunda Clase\n",
    "\n",
    "Cada ejercicio tiene una celda en blanco para que escriba su propio código. Puede crear celdas extras en caso de ser necesario, o simplemente por comodidad. Al momento de resolver los ejercicios utilice sus propias variables con nombres que ayuden a la comprensión del problema."
   ]
  },
  {
   "cell_type": "markdown",
   "metadata": {},
   "source": [
    "## 0 - Un mensaje molesto\n",
    "\n",
    "Escriba un programa que pida al usuario un texto, y luego imprima el mismo texto pero con las vocales `\"a\", \"e\", \"o\" y \"u\"` cambiadas por una `\"i\"`.\n",
    "\n",
    "Por ejemplo. Si el texto de entrada es `\"Hola, como va?\"`, el texto impreso será `\"Hili, cimi vi?`.\n",
    "\n",
    "* Nota: Investigue el método `.replace()` para strings en google"
   ]
  },
  {
   "cell_type": "code",
   "execution_count": 6,
   "metadata": {},
   "outputs": [],
   "source": [
    "# Su código aquí"
   ]
  },
  {
   "cell_type": "markdown",
   "metadata": {},
   "source": [
    "## 1 - Un dado de N caras\n",
    "\n",
    "Escriba un programa para tirar un dado de un número $N$ de caras introducido por el usuario en tiempo de ejecución.\n",
    "El resultado de la tirada se debe imprimir en pantalla.\n",
    "\n",
    "Recuerde la función de la librería random:\n",
    "\n",
    "```\n",
    "random.randint(start, stop)\n",
    "```\n",
    "\n",
    "Por ejemplo, si el usuario introduce $N = 6$ el resultado deberá ser un valor aleatorio entre 1 y 6."
   ]
  },
  {
   "cell_type": "code",
   "execution_count": null,
   "metadata": {},
   "outputs": [],
   "source": [
    "# Su código aquí"
   ]
  },
  {
   "cell_type": "markdown",
   "metadata": {},
   "source": [
    "## 2 - Decaimiento Exponencial\n",
    "\n",
    "Una cantidad está sujeta a un decaimiento exponencial si se disminuye a una tasa proporcional con respecto a su valor actual.\n",
    "Se puede expreser con la siguiente fórmula:\n",
    "\n",
    "$$ N(t) = N_0 e^{-\\lambda t} $$\n",
    "\n",
    "donde $N_0 = N(t=0)$ es la cantidad inicial, y $\\lambda$ es la constante de decaimiento.\n",
    "\n",
    "Dados los valores $N_0 = 2$ y $\\lambda = 2.45$, escriba un programa que pregunte al usuario por el tiempo $t$, e imprima el valor de $N(t)$\n",
    "\n",
    "* Nota: si intenta escribir una variable con nombre `lambda` obtendrá un error, ya es una palabra reservada\n"
   ]
  },
  {
   "cell_type": "code",
   "execution_count": 18,
   "metadata": {},
   "outputs": [],
   "source": [
    "# Su código aquí"
   ]
  },
  {
   "cell_type": "code",
   "execution_count": null,
   "metadata": {},
   "outputs": [],
   "source": []
  }
 ],
 "metadata": {
  "kernelspec": {
   "display_name": "Python 3",
   "language": "python",
   "name": "python3"
  },
  "language_info": {
   "codemirror_mode": {
    "name": "ipython",
    "version": 3
   },
   "file_extension": ".py",
   "mimetype": "text/x-python",
   "name": "python",
   "nbconvert_exporter": "python",
   "pygments_lexer": "ipython3",
   "version": "0.0.0"
  },
  "orig_nbformat": 4
 },
 "nbformat": 4,
 "nbformat_minor": 2
}
