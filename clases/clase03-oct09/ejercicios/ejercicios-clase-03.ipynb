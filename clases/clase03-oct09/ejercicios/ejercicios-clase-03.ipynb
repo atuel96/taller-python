{
 "cells": [
  {
   "cell_type": "markdown",
   "metadata": {},
   "source": [
    "# Ejercicios Tercera Clase\n",
    "\n",
    "Cada ejercicio tiene una celda en blanco para que escriba su propio código. Puede crear celdas extras en caso de ser necesario, o simplemente por comodidad. Al momento de resolver los ejercicios utilice sus propias variables con nombres que ayuden a la comprensión del problema."
   ]
  },
  {
   "cell_type": "markdown",
   "metadata": {},
   "source": [
    "## 0 - Graficando Puntos Random\n",
    "\n",
    "Quiero simular $N$ puntos, cada uno con dos coordenadas aleatorias, donde cada coordenada $X_i$ sigue una distribución uniforme entre $a$ y $b$. Esto es:\n",
    "\n",
    " $$X_i\\sim U(a, b)$$\n",
    "\n",
    "Simule y grafique los $N$ puntos usando los siguientes valores:\n",
    " $$N = 100, \\\\ a = -10, \\\\ b = 10.$$\n",
    "\n",
    "El resultado debería ser un gráfico con los $N$ puntos distribuidos de forma aleatoria.\n",
    "\n",
    "#### Ayudas\n",
    "\n",
    "1. Para simular una variable aleatoria que sigue una distribución uniforme puede usar la función `uniform(a, b)` del módulo `random`.\n",
    "2. Puede crear una lista vacia usando corchetes vacios `[]` y luego agregar elementos usando el método `.append(<elemento>)`\n",
    "3. Para graficar, recuerde importar `matplotlib.pyplot` como `plt`, y utilice la función `plt.scatter(x, y)`.\n",
    "\n",
    "#### Extras\n",
    "\n",
    "* Para agregar un nombre a los ejes de la gráfica puede usar `plt.xlabel(\"nombre eje x\")` y `plt.ylabel(\"nombre eje y\")`.\n",
    "* Si quiere que ambos ejes tengan la misma escala puede usar `plt.axis(\"scaled\")`"
   ]
  },
  {
   "cell_type": "code",
   "execution_count": 40,
   "metadata": {},
   "outputs": [],
   "source": [
    "# tu código aquí"
   ]
  },
  {
   "cell_type": "markdown",
   "metadata": {},
   "source": [
    "## 1 - Histograma tiradas de datos\n",
    "\n",
    "Cree una función llamada `tirar_dado` con un parámetro llamado `caras` que devuelva la tirada de un dado de ese número de caras.\n",
    "Luego utilice un bucle para guardar los resultados de `100` tiradas de dados de `6 caras` en una lista llamada `tiradas`.\n",
    "Por último utilice la función `plt.hist()` de `matplotlib.pyplot` con la lista `tiradas` como argumento  para realizar un histograma de las tiradas simuladas.\n",
    "\n",
    "Pruebe con diferentes números de simulaciones (mayores y menores a `100`) ¿Que forma debería tener el histograma a medida que el número de simulaciones crece?\n",
    "\n",
    "\n",
    "#### Notas\n",
    "1. La función `tirar_dado(6)` debe devolver un valor aleatorio entre 1 y 6, simulando la tirada de un dado de 6 caras **nunca debería devolver el valor 0**.\n",
    "2. Si el histograma no sale lindo, prueben con `plt.hist(tiradas, bins=6)`, el parámetro `bins` nos permite elegir el número de intervalos o *bines* del histograma.\n"
   ]
  },
  {
   "cell_type": "code",
   "execution_count": 39,
   "metadata": {},
   "outputs": [],
   "source": [
    "# Tu código aquí\n"
   ]
  },
  {
   "cell_type": "markdown",
   "metadata": {},
   "source": [
    "## 2 - Método de Newton\n",
    "\n",
    "El [Método de Newton](https://es.wikipedia.org/wiki/M%C3%A9todo_de_Newton) es un conocido y sencillo algoritmo para encontrar de forma aproximada los ceros de una función.\n",
    "\n",
    "Se puede explicar el funcionamiento del algoritmo de la siguiente manera:\n",
    "\n",
    "\n",
    "1. Proponer un valor de $x$ al que se denomina $x_0$ como un cero tentativo de la función.\n",
    "2. Calcular $f(x_0)$.\n",
    "3. Si $|f(x_0)|$ es menor que un error de tolerancia definido por el usuario, entonces $x_0$ es un cero de la función y el algoritmo termina.\n",
    "4. Si $|f(x_0)|$ es mayor que el error de tolerancia, entonces se calcula $f′(x_0)$.\n",
    "5. Calcular la intersección entre el eje de abscisas y una recta que pase por el punto $f(x_0)$ con pendiente $f′(x_0)$. A esta intersección se le da el nombre de $x_1$:\n",
    "$$ x_{1}=x_{0}-{\\frac  {f(x_{0})}{f'(x_{0})}}. $$\n",
    "6. Se vuelve al paso 2 pero utilizando $x_1$.\n",
    "\n",
    "De forma general se puede expresar una iteración del algoritmo de la siguiente manera:\n",
    "$$ x_{{n+1}}=x_{n}-{\\frac  {f(x_{n})}{f'(x_{n})}}. $$\n",
    "\n",
    "Implementar el algoritmo en la celda de abajo para encontrar los ceros de la función \n",
    "\n",
    "$$ f(x) = x^2 - 3 $$\n",
    "\n",
    "Imprimir los valores $x_i$ a medida que avanza el algoritmo.\n",
    "\n",
    "Pueden usar el esqueleto, agregando o quitando elementos, o intentar partir desde cero.\n",
    "\n"
   ]
  },
  {
   "cell_type": "code",
   "execution_count": null,
   "metadata": {},
   "outputs": [],
   "source": [
    "# Completar el siguiente código para aplicar el método de Newton\n",
    "def f(x):\n",
    "    \"\"\" \n",
    "    Función f(x)\n",
    "    \"\"\"\n",
    "    pass\n",
    "\n",
    "def df(x):\n",
    "    \"\"\" \n",
    "    Derivada de la función f(x)\n",
    "    \"\"\"\n",
    "    pass\n",
    "\n",
    "# Variables\n",
    "x0 = float(input(\"Valor de x0: \"))\n",
    "tol = 1e-10 # error de tolerancia\n",
    "error = abs(f(x0)) # error = |f(x0)|\n",
    "\n",
    "# Bucle\n",
    "while error > tol:\n",
    "    pass"
   ]
  }
 ],
 "metadata": {
  "kernelspec": {
   "display_name": "Python 3",
   "language": "python",
   "name": "python3"
  },
  "language_info": {
   "codemirror_mode": {
    "name": "ipython",
    "version": 3
   },
   "file_extension": ".py",
   "mimetype": "text/x-python",
   "name": "python",
   "nbconvert_exporter": "python",
   "pygments_lexer": "ipython3",
   "version": "3.11.2"
  },
  "orig_nbformat": 4
 },
 "nbformat": 4,
 "nbformat_minor": 2
}
