{
 "cells": [
  {
   "cell_type": "markdown",
   "metadata": {},
   "source": [
    "# Ejercicios Tercera Clase\n",
    "\n",
    "Cada ejercicio tiene una celda en blanco para que escriba su propio código. Puede crear celdas extras en caso de ser necesario, o simplemente por comodidad. Al momento de resolver los ejercicios utilice sus propias variables con nombres que ayuden a la comprensión del problema."
   ]
  },
  {
   "cell_type": "markdown",
   "metadata": {},
   "source": [
    "## 0 - Graficando Puntos Random\n",
    "\n",
    "Quiero simular $N$ puntos, cada uno con dos coordenadas aleatorias, donde cada coordenada $X_i$ sigue una distribución uniforme entre $a$ y $b$. Esto es:\n",
    "\n",
    " $$X_i\\sim U(a, b)$$\n",
    "\n",
    "Simule los $N$ puntos usando los siguientes valores:\n",
    " $$N = 100, \\\\ a = -10, \\\\ b = 10.$$\n",
    "\n",
    "\n",
    "#### Ayudas\n",
    "\n",
    "1. Para simular una variable aleatoria que sigue una distribución uniforme puede usar la función `uniform(a, b)` del módulo `random`.\n",
    "2. Puede crear una lista vacia usando corchetes vacios `[]` y luego agregar elementos usando el método `.append(<elemento>)`\n",
    "3. Para graficar, recuerde importar `matplotlib.pyplot` como `plt`, y utilice la función `plt.scatter(x, y)`.\n",
    "\n",
    "#### Extras\n",
    "\n",
    "* Para agregar un nombre a los ejes de la gráfica puede usar `plt.xlabel(\"nombre eje x\")` y `plt.ylabel(\"nombre eje y\")`.\n",
    "* Si quiere que ambos ejes tengan la misma escala puede usar `plt.axis(\"scaled\")`"
   ]
  },
  {
   "cell_type": "code",
   "execution_count": 10,
   "metadata": {},
   "outputs": [
    {
     "data": {
      "text/plain": [
       "(-10.876256866417096,\n",
       " 10.635037894546489,\n",
       " -10.960452111654213,\n",
       " 10.709517231081323)"
      ]
     },
     "execution_count": 10,
     "metadata": {},
     "output_type": "execute_result"
    },
    {
     "data": {
      "image/png": "[encoded data removed]",
      "text/plain": [
       "<Figure size 640x480 with 1 Axes>"
      ]
     },
     "metadata": {},
     "output_type": "display_data"
    }
   ],
   "source": [
    "# SOLUCIÓN\n",
    "import matplotlib.pyplot as plt\n",
    "import random\n",
    "\n",
    "N = 100\n",
    "x = []\n",
    "y = []\n",
    "\n",
    "for i in range(N):\n",
    "    x.append(random.uniform(-10, 10))\n",
    "    y.append(random.uniform(-10, 10))\n",
    "\n",
    "plt.scatter(x, y)\n",
    "plt.xlabel(\"x\")\n",
    "plt.ylabel(\"y\")\n",
    "plt.axis(\"scaled\")\n",
    "plt.show() # esta línea es opcional realmente"
   ]
  },
  {
   "cell_type": "markdown",
   "metadata": {},
   "source": [
    "## 1 - Histograma tiradas de datos\n",
    "\n",
    "Cree una función llamada `tirar_dado` con un parámetro llamado `caras` que devuelva la tirada de un dado de ese número de caras.\n",
    "Luego utilice un bucle para guardar los resultados de `100` tiradas de dados de `6 caras` en una lista llamada `tiradas`.\n",
    "Por último utilice la función `plt.hist()` de `matplotlib.pyplot` con la lista `tiradas` como argumento  para realizar un histograma de las tiradas simuladas.\n",
    "\n",
    "Pruebe con diferentes números de simulaciones (mayores y menores a `100`) ¿Que forma debería tener el histograma a medida que el número de simulaciones crece?\n",
    "\n",
    "\n",
    "#### Notas\n",
    "1. La función `tirar_dado(6)` debe devolver un valor aleatorio entre 1 y 6, simulando la tirada de un dado de 6 caras **nunca debería devolver el valor 0**.\n",
    "2. Si el histograma no sale lindo, prueben con `plt.hist(tiradas, bins=6)`, el parámetro `bins` nos permite elegir el número de intervalos o *bines* del histograma.\n"
   ]
  },
  {
   "cell_type": "code",
   "execution_count": 25,
   "metadata": {},
   "outputs": [
    {
     "data": {
      "text/plain": [
       "(array([180., 156., 148., 166., 167., 183.]),\n",
       " array([1.        , 1.83333333, 2.66666667, 3.5       , 4.33333333,\n",
       "        5.16666667, 6.        ]),\n",
       " <BarContainer object of 6 artists>)"
      ]
     },
     "execution_count": 25,
     "metadata": {},
     "output_type": "execute_result"
    },
    {
     "data": {
      "image/png": "[encoded data removed]",
      "text/plain": [
       "<Figure size 640x480 with 1 Axes>"
      ]
     },
     "metadata": {},
     "output_type": "display_data"
    }
   ],
   "source": [
    "# SOLUCIÓN\n",
    "import matplotlib.pyplot as plt\n",
    "import random\n",
    "\n",
    "def tirar_dado(caras):\n",
    "    return random.randint(1, caras)\n",
    "\n",
    "N = 1000\n",
    "caras = 6\n",
    "tiradas = []\n",
    "\n",
    "for i in range(N):\n",
    "    tiradas.append(tirar_dado(caras))\n",
    "\n",
    "plt.hist(tiradas, bins=caras)\n",
    "plt.show()\n"
   ]
  },
  {
   "cell_type": "markdown",
   "metadata": {},
   "source": [
    "## 2 - Método de Newton\n",
    "\n",
    "El [Método de Newton](https://es.wikipedia.org/wiki/M%C3%A9todo_de_Newton) es un conocido y sencillo algoritmo para encontrar de forma aproximada los ceros de una función.\n",
    "\n",
    "Se puede explicar el funcionamiento del algoritmo de la siguiente manera:\n",
    "\n",
    "\n",
    "1. Proponer un valor de $x$ al que se denomina $x_0$ como un cero tentativo de la función.\n",
    "2. Calcular $f(x_0)$.\n",
    "3. Si $|f(x_0)|$ es menor que un error de tolerancia definido por el usuario, entonces $x_0$ es un cero de la función y el algoritmo termina.\n",
    "4. Si $|f(x_0)|$ es mayor que el error de tolerancia, entonces se calcula $f′(x_0)$.\n",
    "5. Calcular la intersección entre el eje de abscisas y una recta que pase por el punto $f(x_0)$ con pendiente $f′(x_0)$. A esta intersección se le da el nombre de $x_1$:\n",
    "$$ x_{1}=x_{0}-{\\frac  {f(x_{0})}{f'(x_{0})}}. $$\n",
    "6. Se vuelve al paso 2 pero utilizando $x_1$.\n",
    "\n",
    "De forma general se puede expresar una iteración del algoritmo de la siguiente manera:\n",
    "$$ x_{{n+1}}=x_{n}-{\\frac  {f(x_{n})}{f'(x_{n})}}. $$\n",
    "\n",
    "Implementar el algoritmo en la celda de abajo para encontrar los ceros de la función \n",
    "\n",
    "$$ f(x) = x^2 - 9 $$\n",
    "\n",
    "Imprimir los valores $x_i$ a medida que avanza el algoritmo.\n",
    "\n",
    "Pueden usar el esqueleto, agregando o quitando elementos, o intentar partir desde cero.\n",
    "\n"
   ]
  },
  {
   "cell_type": "markdown",
   "metadata": {},
   "source": [
    "## Resolución\n",
    "\n",
    "Debemos tener en cuenta que si la función es $f(x) = x^2 -9$, los ceros son $x = 3$ y $x = -3$, por lo tanto deberiamos llegar a uno de estos dos resultados."
   ]
  },
  {
   "cell_type": "code",
   "execution_count": 7,
   "metadata": {},
   "outputs": [
    {
     "name": "stdout",
     "output_type": "stream",
     "text": [
      "Evolución de x0\n",
      "x0 = 100.0:\n",
      "x1 = 50.045\n",
      "x2 = 25.11241907283445\n",
      "x3 = 12.735403742556764\n",
      "x4 = 6.721047559484776\n",
      "x5 = 4.030062264654547\n",
      "x6 = 3.1316391905865757\n",
      "x7 = 3.002766742182557\n",
      "x8 = 3.0000012746348554\n",
      "x9 = 3.0000000000002705\n"
     ]
    }
   ],
   "source": [
    "# Completar el siguiente código para aplicar el método de Newton\n",
    "def f(x):\n",
    "    \"\"\" Función f(x) \"\"\"\n",
    "    return x**2 - 9\n",
    "\n",
    "def df(x):\n",
    "    \"\"\" Derivada de la función f(x) \"\"\"\n",
    "    return 2*x\n",
    "\n",
    "# Variables\n",
    "x0 = float(input(\"Valor de x0: \"))\n",
    "tol = 1e-10 # error de tolerancia\n",
    "error = abs(f(x0)) # error = |f(x0)|\n",
    "i = 0 # iteración\n",
    "\n",
    "# Bucle\n",
    "print(f\"Evolución de x0\\nx0 = {x0}:\")\n",
    "while error > tol:\n",
    "    i += 1\n",
    "    x0 = x0 - f(x0)/df(x0)\n",
    "    error = abs(f(x0))\n",
    "    print(f\"x{i} = {x0}\")"
   ]
  },
  {
   "cell_type": "code",
   "execution_count": null,
   "metadata": {},
   "outputs": [],
   "source": []
  }
 ],
 "metadata": {
  "kernelspec": {
   "display_name": "Python 3",
   "language": "python",
   "name": "python3"
  },
  "language_info": {
   "codemirror_mode": {
    "name": "ipython",
    "version": 3
   },
   "file_extension": ".py",
   "mimetype": "text/x-python",
   "name": "python",
   "nbconvert_exporter": "python",
   "pygments_lexer": "ipython3",
   "version": "3.11.2"
  },
  "orig_nbformat": 4
 },
 "nbformat": 4,
 "nbformat_minor": 2
}
