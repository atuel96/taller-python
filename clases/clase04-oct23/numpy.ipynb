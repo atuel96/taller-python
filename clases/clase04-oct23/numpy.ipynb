{
 "cells": [
  {
   "cell_type": "markdown",
   "metadata": {},
   "source": [
    "# Vistazo a NumPy\n",
    "\n",
    "https://numpy.org/doc/stable/index.html \n",
    "\n",
    "El nombre *NumPy* viene de *Numerical Python*. Esta librería es muy usada porque nos facilita el trabajar con vectores y matrices, y al mismo tiempo nos da muchas herramientas útiles para trabajar con métodos numéricos.\n",
    "\n",
    "Empezaremos viendo el aspecto más relevante de numpy, las `arrays`, una nueva estructura de datos que a primera vista es muy parecida a las listas de python."
   ]
  },
  {
   "cell_type": "markdown",
   "metadata": {},
   "source": [
    "## Arrays\n",
    "\n",
    "Los *arrays* o *arreglos* son una estructura de dato mucho más eficiente que las listas. Tienen algunas limitaciones, como que cada array solo admite un tipo de dato, o que en principio el tamaño de un array es fijo, pero a cambio vamos a poder escribir un código más compacto y eficiente.\n",
    "\n",
    "Para crear un array podemos usar la función `array` de numpy, pasandole una lista:"
   ]
  },
  {
   "cell_type": "code",
   "execution_count": 6,
   "metadata": {},
   "outputs": [
    {
     "name": "stdout",
     "output_type": "stream",
     "text": [
      "[1, 2, 3, 4, 5] tipo: <class 'list'>\n",
      "[1 2 3 4 5] tipo: <class 'numpy.ndarray'>\n"
     ]
    }
   ],
   "source": [
    "import numpy as np\n",
    "\n",
    "# primero creamos una lista\n",
    "lista = [1, 2, 3, 4, 5]\n",
    "# luego creamos un array a partir de esa lista\n",
    "array = np.array(lista)\n",
    "\n",
    "# imprimamos la lista y el array, y veamos el tipo de dato\n",
    "print(lista, \"tipo:\", type(lista))\n",
    "print(array, \"tipo:\", type(array))"
   ]
  },
  {
   "cell_type": "markdown",
   "metadata": {},
   "source": [
    "Al imprimir la array vemos que no parece muy diferente a una lista, pero ahora veamos como podemos beneficiarnos del uso de arrays.\n",
    "\n",
    "Supongamos que tengo dos listas del mismo tamaño ($n$), `lista_1` y `lista_2`:\n",
    "\n",
    "$$\n",
    "lista\\_1 = [u_1, u_2, ... , u_n] \\\\\n",
    "lista\\_2 = [v_1, v_\", ..., v_n]\n",
    "$$\n",
    "\n",
    " y quiero realizar las siguientes operaciones:\n",
    "\n",
    "* multiplicar una de las listas por un valor escalar $\\lambda$:\n",
    "  $$ \\lambda \\cdot lista\\_1 =  [\\lambda u_1, \\lambda u_2, ... , \\lambda u_n]$$\n",
    "* sumar un escalar $\\lambda$ a cada elemento de una lista:\n",
    "  $$ \\lambda + lista\\_1 =  [\\lambda +u_1, \\lambda +u_2, ... , \\lambda +u_n]$$\n",
    "* Sumar (o restar) elemento a elemento:\n",
    "  $$ lista\\_1 +  lista\\_2 =  [u_1 + v_1, u_2 + v_2, ... , u_n + v_n]$$\n",
    "* multiplicar (o dividir) elemento a elemento:\n",
    "  $$ lista\\_1 *  lista\\_2 =  [u_1 \\cdot v_1, u_2 \\cdot v_2, ... , u_n \\cdot v_n]$$\n",
    "\n",
    "En todos estos casos deberiamos usar un bucle"
   ]
  },
  {
   "cell_type": "code",
   "execution_count": 18,
   "metadata": {},
   "outputs": [
    {
     "name": "stdout",
     "output_type": "stream",
     "text": [
      "lista_1 * 5 = [1, 2, 3, 1, 2, 3, 1, 2, 3, 1, 2, 3, 1, 2, 3]\n",
      "lista_1 + lista_2 = [1, 2, 3, 2, 0, 2]\n"
     ]
    }
   ],
   "source": [
    "# parto de que tengo dos listas\n",
    "lista_1 = [1, 2, 3]\n",
    "lista_2 = [2, 0, 2]\n",
    "\n",
    "# si quiero multiplicar cada elemento de una lista por un escalar:\n",
    "escalar = 5\n",
    "\n",
    "# no voy a obtener el resultado que me gustaría\n",
    "print(\"lista_1 * 5 =\", lista_1*5) \n",
    "\n",
    "# Si quiero sumar elemento por elemento, podría probar:\n",
    "print(\"lista_1 + lista_2 =\", lista_1+lista_2)\n",
    "# pero el resultado es una concatenación"
   ]
  },
  {
   "cell_type": "markdown",
   "metadata": {},
   "source": [
    "Ahora, si usamos arrays, podemos hacer todas estas operaciones simplemente usando los operadores aritmeticos:"
   ]
  },
  {
   "cell_type": "code",
   "execution_count": 20,
   "metadata": {},
   "outputs": [
    {
     "name": "stdout",
     "output_type": "stream",
     "text": [
      "2*vector_1 = [2 4 6]\n",
      "vector_1 + 1 = [2 3 4]\n",
      "vector_1 + vector_2 = [3 2 5]\n",
      "vector_1 * vector_2 = [2 0 6]\n"
     ]
    }
   ],
   "source": [
    "vector_1 = np.array([1, 2, 3])\n",
    "vector_2 = np.array([2, 0, 2])\n",
    "\n",
    "print(f\"2*vector_1 = {2*vector_1}\")\n",
    "print(f\"vector_1 + 1 = {vector_1 + 1}\")\n",
    "print(f\"vector_1 + vector_2 = {vector_1 + vector_2}\")\n",
    "print(f\"vector_1 - vector_2 = {vector_1 - vector_2}\")\n",
    "print(f\"vector_1 * vector_2 = {vector_1 * vector_2}\")"
   ]
  },
  {
   "cell_type": "markdown",
   "metadata": {},
   "source": [
    "Incluso puedo aplicar una función general a un array!\n",
    "\n",
    "Por ejemplo, la función seno:"
   ]
  },
  {
   "cell_type": "code",
   "execution_count": 21,
   "metadata": {},
   "outputs": [
    {
     "name": "stdout",
     "output_type": "stream",
     "text": [
      "sin(array) = [ 0.84147098  0.90929743  0.14112001 -0.7568025  -0.95892427]\n"
     ]
    }
   ],
   "source": [
    "array = np.array([1, 2, 3, 4, 5])\n",
    "print(\"sin(array) =\", np.sin(array))"
   ]
  },
  {
   "cell_type": "markdown",
   "metadata": {},
   "source": [
    "### Detalle:\n",
    "Cuando importamos `numpy` no necesitamos importar la librería `math`, ya que tenemos las mismas funciones y más (aunque algunas funcionan ligeramente diferente)"
   ]
  },
  {
   "cell_type": "markdown",
   "metadata": {},
   "source": [
    "## Funciones Útiles de NumPy\n",
    "\n",
    "* `linspace(start, stop, num)` : nos permite crear un array de tamaño `num` entre el rango `start` - `stop`.\n",
    "* `arange(start, stop, step)` : como `range()` convencional, pero podemos usar un paso decimal, y devuelve un array.\n",
    "* `ones(shape)` : devuelve un array con unos de tamaño `shape` (puede tener más de una dimensión)\n",
    "* `zeros(shape)` : similar a `ones` pero con ceros."
   ]
  },
  {
   "cell_type": "code",
   "execution_count": 77,
   "metadata": {},
   "outputs": [
    {
     "data": {
      "text/plain": [
       "<matplotlib.legend.Legend at 0x1f998b93a50>"
      ]
     },
     "execution_count": 77,
     "metadata": {},
     "output_type": "execute_result"
    },
    {
     "data": {
      "image/png": "[encoded data removed]",
      "text/plain": [
       "<Figure size 640x480 with 1 Axes>"
      ]
     },
     "metadata": {},
     "output_type": "display_data"
    }
   ],
   "source": [
    "import matplotlib.pyplot as plt\n",
    "\n",
    "x = np.linspace(0, 1, num=100)\n",
    "x2 = x**2 + 1   # x2 es un array ya que se define en función de x\n",
    "\n",
    "plt.plot(x, x + 1, label=r\"$x + 1$\")\n",
    "plt.plot(x, x2, label=r\"$x^2 + 1$\")\n",
    "plt.xlabel(\"x\")\n",
    "plt.legend()"
   ]
  },
  {
   "cell_type": "markdown",
   "metadata": {},
   "source": [
    "## NumPy Random\n",
    "\n",
    "NumPy viene con su propio módulo para generar números pseudoleatorios.\n",
    "\n",
    "* `randint(low, high, size)` : devuelve un array de tamaño `size`, con enteros aleatorios en el rango semiabierto [`low`, `high`)\n",
    "* `normal(loc, scale, size)` : devuelve un array de tamaño `size`, siguiendo una distribución normal $\\sigma =$`loc` y $\\sigma = $`scale`."
   ]
  },
  {
   "cell_type": "code",
   "execution_count": 32,
   "metadata": {},
   "outputs": [
    {
     "data": {
      "text/plain": [
       "(array([149., 163., 178., 151., 176., 183.]),\n",
       " array([1.        , 1.83333333, 2.66666667, 3.5       , 4.33333333,\n",
       "        5.16666667, 6.        ]),\n",
       " <BarContainer object of 6 artists>)"
      ]
     },
     "execution_count": 32,
     "metadata": {},
     "output_type": "execute_result"
    },
    {
     "data": {
      "image/png": "[encoded data removed]",
      "text/plain": [
       "<Figure size 640x480 with 1 Axes>"
      ]
     },
     "metadata": {},
     "output_type": "display_data"
    }
   ],
   "source": [
    "from numpy import random\n",
    "\n",
    "tiradas = random.randint(1, 7, size=1000)\n",
    "plt.hist(tiradas, bins = 6)"
   ]
  },
  {
   "cell_type": "code",
   "execution_count": 38,
   "metadata": {},
   "outputs": [
    {
     "data": {
      "text/plain": [
       "(array([  6.,  19.,  65., 137., 204., 212., 182., 111.,  48.,  16.]),\n",
       " array([-3.09248782, -2.51663823, -1.94078863, -1.36493904, -0.78908944,\n",
       "        -0.21323984,  0.36260975,  0.93845935,  1.51430894,  2.09015854,\n",
       "         2.66600814]),\n",
       " <BarContainer object of 10 artists>)"
      ]
     },
     "execution_count": 38,
     "metadata": {},
     "output_type": "execute_result"
    },
    {
     "data": {
      "image/png": "[encoded data removed]",
      "text/plain": [
       "<Figure size 640x480 with 1 Axes>"
      ]
     },
     "metadata": {},
     "output_type": "display_data"
    }
   ],
   "source": [
    "normal = random.normal(0, 1, size=1000)\n",
    "plt.hist(normal)"
   ]
  },
  {
   "cell_type": "code",
   "execution_count": 42,
   "metadata": {},
   "outputs": [
    {
     "data": {
      "text/plain": [
       "(array([ 28.,  51., 103., 108., 137., 168., 126.,  97.,  93.,  58.,  31.]),\n",
       " array([ 2.        ,  2.90909091,  3.81818182,  4.72727273,  5.63636364,\n",
       "         6.54545455,  7.45454545,  8.36363636,  9.27272727, 10.18181818,\n",
       "        11.09090909, 12.        ]),\n",
       " <BarContainer object of 11 artists>)"
      ]
     },
     "execution_count": 42,
     "metadata": {},
     "output_type": "execute_result"
    },
    {
     "data": {
      "image/png": "[encoded data removed]",
      "text/plain": [
       "<Figure size 640x480 with 1 Axes>"
      ]
     },
     "metadata": {},
     "output_type": "display_data"
    }
   ],
   "source": [
    "# La suma de dos dados:\n",
    "tiradas1 = random.randint(1, 7, size=1000)\n",
    "tiradas2 = random.randint(1, 7, size=1000)\n",
    "\n",
    "plt.hist(tiradas1 + tiradas2, bins = 11)"
   ]
  },
  {
   "cell_type": "markdown",
   "metadata": {},
   "source": [
    "## Matrices ... o 2D arrays\n",
    "\n",
    "Un array puede tener más de una dimensión, y podemos pensar a un array de dos dimenciones (2D array) como una matriz."
   ]
  },
  {
   "cell_type": "code",
   "execution_count": 64,
   "metadata": {},
   "outputs": [
    {
     "name": "stdout",
     "output_type": "stream",
     "text": [
      "matriz :\n",
      " [[1 2 3]\n",
      " [4 5 6]\n",
      " [7 8 9]] \n",
      "\n",
      "matriz[0] = [1 2 3]\n",
      "matriz[-1] = [7 8 9]\n",
      "matriz[0, 1] = 2\n",
      "matriz[:, 1] = [2 5 8]\n"
     ]
    }
   ],
   "source": [
    "matriz = np.array([[1, 2, 3],\n",
    "                   [4, 5, 6],\n",
    "                   [7, 8, 9]])\n",
    "\n",
    "\n",
    "print(\"matriz :\\n\", matriz, \"\\n\")\n",
    "# Accediendo a los elementos:\n",
    "print(\"matriz[0] =\", matriz[0])         # fila 0\n",
    "print(\"matriz[-1] =\", matriz[-1])       # fila -1\n",
    "print(\"matriz[0, 1] =\", matriz[0, 1])   # elemento de la fila 0, columna 1\n",
    "print(\"matriz[:, 1] =\", matriz[:, 1])   # todas las filas, columna 1"
   ]
  },
  {
   "cell_type": "markdown",
   "metadata": {},
   "source": [
    "También podemos generar un array 2D pasando un tamaño (`size`) de dos dimensiones:"
   ]
  },
  {
   "cell_type": "code",
   "execution_count": 65,
   "metadata": {},
   "outputs": [
    {
     "data": {
      "text/plain": [
       "<matplotlib.collections.PathCollection at 0x1f9971bebd0>"
      ]
     },
     "execution_count": 65,
     "metadata": {},
     "output_type": "execute_result"
    },
    {
     "data": {
      "image/png": "[encoded data removed]",
      "text/plain": [
       "<Figure size 640x480 with 1 Axes>"
      ]
     },
     "metadata": {},
     "output_type": "display_data"
    }
   ],
   "source": [
    "N = 100\n",
    "puntos_random = random.uniform(-10, 10, size=(N, 2))\n",
    "plt.scatter(puntos_random[:, 0], puntos_random[:, 1])"
   ]
  },
  {
   "cell_type": "markdown",
   "metadata": {},
   "source": [
    "## Producto de Matrices\n",
    "\n",
    "Podemos usar la función `dot` de NumPy para realizar un producto matricial"
   ]
  },
  {
   "cell_type": "code",
   "execution_count": 70,
   "metadata": {},
   "outputs": [
    {
     "data": {
      "text/plain": [
       "array([[ 2,  0,  2],\n",
       "       [ 4,  6, 12],\n",
       "       [10, 12,  8]])"
      ]
     },
     "execution_count": 70,
     "metadata": {},
     "output_type": "execute_result"
    }
   ],
   "source": [
    "A = np.array([[1, 0, 1],\n",
    "              [2, 3, 6],\n",
    "              [5, 6, 4]])\n",
    "\n",
    "B = np.array([[2, 0, 0],\n",
    "              [0, 2, 0],\n",
    "              [0, 0, 2]])\n",
    "\n",
    "np.dot(A, B)"
   ]
  },
  {
   "cell_type": "markdown",
   "metadata": {},
   "source": [
    "## Métodos y Atributos de los Arrays\n",
    "\n",
    "Podemos ver el tamaño de un array con la propiedad (o atributo) `.size`, y la forma con la propiedad (o atributo) `.shape`. La forma nos servirá cuando trabajemos con arrays de más de una dimensión. Para saber la dimensión de un array podemos usar `.ndim`\n",
    "\n",
    "Por ejemplo, un array con 2 filas y 3 columnas tendrá un tamaño de `6` y una forma `(2, 3)`.\n",
    "\n",
    "Dos métodos bastante útiles cuando trabajamos con muestras o mediciones son `.mean()` y `.std()` que nos devuelven la media y la desviación estandar muestral, respectivamente. Por último `.sum()` nos devuelve la suma de todos los elementos de un array.\n",
    "\n",
    "* Nota: los métodos son funciones por lo tanto llevan paréntesis, a diferencia de los atributos o propiedades."
   ]
  },
  {
   "cell_type": "code",
   "execution_count": 18,
   "metadata": {},
   "outputs": [
    {
     "name": "stdout",
     "output_type": "stream",
     "text": [
      "\tArray 1D:\n",
      "Tamaño: 1000\n",
      "Tamaño: (1000,)\n",
      "Media muestral: 5.954948744031249\n",
      "Desviación Estandar: 2.286161171414272\n",
      "Suma de los elementos: 5954.948744031249\n",
      "\tArray 2D:\n",
      "Tamaño: 48\n",
      "Forma: (8, 6)\n",
      "Media Muestra: -0.02727950711280336\n",
      "Desviación Estandar: 0.8977313130251728\n"
     ]
    }
   ],
   "source": [
    "import numpy as np\n",
    "\n",
    "array = np.random.uniform(2, 10, 1000)\n",
    "matriz = np.random.normal(size=(8, 6))\n",
    "\n",
    "print(\"\\tArray 1D:\")\n",
    "# Tamaño del array\n",
    "print(f\"Tamaño: {array.size}\")\n",
    "# Forma del array\n",
    "print(f\"Tamaño: {array.shape}\")\n",
    "# Media muestral\n",
    "print(f\"Media muestral: {array.mean()}\")\n",
    "# Desviación Estandar Muestral:\n",
    "print(f\"Desviación Estandar: {array.std()}\")\n",
    "# Suma:\n",
    "print(f\"Suma de los elementos: {array.sum()}\")\n",
    "\n",
    "print(\"\\tArray 2D:\")\n",
    "print(f\"Tamaño: {matriz.size}\")\n",
    "print(f\"Forma: {matriz.shape}\")\n",
    "print(f\"Media Muestra: {matriz.mean()}\")\n",
    "print(f\"Desviación Estandar: {matriz.std()}\")"
   ]
  },
  {
   "cell_type": "markdown",
   "metadata": {},
   "source": [
    "En el caso de los arrays de 2 o más dimensiones, podemos aplicar estos métodos por filas o columnas.\n",
    "\n"
   ]
  },
  {
   "cell_type": "code",
   "execution_count": 16,
   "metadata": {},
   "outputs": [
    {
     "name": "stdout",
     "output_type": "stream",
     "text": [
      "\tPor Filas (resultado en tamaño columnas):\n",
      "Media Muestral: [-0.2004587   1.15107018  0.10889073  0.20832338]\n",
      "Desviación Estandar: [0.28827659 0.27817827 0.45676832 0.40139676]\n",
      "\n",
      "\tPor columnas (resultado en tamaño filas):\n",
      "Media Muestral: [0.1614998 0.472413 ]\n",
      "Desviación Estandar: [0.5893325  0.61542961]\n"
     ]
    }
   ],
   "source": [
    "matriz = np.random.normal(size=(2, 4))\n",
    "\n",
    "print(\"\\tPor Filas (resultado en tamaño columnas):\")\n",
    "\n",
    "print(f\"Media Muestral: {matriz.mean(axis=0)}\")\n",
    "print(f\"Desviación Estandar: {matriz.std(axis=0)}\")\n",
    "\n",
    "print(\"\\n\\tPor columnas (resultado en tamaño filas):\")\n",
    "\n",
    "print(f\"Media Muestral: {matriz.mean(axis=1)}\")\n",
    "print(f\"Desviación Estandar: {matriz.std(axis=1)}\")"
   ]
  },
  {
   "cell_type": "markdown",
   "metadata": {},
   "source": [
    "Una propiedad útil para las matrices es `.T`, que nos permite ver la matriz traspuesta."
   ]
  },
  {
   "cell_type": "code",
   "execution_count": 20,
   "metadata": {},
   "outputs": [
    {
     "name": "stdout",
     "output_type": "stream",
     "text": [
      "[[1 4 7]\n",
      " [2 5 8]\n",
      " [3 6 9]]\n"
     ]
    }
   ],
   "source": [
    "M = np.array([[1, 2, 3], \n",
    "             [4, 5, 6],\n",
    "             [7, 8, 9]])\n",
    "\n",
    "print(M.T)"
   ]
  },
  {
   "cell_type": "markdown",
   "metadata": {},
   "source": [
    "### Lista con atributos y métodos\n",
    "\n",
    "#### Atributos\n",
    "\n",
    "* `T` : array traspuesta.\n",
    "* `ndim` : dimensión del array.\n",
    "* `size` : tamaño del array.\n",
    "* `shape` : forma del array.\n",
    "\n",
    "#### Métodos\n",
    "\n",
    "* `argmax()` : Índice o índices del máximo valor en el array.\n",
    "* `argmin()` : Índice o índices del mínimo valor en el array.\n",
    "* `max()` : Máximo valor del array.\n",
    "* `mean()` : Media muestral del array.\n",
    "* `min()` : Mínimo valor del array.\n",
    "* `reshape()` : Devuelve un array con la forma especificada.\n",
    "* `sum()` : Suma de los elementos del array.\n",
    "* `std()` : Desvuación Estandar Muestral.\n",
    "* `var()` : Varianza Muestral.\n",
    "\n",
    "\n",
    "Pueden ver una lista completa de atributos y métodos aquí:\n",
    "https://numpy.org/doc/stable/reference/generated/numpy.ndarray.html "
   ]
  },
  {
   "cell_type": "code",
   "execution_count": null,
   "metadata": {},
   "outputs": [],
   "source": []
  }
 ],
 "metadata": {
  "kernelspec": {
   "display_name": "Python 3",
   "language": "python",
   "name": "python3"
  },
  "language_info": {
   "codemirror_mode": {
    "name": "ipython",
    "version": 3
   },
   "file_extension": ".py",
   "mimetype": "text/x-python",
   "name": "python",
   "nbconvert_exporter": "python",
   "pygments_lexer": "ipython3",
   "version": "3.11.2"
  }
 },
 "nbformat": 4,
 "nbformat_minor": 2
}
