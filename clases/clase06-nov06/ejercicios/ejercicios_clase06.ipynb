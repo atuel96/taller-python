{
 "cells": [
  {
   "cell_type": "markdown",
   "metadata": {},
   "source": [
    "# Ejercicios Clase 06. Autómatas Celulares\n",
    "\n",
    "Cada ejercicio tiene una celda en blanco para que escriba su propio código. Puede crear celdas extras en caso de ser necesario, o simplemente por comodidad. Al momento de resolver los ejercicios utilice sus propias variables con nombres que ayuden a la comprensión del problema.\n"
   ]
  },
  {
   "cell_type": "markdown",
   "metadata": {},
   "source": [
    "## Ejercicio 0\n",
    "\n",
    "Cree una grilla de $N\\times N$ elementos utilizando un arra 2d de NumPy. Luego complete la grilla de la siguiente manera:\n",
    "\n",
    "* El primer elemento (o celda) de la primera fila debe tener un valor de 1, y el resto un valor de 0.\n",
    "* Los primeros dos elementos de la segunda fila deben ser 1, y el resto 0.\n",
    "* Los primeros `i` elementos de la `i`-ésima fila son 1, y el resto 0.\n",
    "\n",
    "\n",
    "Luego grafique esta grilla utilizando la función `plt.imshow()` de matplotlib.\n",
    "\n",
    "Utilice $N = 10$ para empezar."
   ]
  },
  {
   "cell_type": "code",
   "execution_count": 29,
   "metadata": {},
   "outputs": [],
   "source": [
    "# TO DO\n"
   ]
  },
  {
   "cell_type": "markdown",
   "metadata": {},
   "source": [
    "# Ejercicio 1\n",
    "\n",
    "Escribir un código para implementar la evolución del autómata celular siguiendo la Regla D.\n",
    "\n",
    "### Regla D\n",
    "\n",
    "La celda j se activa si una y sólo una del vecindario [j - 1, j, j + 1] \n",
    "está activa, o si sólo j y j + 1 están activas. Si no, se desactiva\n",
    "\n",
    "Usar variables para definir el número de celulas en una dimensión, y el tiempo máximo de evolución."
   ]
  },
  {
   "cell_type": "code",
   "execution_count": 28,
   "metadata": {},
   "outputs": [],
   "source": [
    "# TO DO"
   ]
  },
  {
   "cell_type": "markdown",
   "metadata": {},
   "source": [
    "# Ejercicio 2\n",
    "\n",
    "Implementar el juego de la vida de Conway completando el código faltante.\n"
   ]
  },
  {
   "cell_type": "code",
   "execution_count": null,
   "metadata": {},
   "outputs": [],
   "source": [
    "import numpy as np\n",
    "import matplotlib.pyplot as plt\n",
    "from matplotlib import animation\n",
    "from IPython.display import HTML\n",
    "\n",
    "# Primero definimos nuestras Variables:\n",
    "N = 50   \n",
    "tmax = 30\n",
    "\n",
    "# RESOLVER: Grilla de puntos con condicione iniciales\n",
    "grid = ____\n",
    "\n",
    "# RESOLVER: Función que actualiza el grilla\n",
    "def actualizar_grid(grid):\n",
    "    \"\"\"Esta función actualiza la grilla un paso temporal\n",
    "    \n",
    "    Parameters:\n",
    "        grid (ndarray): grilla para tiempo t\n",
    "    returns:\n",
    "        ndarray: grilla para tiempo t + 1\n",
    "    \"\"\"\n",
    "    # RESOLVER\n",
    "    pass\n",
    "\n",
    "\n",
    "# El siguiente código se encarga del gráfico y la animación\n",
    "fig, ax = plt.subplots()\n",
    "im = ax.imshow(grid, cmap=\"binary\")\n",
    "ax.set_axis_off()\n",
    "\n",
    "# Las siguientes funciones (init y update) nos ayudan con la animación\n",
    "def init():\n",
    "    im.set_data(grid)\n",
    "    return (im,)\n",
    "\n",
    "def update(i):\n",
    "    global grid\n",
    "    grid = actualizar_grid(grid)\n",
    "    im.set_data(grid)\n",
    "\n",
    "    return (im,)\n",
    "\n",
    "anim = animation.FuncAnimation(fig, \n",
    "                               func=update, \n",
    "                               init_func=init, \n",
    "                               frames=tmax, \n",
    "                               interval=200)\n",
    "HTML(anim.to_jshtml())  # usar esto en caso de usar una jupyter notebook (archivo .ipynb)\n",
    "#plt.show() # usar esto en caso de ejecutar como script (archivo .py)"
   ]
  },
  {
   "cell_type": "code",
   "execution_count": null,
   "metadata": {},
   "outputs": [],
   "source": []
  }
 ],
 "metadata": {
  "kernelspec": {
   "display_name": "base",
   "language": "python",
   "name": "python3"
  },
  "language_info": {
   "codemirror_mode": {
    "name": "ipython",
    "version": 3
   },
   "file_extension": ".py",
   "mimetype": "text/x-python",
   "name": "python",
   "nbconvert_exporter": "python",
   "pygments_lexer": "ipython3",
   "version": "3.11.5"
  }
 },
 "nbformat": 4,
 "nbformat_minor": 2
}
