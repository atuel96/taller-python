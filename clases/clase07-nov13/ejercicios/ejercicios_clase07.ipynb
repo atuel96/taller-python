{
 "cells": [
  {
   "cell_type": "markdown",
   "metadata": {},
   "source": [
    "# Ejercicios Clase 07. Fourier\n",
    "\n",
    "Cada ejercicio tiene una celda en blanco para que escriba su propio código. Puede crear celdas extras en caso de ser necesario, o simplemente por comodidad. Al momento de resolver los ejercicios utilice sus propias variables con nombres que ayuden a la comprensión del problema.\n"
   ]
  },
  {
   "cell_type": "markdown",
   "metadata": {},
   "source": [
    "## 1) Transformada de Fourier de una señal sinusoidal\n",
    "Genere una señal compuesta por una función senoidal.\n",
    "Aplique la transformada de fourier sobre esa señal y grafique los resultados."
   ]
  },
  {
   "cell_type": "code",
   "execution_count": 2,
   "metadata": {},
   "outputs": [],
   "source": [
    "# Ejercicio 1"
   ]
  },
  {
   "cell_type": "markdown",
   "metadata": {},
   "source": [
    "## 2) Transformada de Fourier de una señal compuesta\n",
    "Ahora genere una señal compuesta, es decir, una señal formada por dos señales sinusoidales con frecuencias distintas.\n",
    "Aplique la trasnformada de fourier sobre esa señal. Grafique los resultados para corroborar que se verifican las frecuencias originales."
   ]
  },
  {
   "cell_type": "code",
   "execution_count": null,
   "metadata": {},
   "outputs": [],
   "source": [
    "# Ejercicio 2"
   ]
  },
  {
   "cell_type": "markdown",
   "metadata": {},
   "source": [
    "\n",
    "## 3) Transformada de Fourier de una señal con ruido\n",
    "Generaremos una señal que contiene ruido y luego aplicaremos la transformada de Fourier para ver cómo se ven las frecuencias en presencia de ruido.\n",
    "Graficar los resultados para identificar la frecuencia de la señal separada del ruido."
   ]
  },
  {
   "cell_type": "code",
   "execution_count": null,
   "metadata": {},
   "outputs": [],
   "source": [
    "# Ejercicio 3"
   ]
  },
  {
   "cell_type": "markdown",
   "metadata": {},
   "source": [
    "## 4) Análisis de series temporales:\n",
    "Usted tiene acceso a las mediciones del número de manchas solares (zonas oscuras que se observan el Sol y que sabemos son zonas con gran intensidad en su campo magnético) realizadas desde 1945 hasta 2017\n",
    "Grafique los valores en función del tiempo.\n",
    "Realice la transformada de fourier.\n",
    "Grafique los resultados.\n",
    "Calcule el periodograma y determine el valor del período del ciclo predominante (conocido como \"ciclo solar\")"
   ]
  },
  {
   "cell_type": "code",
   "execution_count": null,
   "metadata": {},
   "outputs": [],
   "source": [
    "# Ejercicio 4"
   ]
  }
 ],
 "metadata": {
  "kernelspec": {
   "display_name": "base",
   "language": "python",
   "name": "python3"
  },
  "language_info": {
   "codemirror_mode": {
    "name": "ipython",
    "version": 3
   },
   "file_extension": ".py",
   "mimetype": "text/x-python",
   "name": "python",
   "nbconvert_exporter": "python",
   "pygments_lexer": "ipython3",
   "version": "3.11.5"
  }
 },
 "nbformat": 4,
 "nbformat_minor": 2
}
