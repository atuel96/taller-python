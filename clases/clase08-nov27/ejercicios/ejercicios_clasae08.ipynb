{
 "cells": [
  {
   "cell_type": "markdown",
   "metadata": {},
   "source": [
    "Importar el archivo `SN_m_tot_V2.0.csv` usando la función `read_csv()` de la librería Pandas.\n",
    "Usar el argumento `\";\"` al el parámetro `sep` (ejemplo: `read_csv(archivo, sep=\";\")`). Luego:\n",
    "\n",
    "1. graficar la fecha el número de manchas solares (Monthly total sunspot number) en función de la fecha (usar la comlumna Decimal date)\n",
    "\n",
    "2. Hacer un histograma de los valores de manchas solares\n",
    "\n",
    "3. En una misma figura graficar las manchas solares en función del tiempo, y el histograma de manchas solares, usando dos `axes` de matplitlib."
   ]
  },
  {
   "cell_type": "code",
   "execution_count": null,
   "metadata": {},
   "outputs": [],
   "source": []
  }
 ],
 "metadata": {
  "kernelspec": {
   "display_name": "base",
   "language": "python",
   "name": "python3"
  },
  "language_info": {
   "codemirror_mode": {
    "name": "ipython",
    "version": 3
   },
   "file_extension": ".py",
   "mimetype": "text/x-python",
   "name": "python",
   "nbconvert_exporter": "python",
   "pygments_lexer": "ipython3",
   "version": "3.11.5"
  }
 },
 "nbformat": 4,
 "nbformat_minor": 2
}
