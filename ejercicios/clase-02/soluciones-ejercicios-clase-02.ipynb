{
 "cells": [
  {
   "cell_type": "markdown",
   "metadata": {},
   "source": [
    "# Ejercicios Segunda Clase\n",
    "\n",
    "Cada ejercicio tiene una celda en blanco para que escriba su propio código. Puede crear celdas extras en caso de ser necesario, o simplemente por comodidad. Al momento de resolver los ejercicios utilice sus propias variables con nombres que ayuden a la comprensión del problema."
   ]
  },
  {
   "cell_type": "markdown",
   "metadata": {},
   "source": [
    "## Ejercicio 1: Propinas\n",
    "\n",
    "a) Escribe una función llamada `calcular_propina(costo, porcentaje)` que reciba dos parámetros: costo (el costo de una comida) y porcentaje (el porcentaje de propina que se desea dejar). La función debe devolver el valor de la propina calculada.\n",
    "\n",
    "b) ¿Qué debería hacer si desea que al llamar `calcular_propina(100)` la función devuelva el cálculo usando un porcentaje por defecto del 10%?\n",
    "\n",
    "### Ejemplo de salida:\n",
    "\n",
    "``` python\n",
    "calcular_propina(200, 15)  # Debe devolver 30.0\n",
    "calcular_propina(100)      # Debe devolver 10.0 (si se implementa el porcentaje por defecto)}\n",
    "```"
   ]
  },
  {
   "cell_type": "code",
   "execution_count": 1,
   "metadata": {},
   "outputs": [
    {
     "name": "stdout",
     "output_type": "stream",
     "text": [
      "30.0\n",
      "10.0\n"
     ]
    }
   ],
   "source": [
    "def calcular_propina(costo, porcentaje=10):\n",
    "    return costo*porcentaje/100\n",
    "\n",
    "print(calcular_propina(200, 15))\n",
    "print(calcular_propina(100))"
   ]
  },
  {
   "cell_type": "markdown",
   "metadata": {},
   "source": [
    "## Ejercicio 2: Conversión de Unidades\n",
    "\n",
    "a) Escribe una función llamada `kg_a_piedras(kg)` que convierta un valor de kilogramos a piedras ($1\\ piedra = 6.35029\\ kg$).\n",
    "\n",
    "b) Escribe una función llamada `piedras_a_kg(piedras)` que convierta un valor de piedras a kilogramos.\n",
    "\n",
    "c) Escriba una función llamda `farhenheit_a_celsius` que pregunte al usuario por la temperatura en grados Farhenheit e imprima la temperatura equivalente en grados Celcius.\n",
    "\n",
    "$$ T [°C] = ( T[°F] - 32) \\times \\frac{5}{9} $$\n",
    "\n",
    "\n",
    "### Ejemplos de salida\n",
    "``` python\n",
    "kg_a_piedras(70)       # Debe devolver 11.0231\n",
    "piedras_a_kg(11.0231)  # Debe devolver 70.0\n",
    "f_a_celsius(98.6)      # Debe devolver 37.0\n",
    "```"
   ]
  },
  {
   "cell_type": "code",
   "execution_count": 2,
   "metadata": {},
   "outputs": [],
   "source": [
    "def kg_a_piedras(kg):\n",
    "    return kg/6.35029\n",
    "\n",
    "\n",
    "def piedras_a_kg(piedras):\n",
    "    return piedras*6.35029\n",
    "\n",
    "\n",
    "def farhenheit_a_celsius(farhenheit):\n",
    "    return (farhenheit - 32) * 5/9\n"
   ]
  },
  {
   "cell_type": "markdown",
   "metadata": {},
   "source": [
    "## Ejercicio 3: Silenciador de Frases\n",
    "\n",
    "Escribe una función llamada `silenciador(frase)` que convierta una frase en mayúsculas (gritos) a minúsculas (volumen normal).\n",
    "\n",
    "### Ejemplos de salida\n",
    "``` python\n",
    "silenciador(\"AHHH\")  # Debe devolver \"ahhh\"\n",
    "silenciador(\"ESTO ES UNA PRUEBA\")  # Debe devolver \"esto es una prueba\"\n",
    "```"
   ]
  },
  {
   "cell_type": "code",
   "execution_count": 3,
   "metadata": {},
   "outputs": [
    {
     "name": "stdout",
     "output_type": "stream",
     "text": [
      "ahhhh\n"
     ]
    }
   ],
   "source": [
    "def silenciador(frase):\n",
    "    return frase.lower()\n",
    "\n",
    "print(silenciador(\"AHHHH\"))"
   ]
  },
  {
   "cell_type": "markdown",
   "metadata": {},
   "source": [
    "## Ejercicio 4: Burla\n",
    "\n",
    "Escribe una función llamada `burlarse(frase)` que cambie todas las vocales de una frase por la letra i.\n",
    "\n",
    "### Ejemplo de salida:\n",
    "\n",
    "```python\n",
    "burlarse(\"Hola como estas\")  # Debe devolver \"Hili cimi istis\"\n",
    "burlarse(\"Este es un ejemplo\")  # Debe devolver \"Isti is in ijimpli\"\n",
    "```"
   ]
  },
  {
   "cell_type": "code",
   "execution_count": 5,
   "metadata": {},
   "outputs": [
    {
     "name": "stdout",
     "output_type": "stream",
     "text": [
      "hili cimi indis\n"
     ]
    }
   ],
   "source": [
    "def burla(frase):\n",
    "    nueva_frase = frase.replace(\"a\", \"i\").replace(\"e\", \"i\").replace(\"o\", \"i\").replace(\"u\", \"i\")\n",
    "    return nueva_frase\n",
    "\n",
    "print(burla(\"hola como andas\"))"
   ]
  },
  {
   "cell_type": "code",
   "execution_count": 6,
   "metadata": {},
   "outputs": [
    {
     "name": "stdout",
     "output_type": "stream",
     "text": [
      "hili cimi indis\n"
     ]
    }
   ],
   "source": [
    "# Equivalente a la solución anterior\n",
    "def burla(frase):\n",
    "    nueva_frase = frase.replace(\"a\", \"i\")\n",
    "    nueva_frase = nueva_frase.replace(\"e\", \"i\")\n",
    "    nueva_frase = nueva_frase.replace(\"o\", \"i\")\n",
    "    nueva_frase = nueva_frase.replace(\"u\", \"i\")  \n",
    "    \n",
    "    return nueva_frase\n",
    "\n",
    "print(burla(\"hola como andas\"))"
   ]
  },
  {
   "cell_type": "markdown",
   "metadata": {},
   "source": [
    "## Ejercicio 5: Funciones Matemáticas\n",
    "\n",
    "Escriba las siguientes funciones:\n",
    "\n",
    "* `norma(x, y, z)`: Calcula y devuelve la norma de un vector con componentes $x$, $y$, $z$ (ayuda: para hacer una raiz cuadrada eleve a 0.5 (ej: x**0.5)).\n",
    "* `raices(a, b, c)`: Devuelve las raices de una ecuación cuadrática $ax^2 + bx + c = 0$. (ayuda: pruebe devolver las dos raices separadas por una coma)"
   ]
  },
  {
   "cell_type": "code",
   "execution_count": 1,
   "metadata": {},
   "outputs": [
    {
     "data": {
      "text/plain": [
       "(0.0, -2.0)"
      ]
     },
     "execution_count": 1,
     "metadata": {},
     "output_type": "execute_result"
    }
   ],
   "source": [
    "# Hacer\n",
    "\n",
    "def discriminante(a, b, c):\n",
    "    return b**2 - 4*a*c\n",
    "\n",
    "def raices(a, b, c):\n",
    "    x1 = (-b + (discriminante(a, b, c))**0.5)/(2*a)\n",
    "    x2 = (-b - (discriminante(a, b, c))**0.5)/(2*a)\n",
    "\n",
    "    return x1, x2\n",
    "\n",
    "\n",
    "raices(1, 2, 0)"
   ]
  }
 ],
 "metadata": {
  "kernelspec": {
   "display_name": "base",
   "language": "python",
   "name": "python3"
  },
  "language_info": {
   "codemirror_mode": {
    "name": "ipython",
    "version": 3
   },
   "file_extension": ".py",
   "mimetype": "text/x-python",
   "name": "python",
   "nbconvert_exporter": "python",
   "pygments_lexer": "ipython3",
   "version": "3.12.4"
  },
  "orig_nbformat": 4
 },
 "nbformat": 4,
 "nbformat_minor": 2
}
