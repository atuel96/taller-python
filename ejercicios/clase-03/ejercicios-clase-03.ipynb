{
 "cells": [
  {
   "cell_type": "markdown",
   "metadata": {},
   "source": [
    "# Ejercicios Clase 3\n",
    "\n",
    "\n",
    "2 Ejercicios y un problema para entregar"
   ]
  },
  {
   "cell_type": "markdown",
   "metadata": {},
   "source": [
    "## Ejercicio 1: Funcion en ramas\n",
    "\n",
    "Escriba la función `funcion_en_ramas(x)` que representa a la siguiente función:\n",
    "\n",
    "$$ f(x) = x, \\ si \\ |x| \\ge 1 $$\n",
    "$$ f(x) = x^3, \\ si \\ |x| < 1 $$"
   ]
  },
  {
   "cell_type": "code",
   "execution_count": null,
   "metadata": {},
   "outputs": [],
   "source": [
    "def funcion_en_ramas(x):\n",
    "    ..."
   ]
  },
  {
   "cell_type": "markdown",
   "metadata": {},
   "source": [
    "## Ejercicio 2: Calculadora de Peso \n",
    "\n",
    "Escribir una función `calcular_peso(masa_en_kg, cuerpo_celeste)` que calcule el peso de un objeto según su `masa_en_kg` en kilogramos y según el cuerpo celeste en el que se encuentre (considerando que esté en la superficie)\n",
    "\n",
    "La fución debe aceptar los siguientes cuerpos celestes:\n",
    "\n",
    "\n",
    "\n",
    "cuerpo celeste | aceleración de la gravedad en superficie\n",
    "---------------|-----------------------------------------\n",
    "tierra  |  9.8 $m/s^2$\n",
    "luna    | 1.6 $m/s^2$\n",
    "jupiter | 24.8 $m/s^2$\n",
    "saturno | 10.4 $m/s^2$\n",
    "urano   | 8.9 $m/s^2$\n",
    "neptuno | 11.2 $m/s^2$\n",
    "mercurio    | 3.7 $m/s^2$\n",
    "venus   | 8.9 $m/s^2$\n",
    "marte   | 3.7 $m/s^2$\n",
    "\n",
    "Recuerde que \n",
    "\n",
    "$$ P = mg$$\n",
    "\n",
    "Utilice un diccionario para guardar la información de las aceleraciones de la gravedad.\n",
    "\n",
    "**Ejemplos**\n",
    "\n",
    "``` python\n",
    "calcular_peso(10, \"tierra\") # 980\n",
    "calcular_peso(10, \"luna\") # \n",
    "\n",
    "```\n",
    "\n",
    "**Extra**\n",
    "\n",
    "Permita que la función siga funcionando en estos casos:\n",
    "\n",
    "``` python\n",
    "calcular_peso(10, \"tierra\") # 980\n",
    "calcular_peso(10, \"TIERA\") # 980\n",
    "calcular_peso(10, \" Tierra   \") # 980\n",
    "```"
   ]
  },
  {
   "cell_type": "code",
   "execution_count": null,
   "metadata": {},
   "outputs": [],
   "source": [
    "def calcular_peso(masa_en_kg, cuerpo_celeste):\n",
    "    ..."
   ]
  },
  {
   "cell_type": "markdown",
   "metadata": {},
   "source": [
    "## Problema a Entregar: Integral numérica\n",
    "\n",
    "Escriba una función en Python que realice una integración numérica de una función dada. \n",
    "\n",
    "La función debe tenerla siguiente firma: `integrar(funcion, a, b, n)`, donde:\n",
    "\n",
    "* `funcion` es la función a integrar,\n",
    "* `a` es el límiteinferior, \n",
    "* `b` es el límite superior\n",
    "* `n` es el número de intervalos.\n",
    "\n",
    "$$\n",
    "\\int_a^bf(x) \\approx \\frac{1}{h}\\sum_{i=0}^n f(x_i)\n",
    "$$\n",
    "\n",
    "siendo $h$ la longitud de cada intervalo, con:\n",
    "\n",
    "$$ x_i = a + ih, \\ \\ \\ i = 0, 1, ..., n$$\n",
    "$$ h = \\frac{b-a}{n}$$\n",
    "\n",
    "Tenga en cuenta que el número de intervalos será $n$ y que el número de puntos $x_i$ será $n+1$.\n",
    "\n",
    "\n",
    "Prueben la integración en alguna función conocida y fácil de integrar. El resultado debería acercarse más y más al valor real a medida que aumente $n$.\n",
    "\n",
    "** Extra: Si les resultó fácil intenten aplicar la [regla del trapecio](https://es.wikipedia.org/wiki/Regla_del_trapecio) o la [regla de Simpsons](https://es.wikipedia.org/wiki/Regla_de_Simpson)."
   ]
  },
  {
   "cell_type": "code",
   "execution_count": null,
   "metadata": {},
   "outputs": [],
   "source": [
    "def integrar(funcion, a, b, n): \n",
    "    ..."
   ]
  }
 ],
 "metadata": {
  "language_info": {
   "name": "python"
  }
 },
 "nbformat": 4,
 "nbformat_minor": 2
}
