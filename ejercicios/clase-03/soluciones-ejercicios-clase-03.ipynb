{
 "cells": [
  {
   "cell_type": "markdown",
   "metadata": {},
   "source": [
    "# Ejercicios Clase 3\n",
    "\n",
    "\n",
    "Ejercicios y un problema para entregar"
   ]
  },
  {
   "cell_type": "markdown",
   "metadata": {},
   "source": [
    "## Ejercicio 1: Funcion en ramas\n",
    "\n",
    "Escriba la función `funcion_en_ramas(x)` que representa a la siguiente función:\n",
    "\n",
    "$$ f(x) = x, \\ si \\ |x| \\ge 1 $$\n",
    "$$ f(x) = x^3, \\ si \\ |x| < 1 $$"
   ]
  },
  {
   "cell_type": "code",
   "execution_count": 4,
   "metadata": {},
   "outputs": [
    {
     "data": {
      "text/plain": [
       "0.125"
      ]
     },
     "execution_count": 4,
     "metadata": {},
     "output_type": "execute_result"
    }
   ],
   "source": [
    "def funcion_en_ramas(x):\n",
    "    if abs(x) >= 1:\n",
    "        return x\n",
    "    return x**3\n",
    "\n",
    "funcion_en_ramas(.5)"
   ]
  },
  {
   "cell_type": "markdown",
   "metadata": {},
   "source": [
    "## Ejercicio 2: Calcular el promedio\n",
    "\n",
    "Escriba la función `promedio(lista)` que recibe una lista de números y devuelve el promedio de los valores.\n",
    "\n",
    "#### Ejemplos\n",
    "``` python\n",
    "promedio([1, 2, 3]) # 2.0\n",
    "promedio([5, 5, 4, 5]) # 4.75\n",
    "promedio([-10, 10]) # 0.0\n",
    "```\n",
    "#### Ayudas (En caso de ser necesario)\n",
    "\n",
    "<details>\n",
    "  <summary>Ayuda 1</summary>\n",
    "  La función `sum()` nos permite calcular la suma de los elementos de una lista\n",
    "</details>\n",
    "\n",
    "<details>\n",
    "  <summary>Ayuda 2</summary>\n",
    "  La función `len()` nos permite saber cuantos elementos tenemos en la lista.\n",
    "</details>\n",
    "\n",
    "\n"
   ]
  },
  {
   "cell_type": "code",
   "execution_count": 6,
   "metadata": {},
   "outputs": [
    {
     "data": {
      "text/plain": [
       "4.75"
      ]
     },
     "execution_count": 6,
     "metadata": {},
     "output_type": "execute_result"
    }
   ],
   "source": [
    "def promedio(lista):\n",
    "    return sum(lista)/len(lista)\n",
    "\n",
    "promedio([1, 2, 3])\n",
    "promedio([5, 5, 4, 5])"
   ]
  },
  {
   "cell_type": "markdown",
   "metadata": {},
   "source": [
    "## Ejercicio 3: Calculadora de Peso \n",
    "\n",
    "Escribir una función `calcular_peso(masa_en_kg, cuerpo_celeste)` que calcule el peso de un objeto según su `masa_en_kg` en kilogramos y según el cuerpo celeste en el que se encuentre (considerando que esté en la superficie)\n",
    "\n",
    "La fución debe aceptar los siguientes cuerpos celestes:\n",
    "\n",
    "\n",
    "\n",
    "cuerpo celeste | aceleración de la gravedad en superficie\n",
    "---------------|-----------------------------------------\n",
    "tierra  |  9.8 $m/s^2$\n",
    "luna    | 1.6 $m/s^2$\n",
    "jupiter | 24.8 $m/s^2$\n",
    "saturno | 10.4 $m/s^2$\n",
    "urano   | 8.9 $m/s^2$\n",
    "neptuno | 11.2 $m/s^2$\n",
    "mercurio    | 3.7 $m/s^2$\n",
    "venus   | 8.9 $m/s^2$\n",
    "marte   | 3.7 $m/s^2$\n",
    "\n",
    "Recuerde que \n",
    "\n",
    "$$ P = mg$$\n",
    "\n",
    "Utilice un diccionario para guardar la información de las aceleraciones de la gravedad.\n",
    "\n",
    "**Ejemplos**\n",
    "\n",
    "``` python\n",
    "calcular_peso(10, \"tierra\") # 98\n",
    "calcular_peso(10, \"luna\") # 16\n",
    "\n",
    "```\n",
    "\n",
    "**Extra**\n",
    "\n",
    "Permita que la función siga funcionando en estos casos:\n",
    "\n",
    "``` python\n",
    "calcular_peso(10, \"tierra\") # 98\n",
    "calcular_peso(10, \"TIERA\") # 98\n",
    "calcular_peso(10, \" Tierra   \") # 98\n",
    "```"
   ]
  },
  {
   "cell_type": "code",
   "execution_count": null,
   "metadata": {},
   "outputs": [
    {
     "data": {
      "text/plain": [
       "16.0"
      ]
     },
     "execution_count": 10,
     "metadata": {},
     "output_type": "execute_result"
    }
   ],
   "source": [
    "def calcular_peso(masa_en_kg, cuerpo_celeste):\n",
    "    cuerpos = {\"tierra\" : 9.8, \"luna\" : 1.6} # agregar el resto\n",
    "\n",
    "    cuerpo_celeste = cuerpo_celeste.lower().strip()\n",
    "\n",
    "    return masa_en_kg * cuerpos[cuerpo_celeste]\n",
    "\n",
    "calcular_peso(10, \"LuNa\")"
   ]
  },
  {
   "cell_type": "markdown",
   "metadata": {},
   "source": [
    "## Problema a enregar: Calcular la Mediana\n",
    "\n",
    "**Enviar por mail** a `atuel.villegas@gmail.com` y `bdeharo@herrera.unt.edu.ar`.\n",
    "\n",
    "Escriba la función `mediana(lista_ordenada)` que recibe una lista ordenada de números y devuelve la mediana.\n",
    "\n",
    "### Teoría\n",
    "\n",
    "La mediana de una muestra (nuestra lista ordenada) puede tener dos valores dependiendo si tenemos un número par o inpar de elementos:\n",
    "\n",
    "* **Muestra inpar**: La mediana es el valor que está en el medio. Por ejemplo si la lista es  `[1, 2, 3]`, la mediana es `2`.\n",
    "* **Muestra par**: La mediana es el promedio de los dos valores centrales. Por ejemplo para la lista `[1, 2, 3, 4]`, la mediana es  `(2+3)/2`.\n",
    "\n",
    "La ventaja de la mediana sobre la media es que no resulta afectada por los outliers (a diferencia del promedio).\n",
    "\n",
    "### Ejemplos\n",
    "\n",
    "``` python\n",
    "mediana([1, 2, 3]) # 2\n",
    "mediana([1, 2, 3, 4]) # 2.5\n",
    "mediana([1.1, 2.2, 55.5]) # 2.2\n",
    "```\n",
    "\n",
    "### Ayudas\n",
    "\n",
    "<details>\n",
    "  <summary>Ayuda</summary>\n",
    "  Para calcular la mediana tengo que verificar que la lista tenga un número par o impar de elementos. Esto se puede lograr verificando que `len(lista)%2 == 0`\n",
    "</details>\n",
    "\n",
    "### Extra\n",
    "\n",
    "¿Que pasaría si tengo una lista que no esta ordenada? Existe un método llamado `sort()`que me permite ordenar la lista. Un detalle es que `sort()` no devuelve una lista ordenada, sino que ordena la lista original (es decir que modifica el objeto original).\n",
    "\n",
    "Prueben lo siguiente: \n",
    "``` python\n",
    "lista = [5, 4, 1, 2]\n",
    "lista.sort() # devuelve None\n",
    "print(lista) # [1, 2, 4, 5]\n",
    "```\n"
   ]
  },
  {
   "cell_type": "code",
   "execution_count": 7,
   "metadata": {},
   "outputs": [],
   "source": [
    "def mediana(lista_ordenada):\n",
    "    ...\n",
    "        "
   ]
  }
 ],
 "metadata": {
  "kernelspec": {
   "display_name": "base",
   "language": "python",
   "name": "python3"
  },
  "language_info": {
   "codemirror_mode": {
    "name": "ipython",
    "version": 3
   },
   "file_extension": ".py",
   "mimetype": "text/x-python",
   "name": "python",
   "nbconvert_exporter": "python",
   "pygments_lexer": "ipython3",
   "version": "3.12.4"
  }
 },
 "nbformat": 4,
 "nbformat_minor": 2
}
