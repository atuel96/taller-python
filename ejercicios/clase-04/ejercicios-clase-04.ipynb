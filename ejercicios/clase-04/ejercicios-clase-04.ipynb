{
 "cells": [
  {
   "cell_type": "markdown",
   "metadata": {},
   "source": [
    "# Ejercicios Clase 4\n",
    "\n",
    "\n",
    "2 Ejercicios y un problema para entregar"
   ]
  },
  {
   "cell_type": "markdown",
   "metadata": {},
   "source": [
    "### Ejercicio. Imprimir Triangulo\n",
    "\n",
    "Escriba la función `imprimir_triangulo(altura)` que reciba un entero e imprima un triangulo de asteríscos (*) con la altura indicada.\n",
    "Por ejemplo:\n",
    "\n",
    "``` python\n",
    "In [1]: imprimir_triangulo(4)\n",
    "Out[1]: *\n",
    "        **\n",
    "        ***\n",
    "        ****\n",
    "```"
   ]
  },
  {
   "cell_type": "code",
   "execution_count": null,
   "metadata": {},
   "outputs": [],
   "source": []
  },
  {
   "cell_type": "markdown",
   "metadata": {},
   "source": [
    "### Ejercicio. Dado de n caras\n",
    "\n",
    "Escribir la función `tirar_dado(caras)` que devuelve un número entre 1 y el número de caras.\n",
    "\n",
    "Por ejemplo:\n",
    "\n",
    "``` python\n",
    "In [1]: tirar_dados(6)\n",
    "Out[1]: 6\n",
    "In [2]: tirar_dados(6)\n",
    "Out[2]: 4\n",
    "```"
   ]
  },
  {
   "cell_type": "code",
   "execution_count": null,
   "metadata": {},
   "outputs": [],
   "source": []
  },
  {
   "cell_type": "markdown",
   "metadata": {},
   "source": [
    "### Ejercicio. ¿Es Primo?\n",
    "\n",
    "Un número par es un número que se puede dividir en dos (es decir que al dividir el resto es 0, o que el resultado no es un decimal sino un valor entero). Preguntar si un número es par es lo mismo que preguntar si ese número se puede dividir por 2. Veamos el siguiente código para tener como ejemplo:\n",
    "\n",
    "``` python\n",
    "\n",
    "In [1]: def es_par(num):\n",
    "            # Esta función devuelve verdadero si 'num' es par\n",
    "            return num % 2 == 0 \n",
    "\n",
    "In [2]: print(es_par(5))\n",
    "Out[2]: False\n",
    "In [3]: print(es_par(10))\n",
    "Out[3]: True\n",
    "```\n",
    "\n",
    "Ahora intentemos escribir la función `es_primo(num)` que devuelva `True` en caso de que el número ingresado sea primo. Un [número primo](https://es.wikipedia.org/wiki/N%C3%BAmero_primo) es un número que solamente es divisible entre él mismo y el 1. Los primeros números primos son 2, 3, 5 y 7. Por ejemplo el 5 solo es divisible entre 1 y 5, el número 7 solo es divisible entre 1 y 7.\n",
    "\n",
    "Ejemplo:\n",
    "\n",
    "``` python\n",
    "In [1]: print(es_primo(11))\n",
    "Out[1]: True\n",
    "In [2]: print(es_primo(12))\n",
    "Out[2]: False\n",
    "```"
   ]
  },
  {
   "cell_type": "code",
   "execution_count": null,
   "metadata": {},
   "outputs": [],
   "source": []
  },
  {
   "cell_type": "markdown",
   "metadata": {},
   "source": [
    "### Ejercicio. Primos\n",
    "\n",
    "Escribamos una función llamada `imprimir_primos(n)` que reciba un entero `n` e imprima todos los números desde el 1 hasta ese número.\n",
    "\n",
    "\n",
    "``` python\n",
    "In [1]: imprimir_primos(15)\n",
    "Out[1]: 2\n",
    "        3\n",
    "        5\n",
    "        7\n",
    "        11\n",
    "        13\n",
    "```"
   ]
  },
  {
   "cell_type": "code",
   "execution_count": null,
   "metadata": {},
   "outputs": [],
   "source": []
  },
  {
   "cell_type": "markdown",
   "metadata": {},
   "source": [
    "### Ejercicio. Diccionario de Vocales\n",
    "\n",
    "Escriba la función `diccionario_de_vocales(texto)` que reciba un texto y devuelva un diccionario, donde las llaves sean las vocales (a, e, i, o ,u) y los valores sean la cantidad de veces que aparece cada vocal.\n",
    "\n",
    "Ejemplo:\n",
    "\n",
    "``` python\n",
    "In [1]: print(diccionario_de_vocales(\"hola\"))\n",
    "Out[1]: {\"a\" : 1, \"e\" : 0, \"i\": 0, \"o\": 1, \"u\": 0}\n",
    "In [2]: print(contar_vocales(\"Argentina\"))\n",
    "Out[2]: {\"a\" : 2, \"e\" : 1, \"i\": 1, \"o\": 0, \"u\": 0}\n",
    "```\n",
    "\n",
    "* **Ayuda 1**: Recordemos que podemos recorrer una string con un bucle for:\n",
    "\n",
    "``` python\n",
    "In [1]: for letra in \"abcd\":\n",
    "            print(letra)\n",
    "Out[1]: a\n",
    "        b\n",
    "        c\n",
    "        d\n",
    "``` \n",
    "* **Ayuda 2**: Recordar el método `.count()`:\n",
    "\n",
    "``` python\n",
    "\"palabra\".count(\"a\") # 3\n",
    "``` \n"
   ]
  },
  {
   "cell_type": "code",
   "execution_count": null,
   "metadata": {},
   "outputs": [],
   "source": []
  },
  {
   "cell_type": "markdown",
   "metadata": {},
   "source": [
    "### Ejercicio. Contar Vocales\n",
    "\n",
    "Escriba la función `contar_vocales(texto)` que reciba un texto y devuelva el número de vocales que aparecen en ese texto (ya sea que esta en mayusculas o en minúsculas).\n",
    "\n",
    "Ejemplo:\n",
    "\n",
    "``` python\n",
    "In [1]: print(contar_vocales(\"hola\"))\n",
    "Out[1]: 2\n",
    "In [2]: print(contar_vocales(\"Argentina\"))\n",
    "Out[2]: 4\n",
    "```\n"
   ]
  },
  {
   "cell_type": "code",
   "execution_count": null,
   "metadata": {},
   "outputs": [],
   "source": []
  },
  {
   "cell_type": "markdown",
   "metadata": {},
   "source": [
    "### Ejercicio. Crear una lista de compras\n",
    "\n",
    "Primero leamos y entendamos el siguiente código. Al inicio se crea una lista vacia, y luego en un bucle while se pide al usuario que agrege cosas a la lista. El bucle termina cuando la lista tenga 5 elementos. Al finalizar se imprime la lista de compras:\n",
    "\n",
    "``` python\n",
    "lista_de_compras = []\n",
    "\n",
    "while len(lista_de_compras) < 5:\n",
    "    item = input(\"Agregue un elemento a la lista de compras: \")\n",
    "    lista_de_compras.append(item)\n",
    "\n",
    "print(f\"Lista de compras: {lista_de_compras}\")\n",
    "```\n",
    "\n",
    "Ahora veamos este otro programa donde se crea un bucle infinito pero se pregunta al usuario si desea salir. Si el usuario ingresa una `\"s\"` (s de sí) entonces el bucle se termina:\n",
    "\n",
    "``` python\n",
    "while True:\n",
    "    print(\"Estamos en un bucle infinito\")\n",
    "    respuesta = input(\"Quiere salir del bucle infinito? (s/n): \")\n",
    "    if respuesta == \"s\":\n",
    "        break # break rompe el bucle   \n",
    "\n",
    "print(\"Felicidades! Ha salido del bucle infinito\")\n",
    "``` \n",
    "\n",
    "Usando estos dos ejemplos de base escriba un programa que haga lo siguiente:\n",
    "\n",
    "1) Se empiza con una lista de compras vacía\n",
    "2) Se le pide al usuario que agregue un elemento a la lista\n",
    "3) Se le pregunta al usuario si quiere seguir agregando más elementos o no\n",
    "4) Si la respuesta fue sí (una \"s\"), volvemos al paso 2\n",
    "5) Si la respuesta fue cualquier otra el bucle debe terminar \n",
    "6) Finalmente se imprime la lista de compras\n",
    "\n",
    "* **Extra**: Evite que se ingrese el mismo elemento dos o más veces a la lista. Tenga en cuenta el siguiente ejemplo:\n",
    "\n",
    "``` python\n",
    ">>> lista = [\"a\", \"b\", \"c\"]\n",
    ">>> print(\"f\" in lista)\n",
    "False\n",
    "```"
   ]
  },
  {
   "cell_type": "code",
   "execution_count": null,
   "metadata": {},
   "outputs": [
    {
     "data": {
      "text/plain": [
       "16.0"
      ]
     },
     "execution_count": 2,
     "metadata": {},
     "output_type": "execute_result"
    }
   ],
   "source": []
  },
  {
   "cell_type": "markdown",
   "metadata": {},
   "source": [
    "### Ejercicio. Graficar una curva Normal\n",
    "\n",
    "Utilice la siguiente función de numpy https://numpy.org/doc/2.0/reference/random/generated/numpy.random.normal.html para generar 100 puntos aleatorios que sigan una distribución normal centrada en $x=1$ con una desviación estandar $\\sigma = 2$. Luego grafique un histograma de esos puntos (utilice la función `plt.hist()` de matplotlib)\n",
    "\n"
   ]
  },
  {
   "cell_type": "code",
   "execution_count": null,
   "metadata": {},
   "outputs": [],
   "source": [
    "import numpy as np\n",
    "import matplotlib.pyplot as plt\n",
    "\n",
    "# np.random.normal()\n",
    "# HACER"
   ]
  },
  {
   "cell_type": "markdown",
   "metadata": {},
   "source": [
    "### Ejercicio. Puntos aleatorios\n",
    "\n",
    "cree 100 puntos aleatorios $(x, y)$ uniformemente distribuidos en el rango [0, 1] (puede usar la función `random.uniform()` de numpy) y muestrelos en pantalla usando la librería matplotlib (con la función `plt.scatter()`).\n",
    "\n",
    "* Extra: Intente hacer que el tamaño de los puntos sea también aleatorio (existe un parámetro llamado \"s\" dentro de la función scatter para dar el tamaño de los puntos)"
   ]
  },
  {
   "cell_type": "code",
   "execution_count": null,
   "metadata": {},
   "outputs": [],
   "source": [
    "import numpy as np\n",
    "import matplotlib.pyplot as plt\n",
    "\n",
    "# np.random.uniform()\n",
    "# HACER"
   ]
  },
  {
   "cell_type": "markdown",
   "metadata": {},
   "source": [
    "### Ejercicio. Leamos la documentación e Interpolemos:\n",
    "\n",
    "Supongamos que tenemos una serie de datos y queremos interpolarlos. Podriamos escribir el código nosotros mismos (y podría ser un buen aprendizaje), pero un compañero nos comenta que existe una función para eso ya implementada en la librería `numpy`. La función en cuestión es `interp()`, y al buscarla en google encontramos su documentación. https://numpy.org/doc/stable/reference/generated/numpy.interp.html Prestemos atención solo a los tres primeros parámetros (Aquí nos explican todos los parametros que tiene la función y nos dan ejemplos también).\n",
    "\n",
    "\n",
    "Nuestros datos en cuestión son los siguientes:\n",
    "\n",
    "``` python\n",
    "datos_x = [1, 2, 3, 4, 5]\n",
    "datos_y = [1, 4, 9, 4, 1]\n",
    "```\n",
    "Y yo quiero saber cual sería el valor de `y` interpolado para un dado `x`\n",
    "\n",
    "En base a los datos, debría cumplirse que:\n",
    "\n",
    "``` python\n",
    "x = 3.5 # y debería ser 6.5\n",
    "x = 4.9 # y debería ser 1.2999\n",
    "x = 1.1 # y debería ser 1.3000\n",
    "```\n"
   ]
  },
  {
   "cell_type": "code",
   "execution_count": 11,
   "metadata": {},
   "outputs": [],
   "source": [
    "import numpy as np\n",
    "\n",
    "datos_x = [1, 2, 3, 4, 5]\n",
    "datos_y = [1, 4, 9, 4, 1]\n",
    "\n",
    "x = 1.1\n",
    "\n",
    "# Calcular e Imprimir el y interpolado\n",
    "y = ... # Usar la función np.interp()"
   ]
  },
  {
   "cell_type": "markdown",
   "metadata": {},
   "source": [
    "### Ejercicio. Más documentación, y ajuste lineal\n",
    "\n",
    "Haga un ajuste lineal. Lea la documentación para ver como se utiliza la función:\n",
    "https://numpy.org/doc/stable/reference/generated/numpy.polyfit.html \n",
    "\n",
    "* Nota: Preste atención al objeto que devuelve el ajuste. Vea los ejemplos"
   ]
  },
  {
   "cell_type": "code",
   "execution_count": 3,
   "metadata": {},
   "outputs": [
    {
     "data": {
      "image/png": "[encoded data removed]",
      "text/plain": [
       "<Figure size 640x480 with 1 Axes>"
      ]
     },
     "metadata": {},
     "output_type": "display_data"
    }
   ],
   "source": [
    "import numpy as np\n",
    "import matplotlib.pyplot as plt\n",
    "\n",
    "# Datos artificiales\n",
    "# ------------------\n",
    "num = 101\n",
    "x = np.linspace(0, 10, num)\n",
    "# genero ruido usando una distribución normal con desviación estandar 2\n",
    "ruido = np.random.normal(0, 2, size=num)\n",
    "y = 2 + 3*x + ruido \n",
    "\n",
    "# Ajuste Lineal\n",
    "# -------------\n",
    "\n",
    "# HACER\n",
    "...\n",
    "ajuste = ...\n",
    "\n",
    "# Ploteo\n",
    "# ------\n",
    "plt.plot(x, y, label=\"Datos\")\n",
    "# plt.plot(x, ajuste, label=\"Ajuste\") # Quitar comentario\n",
    "plt.xlabel(\"x\")\n",
    "plt.ylabel(\"y\")\n",
    "plt.legend()\n",
    "plt.show()"
   ]
  },
  {
   "cell_type": "markdown",
   "metadata": {},
   "source": [
    "### Ejercicio Opcional. Aún más documentación, ahora ajustemos una curva\n",
    "\n",
    "SciPy es otra librería científica bastante útil que viene instalada dentro del paquete de Anaconda. Intente utilizar la siguiente función para ajustar datos a una función exponencial\n",
    "https://docs.scipy.org/doc/scipy/reference/generated/scipy.optimize.curve_fit.html \n",
    "\n",
    "Supongamos que quiero ajustar los datos a la función:\n",
    "$$ \n",
    "f(x) = a \\cdot exp[b \\cdot x]\n",
    "$$\n",
    "Donde $x$ es la variable independiente y $a$ y $b$ serán los parámetros del ajuste.\n",
    "\n",
    "* Nota: Preste atención al objeto que devuelve el ajuste. Vea los ejemplos\n"
   ]
  },
  {
   "cell_type": "code",
   "execution_count": 1,
   "metadata": {},
   "outputs": [
    {
     "data": {
      "image/png": "[encoded data removed]",
      "text/plain": [
       "<Figure size 640x480 with 1 Axes>"
      ]
     },
     "metadata": {},
     "output_type": "display_data"
    }
   ],
   "source": [
    "# Importo la función curve_fit() y otras librerias que voy a utilizar\n",
    "from scipy.optimize import curve_fit \n",
    "import numpy as np\n",
    "import matplotlib.pyplot as plt\n",
    "\n",
    "# Defino un conjunto de datos artificial\n",
    "# --------------------------------------\n",
    "\n",
    "num = 101 # el número de datos\n",
    "x = np.linspace(0, 4, num) \n",
    "# genero ruido usando una distribución normal con desviación estandar 2\n",
    "ruido = np.random.normal(0, 2, size=num) \n",
    "y = 2*np.exp(0.5*x) + ruido \n",
    "\n",
    "\n",
    "# Completar aquí\n",
    "# --------------\n",
    "...\n",
    "ajuste = ...\n",
    "\n",
    "# Ploteo los datos\n",
    "# ----------------\n",
    "\n",
    "plt.plot(x, y, label=\"Mis Datos\")\n",
    "#plt.plot(x, ajuste, label=\"Ajuste\") \n",
    "plt.legend() # Uso esto para imprimir los labels\n",
    "plt.xlabel(\"x\")\n",
    "plt.ylabel(\"y\")\n",
    "plt.show()"
   ]
  },
  {
   "cell_type": "markdown",
   "metadata": {},
   "source": [
    "## Problema a Entregar: Integral numérica\n",
    "\n",
    "**Enviar por mail** a `atuel.villegas@gmail.com` y `bdeharo@herrera.unt.edu.ar` como un archivo de la siguiente forma:\n",
    "\n",
    "`Integral-numerica-<apellido(s)>-<nombre(s)>.py` (reemplacen <apellido(s)> y <nombre(s)>)\n",
    "\n",
    "Escriba una función en Python que realice una integración numérica de una función dada. \n",
    "\n",
    "La función debe tenerla siguiente firma: `integrar(funcion, a, b, n)`, donde:\n",
    "\n",
    "* `funcion` es la función a integrar,\n",
    "* `a` es el límiteinferior, \n",
    "* `b` es el límite superior\n",
    "* `n` es el número de intervalos.\n",
    "\n",
    "$$\n",
    "\\int_a^bf(x) \\approx \\frac{1}{h}\\sum_{i=0}^n f(x_i)\n",
    "$$\n",
    "\n",
    "siendo $h$ la longitud de cada intervalo, con:\n",
    "\n",
    "$$ x_i = a + ih, \\ \\ \\ i = 0, 1, ..., n$$\n",
    "$$ h = \\frac{b-a}{n}$$\n",
    "\n",
    "Tenga en cuenta que el número de intervalos será $n$ y que el número de puntos $x_i$ será $n+1$.\n",
    "\n",
    "\n",
    "Prueben la integración en alguna función conocida y fácil de integrar. El resultado debería acercarse más y más al valor real a medida que aumente $n$.\n",
    "\n",
    "** Extra: Si les resultó fácil intenten aplicar la [regla del trapecio](https://es.wikipedia.org/wiki/Regla_del_trapecio) o la [regla de Simpsons](https://es.wikipedia.org/wiki/Regla_de_Simpson)."
   ]
  },
  {
   "cell_type": "code",
   "execution_count": null,
   "metadata": {},
   "outputs": [],
   "source": [
    "def integrar(funcion, a, b, n): \n",
    "    ..."
   ]
  }
 ],
 "metadata": {
  "kernelspec": {
   "display_name": "base",
   "language": "python",
   "name": "python3"
  },
  "language_info": {
   "codemirror_mode": {
    "name": "ipython",
    "version": 3
   },
   "file_extension": ".py",
   "mimetype": "text/x-python",
   "name": "python",
   "nbconvert_exporter": "python",
   "pygments_lexer": "ipython3",
   "version": "3.12.4"
  }
 },
 "nbformat": 4,
 "nbformat_minor": 2
}
