{
  "cells": [
    {
      "cell_type": "markdown",
      "metadata": {
        "id": "x7jvU1iNGvRo"
      },
      "source": [
        "# Funciones en Python\n",
        "\n",
        "## Contenido de este Notebook\n",
        "\n",
        "En este notebook trataremos los siguientes temas:\n",
        "\n",
        "* Valores de Retorno en Funciones\n",
        "* Definir Nuestras Propias Funciones\n",
        "* Alcance (Scope)"
      ]
    },
    {
      "cell_type": "markdown",
      "metadata": {},
      "source": [
        "## Retorno de Valores\n",
        "\n",
        "Hasta ahora discutimos brevemente la función `print()`. En python una función tiene 0 o más parámetros, y al ejectuar una función esta devuelve un resultado.\n",
        "\n",
        "Pero en Python las funciones también funcionan como lo que se conoce como procedimientos en otros lenguajes como Fortran. Un procedimiento básicamente realiza una acción pero no regresa ningún valor.\n",
        "\n",
        "Veamos que pasa cuando guardamos el resultado de la función `print()` en una variable."
      ]
    },
    {
      "cell_type": "code",
      "execution_count": 7,
      "metadata": {},
      "outputs": [
        {
          "name": "stdout",
          "output_type": "stream",
          "text": [
            "Hola gente\n",
            "None\n"
          ]
        }
      ],
      "source": [
        "variable = print(\"Hola gente\")\n",
        "print(variable)"
      ]
    },
    {
      "cell_type": "markdown",
      "metadata": {},
      "source": [
        "#### Otras Funciones Útiles\n",
        "Veamos otra función. `input()` permite al usuario ingresar datos."
      ]
    },
    {
      "cell_type": "code",
      "execution_count": 6,
      "metadata": {},
      "outputs": [
        {
          "name": "stdout",
          "output_type": "stream",
          "text": [
            "Cuál es tu nombre?\n",
            "hola Atuel\n"
          ]
        }
      ],
      "source": [
        "print(\"Cuál es tu nombre?\")\n",
        "nombre = input() \n",
        "\n",
        "print(\"hola\", nombre)"
      ]
    },
    {
      "cell_type": "code",
      "execution_count": 2,
      "metadata": {},
      "outputs": [
        {
          "data": {
            "text/plain": [
              "str"
            ]
          },
          "execution_count": 2,
          "metadata": {},
          "output_type": "execute_result"
        }
      ],
      "source": [
        "type(nombre)"
      ]
    },
    {
      "cell_type": "code",
      "execution_count": null,
      "metadata": {},
      "outputs": [],
      "source": [
        "# La función input también me permite imprimir una cadena\n",
        "nombre = input(\"Cuál es tu nombre? \") \n",
        "print(\"hola\", nombre)"
      ]
    },
    {
      "cell_type": "markdown",
      "metadata": {},
      "source": [
        "`min(), max(), round(), abs()` Son otras funciones de utilidad"
      ]
    },
    {
      "cell_type": "code",
      "execution_count": 12,
      "metadata": {},
      "outputs": [
        {
          "data": {
            "text/plain": [
              "6"
            ]
          },
          "execution_count": 12,
          "metadata": {},
          "output_type": "execute_result"
        }
      ],
      "source": [
        "max(4, 5, 6)"
      ]
    },
    {
      "cell_type": "code",
      "execution_count": 13,
      "metadata": {},
      "outputs": [
        {
          "data": {
            "text/plain": [
              "55"
            ]
          },
          "execution_count": 13,
          "metadata": {},
          "output_type": "execute_result"
        }
      ],
      "source": [
        "abs(-55)"
      ]
    },
    {
      "cell_type": "markdown",
      "metadata": {
        "id": "ERS05ierGvT8"
      },
      "source": [
        "## Definir Funciones\n",
        "\n",
        "Python nos permite escribir nuestras porpias funciones, las cuales nos evitarán tener que escribir el mismo código múltiples veces.\n",
        "\n",
        "Las funciones en python a veces son parecidas a las funciones matemáticas, con una entrada y una salida.\n",
        "\n",
        "Para declarar una función utilizaremos la palabra `def` seguida del nombre de nuestra función y un paréntesis con parámetros (los cuales son opcionales).\n",
        "\n",
        "Al igual que con los bucles es importante identar el código que se ejecutará dentro de nuestra función. Finalmente con la palabra `return` especificamos el valor que retorna la función.\n",
        "\n",
        "```\n",
        "def <nombre-funcion>(<parámetro-1>,<parámetro-2>):\n",
        "    ...\n",
        "    return <algo>\n",
        "```\n",
        "\n",
        "Veamos un ejemplo sencillo, donde creamos una función que devuelve un número al cuadrado."
      ]
    },
    {
      "cell_type": "code",
      "execution_count": null,
      "metadata": {
        "id": "lHfQhgKjGvT8",
        "outputId": "ad8f9a4c-d2c9-4dbb-bcab-f20585b57918"
      },
      "outputs": [
        {
          "name": "stdout",
          "output_type": "stream",
          "text": [
            "4\n",
            "25\n"
          ]
        }
      ],
      "source": [
        "def cuadrado(x):\n",
        "    return x**2\n",
        "\n",
        "print(cuadrado(2))\n",
        "print(cuadrado(5))"
      ]
    },
    {
      "cell_type": "code",
      "execution_count": null,
      "metadata": {
        "id": "_-lEhkeYGvT8",
        "outputId": "87f2a768-8533-412a-ba73-18f6b681f7fb"
      },
      "outputs": [
        {
          "name": "stdout",
          "output_type": "stream",
          "text": [
            "7\n"
          ]
        }
      ],
      "source": [
        "# Otro ejemplo\n",
        "def suma(a, b):\n",
        "    return a + b\n",
        "\n",
        "print(suma(4, 3))"
      ]
    },
    {
      "cell_type": "code",
      "execution_count": 9,
      "metadata": {},
      "outputs": [
        {
          "name": "stdout",
          "output_type": "stream",
          "text": [
            "hola Blas\n",
            "hola Mundo\n"
          ]
        }
      ],
      "source": [
        "def saludar(nombre):\n",
        "    print(\"hola\", nombre)\n",
        "\n",
        "saludar(\"Blas\")"
      ]
    },
    {
      "cell_type": "code",
      "execution_count": null,
      "metadata": {
        "id": "wkDSI3QfGvUE",
        "outputId": "11a652d2-92f3-4039-b8f5-b47bc8b76aa0"
      },
      "outputs": [
        {
          "name": "stdout",
          "output_type": "stream",
          "text": [
            "-5\n"
          ]
        }
      ],
      "source": [
        "# otro ejemplo tonto:\n",
        "def imprimir_el_negativo(numero):\n",
        "    print(-numero)\n",
        "\n",
        "imprimir_el_negativo(5)"
      ]
    },
    {
      "cell_type": "code",
      "execution_count": null,
      "metadata": {
        "id": "9hlMmJ8oGvUF"
      },
      "outputs": [],
      "source": [
        "# EJERCICIO\n",
        "\n",
        "# cree una variable global e intente modificarla dentro de una función, verifique si se modificó o no la variable\n",
        "# Que pasa si hago una función para agregar o quitar un elemento de una lista global, se modifica la lista original\n",
        "# al modificarla en la función?"
      ]
    },
    {
      "cell_type": "markdown",
      "metadata": {
        "id": "1IF3oia7GvUF"
      },
      "source": [
        "### Argumentos por defecto\n",
        "\n",
        "Cuando definimos una función con sus parámetros podemos definir algunos argumentos por defecto de la siguente forma:\n",
        "\n",
        "```\n",
        "def mi_funcion(x, y=0):\n",
        "    bloque\n",
        "```\n",
        "\n",
        "De esta forma si solo se pasa un argumento a la función, el segundo parámetro usará el argumento por defecto."
      ]
    },
    {
      "cell_type": "code",
      "execution_count": 11,
      "metadata": {},
      "outputs": [
        {
          "name": "stdout",
          "output_type": "stream",
          "text": [
            "hola Blas\n",
            "hola Mundo\n"
          ]
        }
      ],
      "source": [
        "def saludar(nombre=\"Mundo\"):\n",
        "    print(\"hola\", nombre)\n",
        "\n",
        "saludar(\"Blas\")\n",
        "saludar()"
      ]
    },
    {
      "cell_type": "markdown",
      "metadata": {},
      "source": [
        "### Alcance (Scope) de las variables\n",
        "\n",
        "El alcance (o scope en inglés) de una variable define el espacio en el que se puede acceder a ella.\n",
        "\n",
        "Por ejemplo, si defino una variable dentro de una función, nos preguntemos:\n",
        "\n",
        "* Puedo acceder a esa variable desde afuera? \n",
        "* Puede acceder desde otra función?\n",
        "* Y dentro de una función puedo acceder variables definidas afuera de ella? "
      ]
    },
    {
      "cell_type": "code",
      "execution_count": 10,
      "metadata": {
        "id": "Kbq8dHi7GvUQ"
      },
      "outputs": [],
      "source": [
        "def f():\n",
        "    a = 5 # variable local\n",
        "\n",
        "# Veamos que pasa\n",
        "# print(a)"
      ]
    },
    {
      "cell_type": "code",
      "execution_count": null,
      "metadata": {},
      "outputs": [],
      "source": [
        "c = 10 # variable global\n",
        "\n",
        "def g():\n",
        "    print(c)"
      ]
    },
    {
      "cell_type": "code",
      "execution_count": null,
      "metadata": {},
      "outputs": [],
      "source": [
        "# Que va a pasar ahora?\n",
        "z = 15 # variable global\n",
        "\n",
        "def f():\n",
        "    z = -55\n",
        "    print(z)\n",
        "\n",
        "# f()\n",
        "print(z)"
      ]
    },
    {
      "cell_type": "markdown",
      "metadata": {},
      "source": [
        "### Algunas Funciones Útiles"
      ]
    },
    {
      "cell_type": "markdown",
      "metadata": {},
      "source": []
    }
  ],
  "metadata": {
    "colab": {
      "provenance": []
    },
    "kernelspec": {
      "display_name": "Python 3",
      "language": "python",
      "name": "python3"
    },
    "language_info": {
      "codemirror_mode": {
        "name": "ipython",
        "version": 3
      },
      "file_extension": ".py",
      "mimetype": "text/x-python",
      "name": "python",
      "nbconvert_exporter": "python",
      "pygments_lexer": "ipython3",
      "version": "3.11.5"
    },
    "orig_nbformat": 4
  },
  "nbformat": 4,
  "nbformat_minor": 0
}
