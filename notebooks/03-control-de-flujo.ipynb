{
  "cells": [
    {
      "cell_type": "markdown",
      "metadata": {
        "id": "0Vkiyx8uoBdo"
      },
      "source": [
        "## Control de flujo\n",
        "\n",
        "Muchas veces queremos que nuestro programa realice diferentes acciones dependiendo de ciertos factores.\n",
        "\n",
        "Empezaremos aprendiendo sobre los operadores de comparación:\n",
        "\n",
        "\n",
        "### Operadores de Comparación\n",
        "\n",
        "Los operadores de comparación nos resultarán bastante familiares. Una comparación se realiza entre dos objetos, y si la expresión es válida el resultado será un booleano (True o False)"
      ]
    },
    {
      "cell_type": "code",
      "execution_count": null,
      "metadata": {
        "id": "8VRupxJz9uBy",
        "outputId": "0279e848-86bf-4fde-88ef-2631719a0e86"
      },
      "outputs": [
        {
          "data": {
            "text/plain": [
              "False"
            ]
          },
          "execution_count": 5,
          "metadata": {},
          "output_type": "execute_result"
        }
      ],
      "source": [
        "5 < 4 # False"
      ]
    },
    {
      "cell_type": "code",
      "execution_count": null,
      "metadata": {
        "id": "G3Dampjn9uBz",
        "outputId": "3b4c32ca-a7a8-43bf-b5c1-a5a2e2ca0248"
      },
      "outputs": [
        {
          "data": {
            "text/plain": [
              "True"
            ]
          },
          "execution_count": 7,
          "metadata": {},
          "output_type": "execute_result"
        }
      ],
      "source": [
        "12 > 5 # True"
      ]
    },
    {
      "cell_type": "code",
      "execution_count": null,
      "metadata": {
        "id": "4S9s89Mf9uB0",
        "outputId": "0effb277-43d4-4a7b-aa4b-a0c6b637f499"
      },
      "outputs": [
        {
          "data": {
            "text/plain": [
              "True"
            ]
          },
          "execution_count": 12,
          "metadata": {},
          "output_type": "execute_result"
        }
      ],
      "source": [
        "# También existen el mayor o igual >= y menor o igual <=\n",
        "5 >= 4"
      ]
    },
    {
      "cell_type": "code",
      "execution_count": null,
      "metadata": {
        "id": "NrlPWuNU9uB0",
        "outputId": "1a198469-25f0-4d7d-f07a-25b5868dbc0d"
      },
      "outputs": [
        {
          "data": {
            "text/plain": [
              "False"
            ]
          },
          "execution_count": 9,
          "metadata": {},
          "output_type": "execute_result"
        }
      ],
      "source": [
        "# El doble == es el operador de igualdad\n",
        "5 == 4"
      ]
    },
    {
      "cell_type": "code",
      "execution_count": null,
      "metadata": {
        "id": "QtPbRp0t9uB1",
        "outputId": "76d725fb-90b9-42f0-d623-67243b519e4b"
      },
      "outputs": [
        {
          "data": {
            "text/plain": [
              "True"
            ]
          },
          "execution_count": 10,
          "metadata": {},
          "output_type": "execute_result"
        }
      ],
      "source": [
        "# Mientras que != implica desigualdad\n",
        "12 != 12.5"
      ]
    },
    {
      "cell_type": "markdown",
      "metadata": {
        "id": "HIBWbcxj9uB3"
      },
      "source": [
        "#### Problemas de representar números reales\n",
        "\n",
        "Veamos el siguiente ejemplo"
      ]
    },
    {
      "cell_type": "code",
      "execution_count": null,
      "metadata": {
        "id": "sxKhXY9d9uB4",
        "outputId": "7815339e-a0e6-4da7-bcc9-1dc3140c888a"
      },
      "outputs": [
        {
          "data": {
            "text/plain": [
              "False"
            ]
          },
          "execution_count": 77,
          "metadata": {},
          "output_type": "execute_result"
        }
      ],
      "source": [
        "# La siguiente expresión se evalua a False, aunque debería ser True\n",
        "0.3 == 0.4 - 0.1"
      ]
    },
    {
      "cell_type": "markdown",
      "metadata": {
        "id": "izYJoZ839uB6"
      },
      "source": [
        "Antes vimos que el resultado obtenido de `10/3` era `3.3333333333333335`.\n",
        "\n",
        "El problema es el 5 que aparece al final. Claramente no debería estar ahi.\n",
        "\n",
        "Para entender esto necesitamos tener en cuenta que los números reales son infinitos, pero la computadora no tiene memoria infinita, por lo tanto no puede representar números reales, sino que los aproxima.\n",
        "\n",
        "Solo ciertos números pueden expresarse de forma exacta con los números flotantes.\n",
        "\n",
        "Estos números son aquellos que puedan expresarse como una suma de fracciones donde los denominadores son múltiplos de dos, de la siguiente forma:\n",
        "\n",
        "$$\\frac{a}{2^0} + \\frac{b}{2^1} + \\frac{c}{2^2} + \\cdots$$\n",
        "\n",
        "Por ejemplo el número 1.75 se puede expresar como:\n",
        "\n",
        "$$\n",
        " 1.75 =  \\frac{1}{2^0} + \\frac{3}{2^2}\n",
        "$$\n",
        "\n",
        "Sin embargo 10/3 no puede representarse de manera exacta de esta forma, por lo tanto el resultado es una aproximación"
      ]
    },
    {
      "cell_type": "code",
      "execution_count": null,
      "metadata": {
        "id": "15Ducbc99uB7",
        "outputId": "992b1035-8ec5-42b4-d0f7-ff11070bdcf6"
      },
      "outputs": [
        {
          "data": {
            "text/plain": [
              "True"
            ]
          },
          "execution_count": 84,
          "metadata": {},
          "output_type": "execute_result"
        }
      ],
      "source": [
        "# Estos números pueden representarse de forma exacta, por lo tanto no hay ningún error\n",
        "1.75 == 1 + 3/4"
      ]
    },
    {
      "cell_type": "markdown",
      "metadata": {
        "id": "jQZqsA3E9uB8"
      },
      "source": [
        "En general se recomienda NO usar el operador `==` para comparar dos flotantes"
      ]
    },
    {
      "cell_type": "markdown",
      "metadata": {
        "id": "gjB6v85o9uB9"
      },
      "source": [
        "### Sentencia if - else\n",
        "\n",
        "La sentencia if nos permite ejecutar un bloque de código dependiendo de una condición.\n",
        "\n",
        "```\n",
        "if <expresión>:\n",
        "    bloque 1\n",
        "else:\n",
        "    bloque 2\n",
        "```\n",
        "\n",
        "Si la expresión se evalúa a True, se ejecuta el bloque 1, de lo contrario se ejecuta el bloque 2.\n",
        "Es importante notar la indentación (el esapacio o la sangría) en los bloques 1 y 2.\n",
        "Esta indentación es necesaria para la correcta ejecución de los bloques de código."
      ]
    },
    {
      "cell_type": "code",
      "execution_count": null,
      "metadata": {
        "id": "Z4F999UA9uB_",
        "outputId": "8bd27d70-8187-4ed1-a01d-bfe1dc557bcf"
      },
      "outputs": [
        {
          "name": "stdout",
          "output_type": "stream",
          "text": [
            "¡Puedo tomar alcohol legalmente!\n",
            "Tomen con moderación gente\n"
          ]
        }
      ],
      "source": [
        "# Un ejemplo:\n",
        "edad = 21\n",
        "\n",
        "if edad >= 18:\n",
        "    print(\"¡Puedo tomar alcohol legalmente!\")\n",
        "else:\n",
        "    print(\"No puedo tomar alcohol legalmente :(\")\n",
        "\n",
        "# este código esta fuera de ambos bloques, por lo tanto siempre se ejecutará\n",
        "print(\"Tomen con moderación gente\")\n"
      ]
    },
    {
      "cell_type": "markdown",
      "metadata": {},
      "source": [
        "### Bloques if - elif - else\n",
        "\n",
        "No siempre que usemos un `if` tenemos que usar un `else` (es opcional). Y en caso de que queramos verificar más de una condición existe la sentencia `elif` (de `else if`)\n",
        "\n",
        "```\n",
        "if <expresión-1>:\n",
        "    bloque 1\n",
        "elif <expresión-2>:\n",
        "    bloque 2\n",
        "else:\n",
        "    bloque 3\n",
        "```\n",
        "\n",
        "Si la expresión 1 se evalúa a True, se ejecuta solamente el bloque 1 (y no se verifica la segunda expresión).\n",
        "\n",
        "Si la expresión 1 se evalúa a False entonces se verifica la expresión 2. Si la expresión 2 se evalúa a True se ejecuta solamente el bloque 2, pero si se evalúa a False entonces se ejecutará solamente el bloque 3.\n",
        "\n",
        "Se pueden agregar más de un bloque `elif`."
      ]
    },
    {
      "cell_type": "code",
      "execution_count": null,
      "metadata": {},
      "outputs": [],
      "source": [
        "numero = float(input(\"Ingresa un número: \"))\n",
        "\n",
        "# Evaluar el número\n",
        "if numero > 0:\n",
        "    print(\"El número es positivo.\")\n",
        "elif numero < 0:\n",
        "    print(\"El número es negativo.\")\n",
        "else:\n",
        "    print(\"El número es cero.\")"
      ]
    },
    {
      "cell_type": "markdown",
      "metadata": {
        "id": "lMD8oFxF9uCA"
      },
      "source": [
        "\n",
        "\n",
        "#### Función input():\n",
        "\n",
        "Para hacer más interesante nuestro ejemplo anterior podemos usar la función `input()` para crear una variable que será definida en tiempo de ejecución por el usario.\n",
        "\n",
        "Primero veamos un ejemplo:"
      ]
    },
    {
      "cell_type": "code",
      "execution_count": null,
      "metadata": {
        "colab": {
          "base_uri": "https://localhost:8080/"
        },
        "id": "KYB9BWxkny0Q",
        "outputId": "ffab0206-a061-47b9-b270-2cde7cfeeef2"
      },
      "outputs": [
        {
          "name": "stdout",
          "output_type": "stream",
          "text": [
            "Cuál es tu nombre? \n",
            "Atuel\n",
            "Hola Atuel\n"
          ]
        }
      ],
      "source": [
        "print(\"Cuál es tu nombre? \")\n",
        "nombre = input()\n",
        "\n",
        "print(\"Hola\", nombre)"
      ]
    },
    {
      "cell_type": "code",
      "execution_count": null,
      "metadata": {
        "id": "qlseZXrM9uCB",
        "outputId": "af3de973-33b1-42a1-af0c-edbb62b2902f"
      },
      "outputs": [
        {
          "data": {
            "text/plain": [
              "str"
            ]
          },
          "execution_count": 18,
          "metadata": {},
          "output_type": "execute_result"
        }
      ],
      "source": [
        "# Ahora, queremos que nuestro programa nos pregunte que edad tenemos, pero hay un problema\n",
        "edad = input(\"Que edad tenés? ',:c\")\n",
        "type(edad)"
      ]
    },
    {
      "cell_type": "markdown",
      "metadata": {
        "id": "GBCWc73u9uCC"
      },
      "source": [
        "la función `input()` siempre devuelve una string. Por lo tanto para hacer la comparación necesitamos transformar la string en un entero:"
      ]
    },
    {
      "cell_type": "code",
      "execution_count": null,
      "metadata": {
        "colab": {
          "base_uri": "https://localhost:8080/"
        },
        "id": "WBACLCHvptCR",
        "outputId": "0e1ae13c-2893-4ea3-eb36-280aab015a16"
      },
      "outputs": [
        {
          "name": "stdout",
          "output_type": "stream",
          "text": [
            "No puedo tomar alcohol legalmente :(\n",
            "Tomen con moderación gente\n"
          ]
        }
      ],
      "source": [
        "edad = int(input(\"Que edad tenés? ',:c\"))\n",
        "\n",
        "if edad >= 18:\n",
        "    # Este es el bloque del if\n",
        "    print(\"¡Puedo tomar alcohol legalmente!\")\n",
        "else:\n",
        "    # Este es el bloque del else\n",
        "    print(\"No puedo tomar alcohol legalmente :(\")\n",
        "\n",
        "# este código esta fuera de ambos bloques, por lo tanto siempre se ejecutará\n",
        "print(\"Tomen con moderación gente\")\n"
      ]
    },
    {
      "cell_type": "markdown",
      "metadata": {
        "id": "S2buQtEz9uCE"
      },
      "source": [
        "### Operadores Lógicos\n",
        "\n",
        "Otro tipo de operadores bastante útiles en estos casos son los operadores lógicos:\n",
        "\n",
        "Tenemos tres operadores lógicos: `and`, `or` y `not`\n",
        "\n",
        "Operación | Resultado\n",
        "--------|------------\n",
        "`a and b`| Si `a` se evalua `False` devuelve el valor de `a`, sino el de `b`\n",
        "`a or b` | Si `a` se evalua `False` devuelve el valor de b, sino el de `a`\n",
        "`not a` | Si `a` se evalua `False` devulve `True`, si no devuelve `False`\n",
        "\n",
        "Estas explicaciones pueden parecer confusas, sobre todo para los operadores `and` y `or`, pero tengamos en cuenta lo siguiente;\n",
        " si `a` y `b` son booleanos (`True` o `False`) entonces se cumple que:\n",
        "\n",
        "Operación | Resultado\n",
        "--------|------------\n",
        "`a and b`| Se evalua a `True` solo si tanto a como b son `True`, sino `False`\n",
        "`a or b` | Se evalua a `True` si a es` True`, o si b es `True`, o si ambos son `True`, de lo contrario False\n",
        "\n",
        "pero veamoslo con un ejemplo:"
      ]
    },
    {
      "cell_type": "code",
      "execution_count": null,
      "metadata": {
        "id": "BkHoV-bR9uCE",
        "outputId": "6c73b541-06a3-4f5a-8534-75fb56cb6f49"
      },
      "outputs": [
        {
          "name": "stdout",
          "output_type": "stream",
          "text": [
            "No puede tomar\n"
          ]
        }
      ],
      "source": [
        "# Tenemos dos variables, la edad y una variable que indica si estamos o no manejando\n",
        "edad = 19\n",
        "manejando = True\n",
        "\n",
        "# Solo vamos a poder tomar si se cumplen dos condiciones (tener más de 18 y no estar manejando)\n",
        "if edad > 18 and not manejando:\n",
        "    print(\"Puede tomar\")\n",
        "else:\n",
        "    print(\"No puede tomar\")\n"
      ]
    },
    {
      "cell_type": "markdown",
      "metadata": {
        "id": "vDtTHqoG9uCF"
      },
      "source": [
        "#### **Ejercicio Opcional**: entendiendo el funcionamiento de los operadores `and` y `or`\n",
        "\n",
        "Veamos que pasa cuando usamos `and` y `or` con valores no booleanos.\n"
      ]
    },
    {
      "cell_type": "code",
      "execution_count": null,
      "metadata": {
        "id": "Gv0nfOvk9uCG"
      },
      "outputs": [],
      "source": [
        "# EJERCICIO\n",
        "\n",
        "# ¿Cual es el resultado de las siguientes expresiones?\n",
        "# 1 and 2\n",
        "# 0 and 1\n",
        "# 1 or 2\n",
        "# 0 or 2\n",
        "# \"a\" or \"b\"\n",
        "# \"\" and \"b\""
      ]
    },
    {
      "cell_type": "markdown",
      "metadata": {
        "id": "fq535aYk9uCH"
      },
      "source": [
        "¿Puede entender porque estos operadores funcionan de esta forma?"
      ]
    },
    {
      "cell_type": "code",
      "execution_count": null,
      "metadata": {
        "colab": {
          "base_uri": "https://localhost:8080/"
        },
        "id": "iapuIcPpuliZ",
        "outputId": "707f95e6-59b3-4689-891b-2e339d68c50c"
      },
      "outputs": [
        {
          "data": {
            "text/plain": [
              "4"
            ]
          },
          "execution_count": 14,
          "metadata": {},
          "output_type": "execute_result"
        }
      ],
      "source": [
        "max(1, 2, 4)  # devuelve el valor máximo"
      ]
    },
    {
      "cell_type": "code",
      "execution_count": null,
      "metadata": {
        "colab": {
          "base_uri": "https://localhost:8080/"
        },
        "id": "6zEeKU9oum4L",
        "outputId": "f694f877-2de5-4516-dd0f-cc1897305254"
      },
      "outputs": [
        {
          "data": {
            "text/plain": [
              "-10"
            ]
          },
          "execution_count": 15,
          "metadata": {},
          "output_type": "execute_result"
        }
      ],
      "source": [
        "min(2, -5, -10) # devuelve el valor mínimo"
      ]
    },
    {
      "cell_type": "code",
      "execution_count": null,
      "metadata": {
        "colab": {
          "base_uri": "https://localhost:8080/"
        },
        "id": "myrkqay_usY6",
        "outputId": "538796ed-5e39-4bfe-cffb-19728f96d3da"
      },
      "outputs": [
        {
          "data": {
            "text/plain": [
              "55"
            ]
          },
          "execution_count": 16,
          "metadata": {},
          "output_type": "execute_result"
        }
      ],
      "source": [
        "abs(-55)  # devuelve el valor absoluto"
      ]
    },
    {
      "cell_type": "markdown",
      "metadata": {},
      "source": [
        "### Sentencia `Match`\n",
        "\n",
        "El match en Python es una estructura de control introducida en Python 3.10 que permite realizar una comparación más flexible y expresiva de patrones, similar al switch en otros lenguajes, pero más poderoso."
      ]
    },
    {
      "cell_type": "code",
      "execution_count": 6,
      "metadata": {},
      "outputs": [
        {
          "name": "stdout",
          "output_type": "stream",
          "text": [
            "Número de prácticos no válido. Debe ser entre 1 y 4.\n"
          ]
        }
      ],
      "source": [
        "def nota(tps_entregados):\n",
        "    match tps_entregados:\n",
        "        case 1:\n",
        "            return \"Calificación: Muy Malo\"\n",
        "        case 2:\n",
        "            return \"Calificación: Malo\"\n",
        "        case 3:\n",
        "            return \"Calificación: Bueno\"\n",
        "        case 4:\n",
        "            return \"Calificación: Excelente\"\n",
        "        case _:\n",
        "            return \"Número de prácticos no válido. Debe ser entre 1 y 4.\"\n",
        "\n",
        "# Uso\n",
        "tps_entregados = int(input(\"Ingresa el número de prácticos entregados (1 a 4): \"))\n",
        "print(nota(tps_entregados))"
      ]
    },
    {
      "cell_type": "code",
      "execution_count": null,
      "metadata": {},
      "outputs": [],
      "source": []
    }
  ],
  "metadata": {
    "colab": {
      "provenance": []
    },
    "kernelspec": {
      "display_name": "Python 3",
      "name": "python3"
    },
    "language_info": {
      "codemirror_mode": {
        "name": "ipython",
        "version": 3
      },
      "file_extension": ".py",
      "mimetype": "text/x-python",
      "name": "python",
      "nbconvert_exporter": "python",
      "pygments_lexer": "ipython3",
      "version": "3.11.5"
    }
  },
  "nbformat": 4,
  "nbformat_minor": 0
}
