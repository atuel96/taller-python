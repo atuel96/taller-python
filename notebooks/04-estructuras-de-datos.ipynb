{
  "cells": [
    {
      "cell_type": "markdown",
      "metadata": {},
      "source": [
        "## Estructuras de Datos\n",
        "\n",
        "Aparte de los tipos básicos mencionados en la primera notebook, python cuenta con algunas estructuras de datos bastante útiles.\n",
        "\n",
        "### Listas\n",
        "\n",
        "Podemos pensar a una lista simplemente como un grupo de objetos.\n",
        "\n",
        "Para denotar que estamos creando una lista utilizamos corchetes y separamos sus elementos con una coma:\n",
        "\n",
        "`lista = [objeto_1, objeto_2, objeto_3]`\n",
        "\n"
      ]
    },
    {
      "cell_type": "code",
      "execution_count": 1,
      "metadata": {
        "id": "fcF3bOPau1mI"
      },
      "outputs": [
        {
          "data": {
            "text/plain": [
              "list"
            ]
          },
          "execution_count": 1,
          "metadata": {},
          "output_type": "execute_result"
        }
      ],
      "source": [
        "# Ejemplo\n",
        "mi_lista = [1, 1, 2, 3, 5, 8, 13]\n",
        "type(mi_lista)"
      ]
    },
    {
      "cell_type": "markdown",
      "metadata": {},
      "source": [
        "Cada elemento de la lista puede ser de un tipo diferente.\n",
        "\n",
        "Para acceder a cada objeto usamos la siguiente notación:\n",
        "\n",
        "* `lista[0]` : nos devuelve el primer elemento **(Sí, el 0 es el primer elemento)**\n",
        "* `lista[1]` : nos devuelve el segundo elemento\n",
        "* `lista[2]` : nos devuelve el segundo elemento\n",
        "* Etcetera"
      ]
    },
    {
      "cell_type": "code",
      "execution_count": 2,
      "metadata": {},
      "outputs": [],
      "source": [
        "# EJERCICIO\n",
        "\n",
        "# Dada la siguiente lista:\n",
        "lista = [\"perro\", 5, True]\n",
        "\n",
        "# imprima el segundo elemento:"
      ]
    },
    {
      "cell_type": "markdown",
      "metadata": {},
      "source": [
        "También podemos obtener los últimos elementos de la siguiente forma:\n",
        "\n",
        "* `lista[-1]` : nos devuelve el último elemento\n",
        "* `lista[-2]` : nos devuelve el penúltimo elemento\n",
        "* `lista[-3]` : nos devuelve el antepenúltimo elemento\n",
        "* Etcetera"
      ]
    },
    {
      "cell_type": "code",
      "execution_count": 3,
      "metadata": {},
      "outputs": [],
      "source": [
        "# EJERCICIO\n",
        "\n",
        "# Dada la siguiente lista:\n",
        "lista = [\"perro\", 5, True]\n",
        "\n",
        "# Imprima el último elemento"
      ]
    },
    {
      "cell_type": "code",
      "execution_count": 4,
      "metadata": {},
      "outputs": [],
      "source": [
        "# EJERCICIO\n",
        "\n",
        "# Dada la siguiente lista:\n",
        "lista = [\"perro\", 5, True]\n",
        "\n",
        "# Intente imprimir el quinto elemento (que no existe)"
      ]
    },
    {
      "cell_type": "markdown",
      "metadata": {},
      "source": [
        "Cuando intentemos acceder a un elemento fuera del rango de la lista obtendremos el error **IndexError**."
      ]
    },
    {
      "cell_type": "code",
      "execution_count": 5,
      "metadata": {},
      "outputs": [
        {
          "name": "stdout",
          "output_type": "stream",
          "text": [
            "dos\n",
            "uno\n",
            "tres\n",
            "dos\n"
          ]
        }
      ],
      "source": [
        "# Ejemplo\n",
        "lista = [\"uno\", \"dos\", \"tres\"]\n",
        "\n",
        "print(lista[1]) # segundo elemento de la lista\n",
        "print(lista[0]) # primer elemento de la lista\n",
        "print(lista[-1]) # el -1 nos dirige al último elemento de la lista\n",
        "print(lista[-2]) # el -2 es el antepenúltimo elemento, en este caso el elemento -2 y el 1 son el mismo"
      ]
    },
    {
      "cell_type": "markdown",
      "metadata": {},
      "source": [
        "#### Función `len()`\n",
        "\n",
        "Esta función nos permite saber cuantos elementos hay en una lista"
      ]
    },
    {
      "cell_type": "code",
      "execution_count": 7,
      "metadata": {},
      "outputs": [
        {
          "data": {
            "text/plain": [
              "3"
            ]
          },
          "execution_count": 7,
          "metadata": {},
          "output_type": "execute_result"
        }
      ],
      "source": [
        "len([1, 2, 3])"
      ]
    },
    {
      "cell_type": "markdown",
      "metadata": {},
      "source": [
        "#### Cambiando elementos de una lista\n",
        "\n",
        "Usando la notación de corchetes no solo podemos acceder a un elemento de la lista, sino que podemos modificarlo también"
      ]
    },
    {
      "cell_type": "code",
      "execution_count": 8,
      "metadata": {},
      "outputs": [
        {
          "name": "stdout",
          "output_type": "stream",
          "text": [
            "[99, 1, 0, 1]\n"
          ]
        }
      ],
      "source": [
        "lista = [0, 1, 0, 1]\n",
        "lista[0] = 99   # Cambio el primer elemento a 99\n",
        "print(lista)"
      ]
    },
    {
      "cell_type": "markdown",
      "metadata": {},
      "source": [
        "#### Agregando elementos a una lista\n",
        "\n",
        "Muchas veces vamos a querer agregar elementos a una lista a lo largo de nuestro programa.\n",
        "\n",
        "Al igual que las strings o cadenas, las listas tienen métodos (funciones) que nos serán de ayuda:\n",
        "\n",
        "* `append()` Agrega un elemento al final de la lista.\n",
        "* `clear()` Borra todo el contenido de la lista\n",
        "* `copy()` Regresa una copia de la lista\n",
        "* `count()` Regresa el número de veces que aparece un dado elemento\n",
        "* `index()` Regresa el índice de un dado elemento.\n",
        "* `pop()` Quita el elemento a la posición indicada y devulve ese elemento.\n",
        "* `remove()` Quita un elemento de la lista.\n",
        "* `reverse()` Invierte el orden de al lista\n",
        "* `sort()` Ordena la lista\n",
        "  \n",
        "Veamos algunos ejemplos"
      ]
    },
    {
      "cell_type": "code",
      "execution_count": 9,
      "metadata": {},
      "outputs": [
        {
          "name": "stdout",
          "output_type": "stream",
          "text": [
            "['uno', 'dos', 'tres', 'cuatro', 'cinco']\n",
            "['uno', 'tres', 'cuatro', 'cinco']\n",
            "['tres', 'cuatro', 'cinco']\n"
          ]
        }
      ],
      "source": [
        "# Como usar append\n",
        "lista = [\"uno\", \"dos\", \"tres\"]\n",
        "lista.append(\"cuatro\")\n",
        "lista.append(\"cinco\")\n",
        "\n",
        "print(lista)\n",
        "\n",
        "lista.pop(1)    # elimino el segundo elemento de la lista\n",
        "print(lista)\n",
        "\n",
        "lista.remove(\"uno\") # elimino el primer elemento que tenga un valor \"uno\"\n",
        "print(lista)"
      ]
    },
    {
      "cell_type": "markdown",
      "metadata": {},
      "source": [
        "#### Copiando una lista\n",
        "\n",
        "Puede parecer raro que exista un método para copiar una lista.\n",
        "\n",
        "Para entender por qué es útil este método hagamos una prueba:"
      ]
    },
    {
      "cell_type": "code",
      "execution_count": 10,
      "metadata": {},
      "outputs": [
        {
          "name": "stdout",
          "output_type": "stream",
          "text": [
            "[1, 2, 3]\n",
            "[1, 2, 3]\n"
          ]
        }
      ],
      "source": [
        "# Vamos a hacer una lista, y luego a intentar copiarla de la siguiente manera:\n",
        "lista_a = [1, 2, 3]\n",
        "lista_b = lista_a\n",
        "\n",
        "print(lista_a)\n",
        "print(lista_b)"
      ]
    },
    {
      "cell_type": "code",
      "execution_count": 11,
      "metadata": {},
      "outputs": [],
      "source": [
        "# EJERCICIO\n",
        "\n",
        "# Modificar el primer elemento de la lista_b\n",
        "# Luego imprimir nuevamente ambas listas\n",
        "\n",
        "lista_a = [1, 2, 3]\n",
        "lista_b = lista_a"
      ]
    },
    {
      "cell_type": "code",
      "execution_count": 12,
      "metadata": {},
      "outputs": [
        {
          "name": "stdout",
          "output_type": "stream",
          "text": [
            "6\n",
            "5\n"
          ]
        }
      ],
      "source": [
        "# Veamos una situación similar con enteros:\n",
        "a = 5\n",
        "b = a\n",
        "\n",
        "# actualizo mi variable a\n",
        "a = a + 1\n",
        "\n",
        "# afecté a mi variable b?\n",
        "print(a)\n",
        "print(b)"
      ]
    },
    {
      "cell_type": "markdown",
      "metadata": {},
      "source": [
        "Todo parece funcionar correctamente hasta que modificamos una de las listas.\n",
        "\n",
        "Esto ocurre porque en python tenemos básicamente dos tipos de objetos, los mutables y los inmutables.\n",
        "Los tipos de datos como `int, float, str, bool` son inmutables, mientras que las listas son mutables.\n",
        "\n",
        "Cuando planteemos esta situación:\n",
        "\n",
        "Cuando le asignamos un objeto a una variable, por ejemplo `a = 5`, el objeto `5` existe en la memoria de nuestra computadora, y la variable a nos conduce hacia este objeto.\n",
        "Luego con `b = a` no estamos creando un nuevo objeto, sino que ahora tenemos dos variables apuntado al mismo objeto, el `5`.\n",
        "\n",
        "\n",
        "Si después escribimos `a = a + 1` parecería que estamos modificando nuestro objeto, que el `5` pasa a ser un `6`, pero realmente el `6` es otro objeto totalmente diferente, que ocupa otro lugar en la memoria. Como dijimos arriba, este tipo de objetos son inmutables.\n",
        "\n",
        "En el caso de las listas (y otras estructuras de datos que veremos más adelante) sí estamos modificando a nuestro objeto, por lo tanto en el momento en el que tenemos a dos variables apuntando a la misma lista, podemos modificar el mismo objeto desde cualquiera de las dos variables.\n",
        "\n",
        "Por esta razon existe el método `copy()`, que básicamente crea otro objeto idéntico en la memoria, de forma que ahora cada variable pueda apuntar a un objeto diferente. Veamos un ejemplo:"
      ]
    },
    {
      "cell_type": "code",
      "execution_count": 13,
      "metadata": {},
      "outputs": [
        {
          "name": "stdout",
          "output_type": "stream",
          "text": [
            "[1, 2, 3]\n",
            "[-55, 2, 3]\n"
          ]
        }
      ],
      "source": [
        "lista_a = [1, 2, 3]\n",
        "lista_b = lista_a.copy()\n",
        "\n",
        "lista_b[0] = -55\n",
        "\n",
        "print(lista_a)\n",
        "print(lista_b)"
      ]
    },
    {
      "cell_type": "markdown",
      "metadata": {},
      "source": [
        "#### Las cadenas son inmutables\n",
        "\n",
        "Una string es una cadena de caracteres, es decir, es como una lista de caracteres.\n",
        "\n",
        "Veamos que pasa si usamos la notación de corchetes en una string"
      ]
    },
    {
      "cell_type": "code",
      "execution_count": 14,
      "metadata": {},
      "outputs": [],
      "source": [
        "# EJERCICIO\n",
        "\n",
        "cadena = \"Soy una cadena\"\n",
        "\n",
        "# Intente acceder al primer y último elemento de la cadena usando la notación de corchetes"
      ]
    },
    {
      "cell_type": "code",
      "execution_count": 15,
      "metadata": {},
      "outputs": [],
      "source": [
        "# EJERCICIO\n",
        "\n",
        "cadena = \"Soy una cadena\"\n",
        "\n",
        "# Ahora utilice la notación de corchetes para intentar cambiar un elemento"
      ]
    },
    {
      "cell_type": "markdown",
      "metadata": {},
      "source": [
        "Si intentamos modificar un elemento de la cadena obtendremos un error de tipo **TypeError**, indicandonos que no podemos asignar items.\n",
        "\n",
        "Esto es porque las cadenas, a diferencia de las listas, y al igual que los enteros y los flotantes, son inmutables (el método `replace()` crea una nueva cadena, no la modifica)"
      ]
    },
    {
      "cell_type": "markdown",
      "metadata": {},
      "source": [
        "#### Rebanar Listas (Slices)\n",
        "\n",
        "Con la notación de corchetes también podemos acceder a \"rebanadas\" de la lista de la siguiente forma:\n",
        "\n",
        "`lista[ inicio : fin : salto ]`\n",
        "\n",
        "donde `inicio` y `fin` son índices, y `salto` es opcional y por defecto igual a 1. El elemento del índice `inicio` se incluye en la lista resultante, mientras que el índice `fin` no se incluye en la lista resultante. La lista resultante es un objeto diferente, por lo tanto modificar esta lista no afecta a la lista original"
      ]
    },
    {
      "cell_type": "code",
      "execution_count": 16,
      "metadata": {},
      "outputs": [
        {
          "name": "stdout",
          "output_type": "stream",
          "text": [
            "[2, 3]\n",
            "[1, 2, 3, 4]\n",
            "[1, 3, 5]\n"
          ]
        }
      ],
      "source": [
        "lista = [1, 2, 3, 4, 5, 6, 7]\n",
        "\n",
        "print(lista[1:3]) # desde el segundo al tercer elemento\n",
        "print(lista[0:4]) # Desde el primer al cuarto elemento\n",
        "print(lista[0:5:2]) # Desde el primer al quinto elemento, salteando un elemento"
      ]
    },
    {
      "cell_type": "markdown",
      "metadata": {},
      "source": [
        "Vimos que no es necesario dar un valor para `salto`.\n",
        "\n",
        "Ocurre algo similar con los índices de inicio y fin.\n",
        "\n",
        "Dejar vacío el inicio equivale a un 0, mientrsa que dejar vacío el fin equivale a colocar el tamaño de la lista\n",
        "\n",
        "* `lista[:1] == lista[0:1]`\n",
        "* `lista[1:] == lista[1:len(lista)]`\n",
        "\n",
        "También podemos dejar ambos vacíos, realizando una copia de toda la lista:\n",
        "\n",
        "* `lista[:] == lista`\n",
        "\n",
        "Y por último, podemos dejar los dos índices vacíos, pero indicar el `salto`:\n",
        "\n",
        "* `lista[::salto]`"
      ]
    },
    {
      "cell_type": "code",
      "execution_count": 17,
      "metadata": {},
      "outputs": [
        {
          "data": {
            "text/plain": [
              "[1, 3, 5, 7]"
            ]
          },
          "execution_count": 17,
          "metadata": {},
          "output_type": "execute_result"
        }
      ],
      "source": [
        "# Ejemplo\n",
        "\n",
        "lista = [1, 2, 3, 4, 5, 6, 7]\n",
        "lista[::2]"
      ]
    },
    {
      "cell_type": "markdown",
      "metadata": {},
      "source": [
        "### Diccionarios\n",
        "\n",
        "Los diccionarios son una estrucutra que guarda pares de elementos; donde cada llave, o `key`, tiene asociado un valor, o `value`.\n",
        "\n",
        "Para crear un diccionario utilizamos llaves `{}`, y colocamos los pares `key:value` separados por comas:\n",
        "\n",
        "`diccionario = {key_1 : value_1, key_2 : value_2}`\n",
        "\n",
        "luego podemos acceder a los diferentes valores a partir de las llaves con la notación de corchetes:\n",
        "\n",
        "`diccionario[key_1] == value_1`\n",
        "\n",
        "Si `key_1` es una cadena sin espacios ni números se puede usar una notación de punto también:\n",
        "\n",
        "`diccionario.key_1 == diccionario[key_1] == value_1`"
      ]
    },
    {
      "cell_type": "code",
      "execution_count": 18,
      "metadata": {},
      "outputs": [
        {
          "name": "stdout",
          "output_type": "stream",
          "text": [
            "Gustavo sacó un 8\n"
          ]
        }
      ],
      "source": [
        "# ejemplo\n",
        "notas = {\"Gustavo\" : 8, \"Matías\" : 9, \"Gloria\" : 10}\n",
        "\n",
        "print(f\"Gustavo sacó un {notas['Gustavo']}\")    \n",
        "# notar que se tuvo que usar diferentes comillas"
      ]
    },
    {
      "cell_type": "markdown",
      "metadata": {},
      "source": [
        "### Tuplas (_tuples_)\n",
        "\n",
        "Una tupla es similar a una lista, pero sus elementos son inalterables.\n",
        "\n",
        "Para las tuplas podemos usar paréntesis:"
      ]
    },
    {
      "cell_type": "code",
      "execution_count": 19,
      "metadata": {},
      "outputs": [
        {
          "name": "stdout",
          "output_type": "stream",
          "text": [
            "(81, 2, 3, 1, 2, 1)\n"
          ]
        }
      ],
      "source": [
        "tup_a = (81, 2, 3, 1, 2, 1)\n",
        "\n",
        "print(tup_a)"
      ]
    },
    {
      "cell_type": "markdown",
      "metadata": {},
      "source": [
        "Realmente no necesitamos utilizar paréntesis, ya que al colocar elementos separados por una coma obtendremos por defecto una tupla:"
      ]
    },
    {
      "cell_type": "code",
      "execution_count": 20,
      "metadata": {},
      "outputs": [
        {
          "data": {
            "text/plain": [
              "tuple"
            ]
          },
          "execution_count": 20,
          "metadata": {},
          "output_type": "execute_result"
        }
      ],
      "source": [
        "tupla = 1, 2, 3\n",
        "\n",
        "type(tupla)"
      ]
    }
  ],
  "metadata": {
    "colab": {
      "provenance": []
    },
    "kernelspec": {
      "display_name": "Python 3",
      "name": "python3"
    },
    "language_info": {
      "codemirror_mode": {
        "name": "ipython",
        "version": 3
      },
      "file_extension": ".py",
      "mimetype": "text/x-python",
      "name": "python",
      "nbconvert_exporter": "python",
      "pygments_lexer": "ipython3",
      "version": "3.11.2"
    }
  },
  "nbformat": 4,
  "nbformat_minor": 0
}
