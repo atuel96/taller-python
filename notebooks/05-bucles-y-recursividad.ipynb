{
  "cells": [
    {
      "cell_type": "markdown",
      "metadata": {
        "id": "x7jvU1iNGvRo"
      },
      "source": [
        "# Python Clase 3\n",
        "\n",
        "## Contenido de este Notebook\n",
        "\n",
        "En este notebook trataremos los siguientes temas:\n",
        "\n",
        "* Bucles while y for\n",
        "* Funciones\n",
        "* Leer y Escribir Archivos (Input y Output)\n",
        "* matplotlib\n",
        "* numpy"
      ]
    },
    {
      "cell_type": "markdown",
      "metadata": {
        "id": "KzLODXUwGvTd"
      },
      "source": [
        "## Bucles\n",
        "\n",
        "Los bucles son una de las herramientas más poderosas en programación.\n",
        "\n",
        "Empecemos planteandonos un problema sencillo. Queremos calcular el factorial de un número $n$:\n",
        "\n",
        "$$ n ! = n \\times (n-1) \\times (n-2) \\times \\cdots \\times 2 \\times 1 $$\n",
        "\n",
        "Por ejemplo, calculemos $5!$:"
      ]
    },
    {
      "cell_type": "code",
      "execution_count": null,
      "metadata": {
        "id": "4QOcfn7lGvTd",
        "outputId": "f779eebb-1351-4351-f619-68e0164cc96c"
      },
      "outputs": [
        {
          "name": "stdout",
          "output_type": "stream",
          "text": [
            "5! = 120\n"
          ]
        }
      ],
      "source": [
        "# Factorial de 5:\n",
        "fac_5 = 5*4*3*2*1\n",
        "\n",
        "print(f\"5! = {fac_5}\")"
      ]
    },
    {
      "cell_type": "markdown",
      "metadata": {
        "id": "KSsvapiQGvTe"
      },
      "source": [
        "ok, funciona, pero que pasa si queremos calcular el factorial de un número $n$ que se evaluará en tiempo de ejecución? por ejemplo un $n$ introducido por el usuario? Veamos como resolver este problema con el bucle `while`:\n",
        "\n",
        "### bucle while\n",
        "\n",
        "El bucle while nos permite ejecutar un bloque de código varias veces, siempre que una expresión se evalue a `True`\n",
        "```\n",
        "while <expresión>:\n",
        "    bloque\n",
        "```\n",
        "Es importante que la expresión se actualice en cada iteración.\n",
        "\n",
        "Por ejemplo, veamos el siguiente código:\n",
        "\n",
        "```\n",
        "while 2 > 1:\n",
        "    print(\"Dos es mayor a uno\")\n",
        "```\n",
        "El bloque de print() se ejecutará por siempre, ya que la expresión `2 > 1` siempre será verdadera.\n",
        "\n",
        "Por eso (casi) siempre se utiliza alguna variable dentro de la expresión, y se actualiza la variable dentro del bloque.\n",
        "Por ejemplo:\n",
        "\n",
        "```\n",
        "i = 0\n",
        "while i < 2:\n",
        "    i += 1\n",
        "    print(i)\n",
        "```\n",
        "\n",
        "el bloque se ejecutará dos veces, puesto que en cada iteración `i` aumentará en uno su valor, y cuando `i == 2` se dejará de cumplir la condición\n"
      ]
    },
    {
      "cell_type": "code",
      "execution_count": null,
      "metadata": {
        "id": "ZS4Bvi5oGvTx",
        "outputId": "0b9531fd-bd93-44f0-e1a5-5771a8e9e841"
      },
      "outputs": [
        {
          "name": "stdout",
          "output_type": "stream",
          "text": [
            "1\n",
            "2\n",
            "3\n"
          ]
        }
      ],
      "source": [
        "# simple ejemplo\n",
        "i = 0\n",
        "while i < 3:\n",
        "    i += 1\n",
        "    print(i)"
      ]
    },
    {
      "cell_type": "markdown",
      "metadata": {
        "id": "7N3u7ph3GvTx"
      },
      "source": [
        "Ahora, volviendo al calculo del factorial:"
      ]
    },
    {
      "cell_type": "code",
      "execution_count": null,
      "metadata": {
        "id": "Il3rCF4EGvTy",
        "outputId": "966c07e2-0518-4ce8-d791-2be9f8fe9544"
      },
      "outputs": [
        {
          "name": "stdout",
          "output_type": "stream",
          "text": [
            "Factorial de 5 = 120\n"
          ]
        }
      ],
      "source": [
        "# Queremos calcular n!\n",
        "n = 5\n",
        "\n",
        "# inicializamos dos variables\n",
        "factorial = n     # esta variable va a representar el resultado\n",
        "i = 1             # esta es una variable auxiliar\n",
        "\n",
        "while i < n:\n",
        "    factorial *= n - i   # multiplicamos el resultado por n - i\n",
        "    i += 1               # Actualizamos el valor de i\n",
        "\n",
        "print(f\"Factorial de {n} = {factorial}\")"
      ]
    },
    {
      "cell_type": "markdown",
      "metadata": {
        "id": "NRuBs4cSGvTz"
      },
      "source": [
        "#### Recorriendo una lista con el bucle while\n",
        "\n",
        "Supongamos que tengo una lista y quiero recorrerla por alguna razón.\n",
        "\n",
        "Puedo usar un bucle while de la siguiente forma:"
      ]
    },
    {
      "cell_type": "code",
      "execution_count": null,
      "metadata": {
        "id": "I99l3v0SGvTz",
        "outputId": "a6e9075a-e5fa-49e4-e6f5-9072deb1f78d"
      },
      "outputs": [
        {
          "name": "stdout",
          "output_type": "stream",
          "text": [
            "Tengo que comprar queso\n",
            "Tengo que comprar pan\n",
            "Tengo que comprar jamón\n"
          ]
        }
      ],
      "source": [
        "lista_de_compras = [\"queso\", \"pan\", \"jamón\"]\n",
        "\n",
        "indice = 0 # el primer elemento de la lista siempre es el cero\n",
        "while indice < len(lista_de_compras):\n",
        "    print(f\"Tengo que comprar {lista_de_compras[indice]}\")\n",
        "    indice += 1  # importante actualizar el índice en cada iteración"
      ]
    },
    {
      "cell_type": "markdown",
      "metadata": {
        "id": "r2Z2LhnTGvT0"
      },
      "source": [
        "### Bucle for\n",
        "\n",
        "El bucle for puede parecer menos intuitivo a primera vista, pero nos deja hacer lo que hicimos anteriormente de una forma mucho más sencilla.\n",
        "\n",
        "Veremos que en la mayoría de los casos usaremos bucles for en lugar de bucles while."
      ]
    },
    {
      "cell_type": "code",
      "execution_count": null,
      "metadata": {
        "id": "MqW6xxTWGvT0",
        "outputId": "0767ceb3-33cd-4bdd-9a7e-6039490f70ed"
      },
      "outputs": [
        {
          "name": "stdout",
          "output_type": "stream",
          "text": [
            "tengo que comprar queso\n",
            "tengo que comprar pan\n",
            "tengo que comprar jamón\n"
          ]
        }
      ],
      "source": [
        "lista_de_compras = [\"queso\", \"pan\", \"jamón\"]\n",
        "\n",
        "for comida in lista_de_compras:\n",
        "    print(f\"tengo que comprar {comida}\")"
      ]
    },
    {
      "cell_type": "markdown",
      "metadata": {
        "id": "kq0boJSUGvT0"
      },
      "source": [
        "En un bucle for definimos una `variable` que irá cambiando su valor en cada iteración, hasta haber recorrido todos los elementos de una lista.\n",
        "```\n",
        "for <variable> in <lista>:\n",
        "    bloque\n",
        "```\n",
        "Por lo tanto siempre que queramos recorrer una lista, el bucle `for` será la decisión obvia.\n"
      ]
    },
    {
      "cell_type": "markdown",
      "metadata": {
        "id": "Er2dM0xTGvT1"
      },
      "source": [
        "#### Función `range()`\n",
        "Pero eso no es todo, el bucle for se vuelve mucho más poderoso con la función `range()`.\n",
        "\n",
        "A modo de receta, si queremos repetir un bloque un número `n` de veces, podemos simplemente escribir:\n",
        "\n",
        "```\n",
        "for <variable> in range(n):\n",
        "    bloque\n",
        "```\n",
        "\n",
        "Por ejemplo:"
      ]
    },
    {
      "cell_type": "code",
      "execution_count": null,
      "metadata": {
        "id": "7XIC2LXJGvT1",
        "outputId": "2fc7d9e5-d3b6-47ee-9635-b31e68825ab6"
      },
      "outputs": [
        {
          "name": "stdout",
          "output_type": "stream",
          "text": [
            "Hola!\n",
            "Hola!\n",
            "Hola!\n",
            "Hola!\n",
            "Hola!\n"
          ]
        }
      ],
      "source": [
        "# Digamos hola 5 veces:\n",
        "for i in range(5):\n",
        "    print(\"Hola!\")"
      ]
    },
    {
      "cell_type": "code",
      "execution_count": null,
      "metadata": {
        "id": "pdelrzRNGvT1",
        "outputId": "e835ca8f-1b9e-449b-c44b-8efdb9a3db2d"
      },
      "outputs": [
        {
          "name": "stdout",
          "output_type": "stream",
          "text": [
            "0\n",
            "1\n",
            "2\n",
            "3\n",
            "4\n"
          ]
        }
      ],
      "source": [
        "# veamos que pasa con la variable i:\n",
        "for i in range(5):\n",
        "    print(i)"
      ]
    },
    {
      "cell_type": "markdown",
      "metadata": {
        "id": "gXbyEmXgGvT2"
      },
      "source": [
        "En caso de pasar un solo argumento a la función `range()`, como en:\n",
        "\n",
        "```\n",
        "for <variable> in range(n):\n",
        "    bloque\n",
        "```\n",
        "\n",
        "la `variable` tomará valores partiendo desde `0` hasta llegar a `n-1`.\n",
        "\n",
        "\n",
        "Pero podemos pasarle más de un atributo.\n",
        "\n",
        "```\n",
        "for <variable> in range(a, b):\n",
        "    bloque\n",
        "```\n",
        "\n",
        "En el caso de dos atributos `a` y `b`, la variable empezará en `a` y terminará en `b-1`\n",
        "\n",
        "```\n",
        "for <variable> in range(a, b, c):\n",
        "    bloque\n",
        "```\n",
        "\n",
        "Y en el caso de tres atrubutos será igual, pero `c` indica un paso que por defecto es 1 (podemos pensar en que cada iteración la variable incremente su valor en `c`).\n",
        "\n",
        "Notemos que:\n",
        "\n",
        "```\n",
        "range(b) == range(0, b) == range(0, b, 1)\n",
        "```"
      ]
    },
    {
      "cell_type": "code",
      "execution_count": null,
      "metadata": {
        "id": "o5S3TEoXGvT3",
        "outputId": "4ae9f146-3f20-4c3d-bb46-bbd5d5a621fd"
      },
      "outputs": [
        {
          "name": "stdout",
          "output_type": "stream",
          "text": [
            "2\n",
            "3\n",
            "4\n"
          ]
        }
      ],
      "source": [
        "# veamos que pasa con la variable i:\n",
        "for i in range(2, 5):\n",
        "    print(i)"
      ]
    },
    {
      "cell_type": "code",
      "execution_count": null,
      "metadata": {
        "id": "Dk9bIYx9GvT4",
        "outputId": "409bea25-e2c2-431e-d04c-acfee033d128"
      },
      "outputs": [
        {
          "name": "stdout",
          "output_type": "stream",
          "text": [
            "0\n",
            "2\n",
            "4\n",
            "6\n",
            "8\n"
          ]
        }
      ],
      "source": [
        "# veamos que pasa con la variable i:\n",
        "for i in range(0, 10, 2):\n",
        "    print(i)"
      ]
    },
    {
      "cell_type": "code",
      "execution_count": null,
      "metadata": {
        "id": "1Y0IkMWFGvT5",
        "outputId": "d3cdbf69-763e-4221-88a0-38a8a5d994c6"
      },
      "outputs": [
        {
          "name": "stdout",
          "output_type": "stream",
          "text": [
            "5\n",
            "4\n",
            "3\n",
            "2\n",
            "1\n",
            "¡¡BOOM!!\n"
          ]
        }
      ],
      "source": [
        "# Podemos hacer una cuenta regresiva de esta forma:\n",
        "for i in range(5, 0, -1):\n",
        "    print(i)\n",
        "\n",
        "print(\"¡¡BOOM!!\")"
      ]
    },
    {
      "cell_type": "markdown",
      "metadata": {
        "id": "WhQQk5zpGvT5"
      },
      "source": [
        "Veamos como podemos volver a calcular un factorial usando el bucle `for`:"
      ]
    },
    {
      "cell_type": "code",
      "execution_count": null,
      "metadata": {
        "id": "_o6e6NAdGvT6",
        "outputId": "b791a27d-1de1-41c6-9912-ad5ed61c9c68"
      },
      "outputs": [
        {
          "name": "stdout",
          "output_type": "stream",
          "text": [
            "Factorial de 5 = 120\n"
          ]
        }
      ],
      "source": [
        "# Queremos calcular n!\n",
        "n = 5\n",
        "factorial = n\n",
        "\n",
        "for i in range(1, n):\n",
        "    factorial *= n - i\n",
        "\n",
        "print(f\"Factorial de {n} = {factorial}\")"
      ]
    },
    {
      "cell_type": "markdown",
      "metadata": {
        "id": "iwTjXNwcGvT7"
      },
      "source": [
        "#### Sentencias `continue` y `break`\n",
        "\n",
        "`continue` y `break` son dos sentencias importantes que se utilizan en los bucles `while` y `for`.\n",
        "\n",
        "`continue` permite saltarse una iteración del bloque, mientras que `break` permite salir completamente del bucle.\n",
        "\n",
        "Veamos un ejemplo:"
      ]
    },
    {
      "cell_type": "code",
      "execution_count": null,
      "metadata": {
        "id": "VBmfN4yOGvT7",
        "outputId": "7a70cf45-ce54-4719-8dcc-e5d5268be178"
      },
      "outputs": [
        {
          "name": "stdout",
          "output_type": "stream",
          "text": [
            "1\n",
            "3\n",
            "5\n",
            "7\n",
            "9\n",
            "Y esos fueron los primeros 10 números impares!\n"
          ]
        }
      ],
      "source": [
        "# Imprimiendo solo números impares menores a 10:\n",
        "for i in range(100):\n",
        "    if i%2 == 0:\n",
        "        # si i es par salto a la siguiente iteración\n",
        "        continue\n",
        "    if i > 10:\n",
        "        # si i es mayor a 10 salgo completamente del bucle\n",
        "        break\n",
        "    print(i)\n",
        "print(\"Y esos fueron los primeros 10 números impares!\")"
      ]
    },
    {
      "cell_type": "markdown",
      "metadata": {
        "id": "ERS05ierGvT8"
      },
      "source": [
        "## Funciones\n",
        "\n",
        "Python nos permite escribir nuestras porpias funciones, las cuales nos evitarán tener que escribir el mismo código múltiples veces.\n",
        "\n",
        "Las funciones en python a veces son parecidas a las funciones matemáticas, con una o más entradas y una o más salidas.\n",
        "\n",
        "Para declarar una función utilizaremos la palabra `def` seguida del nombre de nuestra función y un paréntesis con parámetros (los cuales son opcionales).\n",
        "\n",
        "Al igual que con los bucles es importante identar el código que se ejecutará dentro de nuestra función. Finalmente con la palabra `return` especificamos el valor que retorna la función.\n",
        "\n",
        "```\n",
        "def <nombre-funcion>(<parámetro-1>,<parámetro-2>):\n",
        "    ...\n",
        "    return <algo>\n",
        "```\n",
        "\n",
        "Veamos un ejemplo sencillo, donde creamos una función que devuelve un número al cuadrado."
      ]
    },
    {
      "cell_type": "code",
      "execution_count": null,
      "metadata": {
        "id": "lHfQhgKjGvT8",
        "outputId": "ad8f9a4c-d2c9-4dbb-bcab-f20585b57918"
      },
      "outputs": [
        {
          "name": "stdout",
          "output_type": "stream",
          "text": [
            "4\n",
            "25\n"
          ]
        }
      ],
      "source": [
        "def cuadrado(x):\n",
        "    return x**2\n",
        "\n",
        "print(cuadrado(2))\n",
        "print(cuadrado(5))"
      ]
    },
    {
      "cell_type": "code",
      "execution_count": null,
      "metadata": {
        "id": "_-lEhkeYGvT8",
        "outputId": "87f2a768-8533-412a-ba73-18f6b681f7fb"
      },
      "outputs": [
        {
          "name": "stdout",
          "output_type": "stream",
          "text": [
            "7\n"
          ]
        }
      ],
      "source": [
        "# Otro ejemplo\n",
        "def suma(a, b):\n",
        "    return a+b\n",
        "\n",
        "print(suma(4, 3))"
      ]
    },
    {
      "cell_type": "markdown",
      "metadata": {
        "id": "l7KAdF0BGvT9"
      },
      "source": [
        "Normalmente realizaremos algunos cálulos con el input de la función, por ejemplo, hagamos una función usando nuestro código para calcular un factorial:"
      ]
    },
    {
      "cell_type": "code",
      "execution_count": null,
      "metadata": {
        "id": "OJmzb0-EGvT9",
        "outputId": "1f3f3f2f-7835-4594-ff3a-b218e1bcd365"
      },
      "outputs": [
        {
          "name": "stdout",
          "output_type": "stream",
          "text": [
            "24\n",
            "120\n",
            "720\n"
          ]
        }
      ],
      "source": [
        "def factorial(n):\n",
        "    \"\"\"Esta función devuelve el factorial de un entero 'n'\"\"\" # esto se llama docstrings, strings que sirven para documentar nuestro código\n",
        "    resultado = n\n",
        "    for i in range(1, n):\n",
        "        resultado *= n - i\n",
        "    return resultado\n",
        "\n",
        "print(factorial(4))\n",
        "print(factorial(5))\n",
        "print(factorial(6))"
      ]
    },
    {
      "cell_type": "markdown",
      "metadata": {
        "id": "IwqkejpwGvUB"
      },
      "source": [
        "Podemos omitir el `return` y la función seguirá siendo válida, pero regresará un `None`.\n",
        "\n",
        "En algunos la parte interesante de una función no estará en el valor que regresa, sino en el procedimiento que realiza. En otros lenguajes como Fortran tenemos una distición entre funciones y procedimientos. En python no existe esta distinción"
      ]
    },
    {
      "cell_type": "code",
      "execution_count": null,
      "metadata": {
        "id": "WKiuQU3wGvUD",
        "outputId": "2c03690f-0182-47c7-d887-ad71cd4acec4"
      },
      "outputs": [
        {
          "name": "stdout",
          "output_type": "stream",
          "text": [
            "None\n"
          ]
        }
      ],
      "source": [
        "def funcion_inutil():\n",
        "    pass\n",
        "\n",
        "print(funcion_inutil())"
      ]
    },
    {
      "cell_type": "code",
      "execution_count": null,
      "metadata": {
        "id": "wkDSI3QfGvUE",
        "outputId": "11a652d2-92f3-4039-b8f5-b47bc8b76aa0"
      },
      "outputs": [
        {
          "name": "stdout",
          "output_type": "stream",
          "text": [
            "-5\n"
          ]
        }
      ],
      "source": [
        "# otro ejemplo tonto:\n",
        "def imprimir_el_negativo(numero):\n",
        "    print(-numero)\n",
        "\n",
        "imprimir_el_negativo(5)"
      ]
    },
    {
      "cell_type": "code",
      "execution_count": null,
      "metadata": {
        "id": "9hlMmJ8oGvUF"
      },
      "outputs": [],
      "source": [
        "# EJERCICIO\n",
        "\n",
        "# cree una variable global e intente modificarla dentro de una función, verifique si se modificó o no la variable\n",
        "# Que pasa si hago una función para agregar o quitar un elemento de una lista global, se modifica la lista original\n",
        "# al modificarla en la función?"
      ]
    },
    {
      "cell_type": "markdown",
      "metadata": {
        "id": "1IF3oia7GvUF"
      },
      "source": [
        "### Argumentos por defecto\n",
        "\n",
        "Cuando definimos una función con sus parámetros podemos definir algunos argumentos por defecto de la siguente forma:\n",
        "\n",
        "```\n",
        "def mi_funcion(x, y = 0):\n",
        "    bloque\n",
        "```\n",
        "\n",
        "De esta forma si solo se pasa un argumento a la función, el segundo parámetro usará el argumento por defecto."
      ]
    },
    {
      "cell_type": "markdown",
      "metadata": {
        "id": "YIaWi3jRGvUF"
      },
      "source": [
        "### Recursividad\n",
        "\n",
        "Cuando una función se llama a si misma decimos que es recursiva\n",
        "\n",
        "\n",
        "Aprovechando la siguiente propiedad del factorial\n",
        "\n",
        "$$\n",
        "n! = n \\cdot (n-1)!\n",
        "$$\n",
        "\n",
        "podemos escribir la siguiente función:"
      ]
    },
    {
      "cell_type": "code",
      "execution_count": null,
      "metadata": {
        "id": "vHDojVAWGvUG"
      },
      "outputs": [],
      "source": [
        "def f_recursivo(n):\n",
        "    if n == 0:\n",
        "        # el factorial de 0 es 1\n",
        "        return 1\n",
        "    # n! = n * (n-1)!\n",
        "    return n * f_recursivo(n-1)\n",
        "\n",
        "# noten que no usamos un else porque no era necesario.\n"
      ]
    },
    {
      "cell_type": "markdown",
      "metadata": {
        "id": "CUMJzQMMGvUG"
      },
      "source": [
        "### Assert\n",
        "\n",
        "Notemos que la función anterior entraría en un bucle infinito de ejecuciones. Podemos usar `assert` para asugarnos de que nuestro código se ejecutará según nuestras condiciones."
      ]
    },
    {
      "cell_type": "code",
      "execution_count": null,
      "metadata": {
        "id": "arYxngLiGvUG",
        "outputId": "88eb7842-193c-4b70-de61-bbe21b33d4f5"
      },
      "outputs": [
        {
          "data": {
            "text/plain": [
              "120"
            ]
          },
          "execution_count": 108,
          "metadata": {},
          "output_type": "execute_result"
        }
      ],
      "source": [
        "# Nos aseguramos de que n sea un entero no sea negativo\n",
        "def f_recursivo(n):\n",
        "\n",
        "    assert isinstance(n, int), \"n debe ser un entero (int)\"\n",
        "    assert n >= 0, \"n no debe ser negativo\"\n",
        "\n",
        "    if n == 0:\n",
        "        return 1\n",
        "    return n * f_recursivo(n-1)\n",
        "\n",
        "f_recursivo(5)\n",
        "# si intentamos obtener el factorial de un valor que no sea un entero positivo obtendremos un error\n"
      ]
    },
    {
      "cell_type": "markdown",
      "metadata": {
        "id": "dx98vkfwGvUK"
      },
      "source": [
        "* Nota: dentro del modulo `math` tenemos una función para calcular el factorial (math.factorial), por lo que en una situación cotidiana no será necesario que escribamos nuestro propio código para esto."
      ]
    },
    {
      "cell_type": "markdown",
      "metadata": {
        "id": "J5mIZGVAGvUK"
      },
      "source": [
        "## Gráficos con matplotlib (Primera Parte)"
      ]
    },
    {
      "cell_type": "code",
      "execution_count": null,
      "metadata": {
        "id": "S3NhuG92GvUL",
        "outputId": "b5a636a1-9f08-4bd3-8743-6f8a079d4f09"
      },
      "outputs": [
        {
          "data": {
            "image/png": "[encoded data removed]",
            "text/plain": [
              "<Figure size 640x480 with 1 Axes>"
            ]
          },
          "metadata": {},
          "output_type": "display_data"
        }
      ],
      "source": [
        "import matplotlib.pyplot as plt\n",
        "\n",
        "# función para calcular la altura en caida libre\n",
        "def altura_tiro_vertical(y0, v0, t):\n",
        "    g = 9.8\n",
        "    return y0 + v0*t - 0.5*g*t**2\n",
        "\n",
        "# Listas para guardar mis datos\n",
        "t = []\n",
        "y = []\n",
        "\n",
        "# Defino mis variables\n",
        "tmin = 0\n",
        "tmax = 5\n",
        "y0 = 0      # altura inicial\n",
        "v0 = 25     # velocidad inicial\n",
        "N = 1000     # Número de puntos que voy a calcular\n",
        "\n",
        "for i in range(N):\n",
        "    # calculo la altura i para el tiempo i\n",
        "    tiempo_i = tmin + i*(tmax-tmin)/N\n",
        "    altura_i = caida_libre(y0, v0, tiempo_i)\n",
        "    # guardo mis puntos en las listas\n",
        "    t.append(tiempo_i)\n",
        "    y.append(altura_i)\n",
        "\n",
        "# Creo el gráfico\n",
        "plt.plot(t, y)\n",
        "# Pueden renderizar ecuaciones escritas en latex usando 'raw strings'\n",
        "plt.title(r\"Texto en Latex: $y = y_0 + v_0 \\cdot t - \\frac{gt^2}{2}$\")\n",
        "plt.xlabel(\"t (s)\")    # título eje horizontal\n",
        "plt.ylabel(\"y (m)\")     # título eje vertical\n",
        "plt.show()"
      ]
    },
    {
      "cell_type": "markdown",
      "metadata": {
        "id": "GFDmdpj_GvUL"
      },
      "source": [
        "Podemos visitar la página oficial de matplotlib e ir a la sección de ejemplos para tener una idea de las capacidades de esta libreria https://matplotlib.org/"
      ]
    },
    {
      "cell_type": "markdown",
      "metadata": {
        "id": "aMpn57lkGvUM"
      },
      "source": [
        "## Leer y Escribir archivos\n",
        "\n",
        "Podemos leer y escribir archivos usando la función `open()`\n",
        "\n",
        "```\n",
        "open(<ruta>, mode=<modo>, enconding=\"utf8\")\n",
        "```\n",
        "\n",
        "existen distintos modos para cargar nuestro archivo, pero veremos estos tres:\n",
        "\n",
        "* \"r\" : Solo lectura (read-only)\n",
        "* \"w\" : Solo escritura (write-only). Cuidado que sobreescribe todo el archivo!\n",
        "* \"a\" : Agregar (append)\n",
        "\n",
        "el `encoding` \"utf8\" o \"utf-8\" es el formato de codificación que nos permite interpretar correctamente texto en español (el precio a pagar por usar la letra ñ) https://es.wikipedia.org/wiki/UTF-8."
      ]
    },
    {
      "cell_type": "code",
      "execution_count": null,
      "metadata": {
        "id": "YmrjRNcZGvUM"
      },
      "outputs": [],
      "source": [
        "archivo = open(\"texto.txt\", mode=\"w\", encoding=\"utf8\")\n",
        "archivo.write(\"Estoy escribiendo una línea!\")\n",
        "archivo.close()"
      ]
    },
    {
      "cell_type": "code",
      "execution_count": null,
      "metadata": {
        "id": "k3YhO-LFGvUN"
      },
      "outputs": [],
      "source": [
        "with open(\"texto.txt\", mode=\"w\", encoding=\"utf8\") as archivo:\n",
        "    archivo.write(\"Estoy escribiendo una línea!\\n\")\n",
        "    archivo.write(\"Estoy escribiendo otra línea!\\n\")\n",
        "\n"
      ]
    },
    {
      "cell_type": "code",
      "execution_count": null,
      "metadata": {
        "id": "ZvfOdkiXGvUN"
      },
      "outputs": [],
      "source": [
        "with open(\"texto.txt\", mode=\"a\", encoding=\"utf8\") as archivo:\n",
        "    archivo.write(\"Una última línea\\n\")"
      ]
    },
    {
      "cell_type": "code",
      "execution_count": null,
      "metadata": {
        "id": "nYz0SC1hGvUN",
        "outputId": "c4ae28cd-7db3-40e1-d558-f4fde6a23786"
      },
      "outputs": [
        {
          "name": "stdout",
          "output_type": "stream",
          "text": [
            "Estoy escribiendo una línea!\n",
            "Estoy escribiendo otra línea!\n",
            "Una última línea\n",
            "\n"
          ]
        }
      ],
      "source": [
        "with open(\"texto.txt\", \"r\", encoding=\"utf8\") as archivo:\n",
        "    texto = archivo.read() # todo el archivo como una string\n",
        "    print(texto)"
      ]
    },
    {
      "cell_type": "code",
      "execution_count": null,
      "metadata": {
        "id": "3x4dmLpuGvUO",
        "outputId": "e4caf0cb-3545-4c5b-83a9-65bd95ecec50"
      },
      "outputs": [
        {
          "name": "stdout",
          "output_type": "stream",
          "text": [
            "Estoy escribiendo una línea!\n",
            "Estoy escribiendo otra línea!\n",
            "Una última línea\n"
          ]
        }
      ],
      "source": [
        "with open(\"texto.txt\", \"r\", encoding=\"utf8\") as archivo:\n",
        "    for line in archivo.readlines():\n",
        "        print(line, end=\"\") # con end=\"\" evito que print() cree una nueva línea vacía"
      ]
    },
    {
      "cell_type": "code",
      "execution_count": null,
      "metadata": {
        "id": "5rocHN5RGvUO"
      },
      "outputs": [],
      "source": [
        "def coulomb(q1, q2, r):\n",
        "    k = 9e9\n",
        "    return k * (q1*q2)/r**2"
      ]
    },
    {
      "cell_type": "markdown",
      "metadata": {
        "id": "ZiZ2FrNFGvUP"
      },
      "source": [
        "## Numpy (Primera Parte)\n",
        "\n",
        "Numpy es una librería de comuptación científica que nos proveerá muchas herramientas útiles.\n",
        "Numpy trae consigo sus propios tipos de datos. Quizá el más importante será el `array` (o `ndarray`)"
      ]
    },
    {
      "cell_type": "code",
      "execution_count": null,
      "metadata": {
        "id": "CWZzfhZiGvUP",
        "outputId": "259e8ec2-dad2-484c-e361-c40f4d8a71f7"
      },
      "outputs": [
        {
          "data": {
            "text/plain": [
              "Text(0, 0.5, 'y (m)')"
            ]
          },
          "execution_count": 8,
          "metadata": {},
          "output_type": "execute_result"
        },
        {
          "data": {
            "image/png": "[encoded data removed]",
            "text/plain": [
              "<Figure size 640x480 with 1 Axes>"
            ]
          },
          "metadata": {},
          "output_type": "display_data"
        }
      ],
      "source": [
        "import numpy as np\n",
        "import matplotlib.pyplot as plt\n",
        "\n",
        "# función para calcular la altura en caida libre\n",
        "def caida_libre(y0, v0, t):\n",
        "    g = 9.8\n",
        "    return y0 + v0*t - 0.5*g*t**2\n",
        "\n",
        "# Defino mis variables\n",
        "tmin = 0\n",
        "tmax = 5\n",
        "y0 = 0      # altura inicial\n",
        "v0 = 25     # velocidad inicial\n",
        "N = 100     # Número de puntos que voy a calcular\n",
        "\n",
        "# Datos (esta vez no necesitamos el bucle for)\n",
        "t = np.linspace(tmin, tmax, N)  # array\n",
        "y = caida_libre(y0, v0, t)\n",
        "\n",
        "# Plot\n",
        "plt.plot(t, y)\n",
        "plt.xlabel(\"t (s)\")\n",
        "plt.ylabel(\"y (m)\")"
      ]
    },
    {
      "cell_type": "code",
      "execution_count": null,
      "metadata": {
        "id": "vU9QpsozGvUP"
      },
      "outputs": [],
      "source": []
    },
    {
      "cell_type": "code",
      "execution_count": null,
      "metadata": {
        "id": "Kbq8dHi7GvUQ"
      },
      "outputs": [],
      "source": []
    }
  ],
  "metadata": {
    "colab": {
      "provenance": []
    },
    "kernelspec": {
      "display_name": "Python 3",
      "language": "python",
      "name": "python3"
    },
    "language_info": {
      "codemirror_mode": {
        "name": "ipython",
        "version": 3
      },
      "file_extension": ".py",
      "mimetype": "text/x-python",
      "name": "python",
      "nbconvert_exporter": "python",
      "pygments_lexer": "ipython3",
      "version": "3.11.2"
    },
    "orig_nbformat": 4
  },
  "nbformat": 4,
  "nbformat_minor": 0
}
