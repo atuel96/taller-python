{
  "cells": [
    {
      "cell_type": "markdown",
      "metadata": {
        "id": "aMpn57lkGvUM"
      },
      "source": [
        "## Leer y Escribir archivos\n",
        "\n",
        "Podemos leer y escribir archivos usando la función `open()`\n",
        "\n",
        "```\n",
        "open(<ruta>, mode=<modo>, enconding=\"utf8\")\n",
        "```\n",
        "\n",
        "existen distintos modos para cargar nuestro archivo, pero veremos estos tres:\n",
        "\n",
        "* \"r\" : Solo lectura (read-only)\n",
        "* \"w\" : Solo escritura (write-only). Cuidado que sobreescribe todo el archivo!\n",
        "* \"a\" : Agregar (append)\n",
        "\n",
        "el `encoding` \"utf8\" o \"utf-8\" es el formato de codificación que nos permite interpretar correctamente texto en español (el precio a pagar por usar la letra ñ) https://es.wikipedia.org/wiki/UTF-8."
      ]
    },
    {
      "cell_type": "code",
      "execution_count": null,
      "metadata": {
        "id": "YmrjRNcZGvUM"
      },
      "outputs": [],
      "source": [
        "archivo = open(\"texto.txt\", mode=\"w\", encoding=\"utf8\")\n",
        "archivo.write(\"Estoy escribiendo una línea!\")\n",
        "archivo.close()"
      ]
    },
    {
      "cell_type": "markdown",
      "metadata": {},
      "source": [
        "Para evitar tener que cerrar el archivo tenemos la sentencia `with`, un tipo de Gestor de Contexto en Python."
      ]
    },
    {
      "cell_type": "code",
      "execution_count": 7,
      "metadata": {
        "id": "k3YhO-LFGvUN"
      },
      "outputs": [
        {
          "name": "stdout",
          "output_type": "stream",
          "text": [
            "False\n",
            "True\n"
          ]
        }
      ],
      "source": [
        "with open(\"texto.txt\", mode=\"w\", encoding=\"utf8\") as archivo:\n",
        "    # En el contexto de que abrimos un archivo\n",
        "    archivo.write(\"Estoy escribiendo una línea!\\n\")\n",
        "    archivo.write(\"Estoy escribiendo otra línea!\\n\")\n",
        "    print(archivo.closed) # El archivo sigue abierto\n",
        "\n",
        "print(archivo.closed) # El archivo ahora está cerrado\n"
      ]
    },
    {
      "cell_type": "code",
      "execution_count": null,
      "metadata": {
        "id": "ZvfOdkiXGvUN"
      },
      "outputs": [],
      "source": [
        "with open(\"texto.txt\", mode=\"a\", encoding=\"utf8\") as archivo:\n",
        "    archivo.write(\"Una última línea\\n\")"
      ]
    },
    {
      "cell_type": "code",
      "execution_count": null,
      "metadata": {
        "id": "nYz0SC1hGvUN",
        "outputId": "c4ae28cd-7db3-40e1-d558-f4fde6a23786"
      },
      "outputs": [
        {
          "name": "stdout",
          "output_type": "stream",
          "text": [
            "Estoy escribiendo una línea!\n",
            "Estoy escribiendo otra línea!\n",
            "Una última línea\n",
            "\n"
          ]
        }
      ],
      "source": [
        "with open(\"texto.txt\", \"r\", encoding=\"utf8\") as archivo:\n",
        "    texto = archivo.read() # todo el archivo como una string\n",
        "    print(texto)"
      ]
    },
    {
      "cell_type": "code",
      "execution_count": null,
      "metadata": {
        "id": "3x4dmLpuGvUO",
        "outputId": "e4caf0cb-3545-4c5b-83a9-65bd95ecec50"
      },
      "outputs": [
        {
          "name": "stdout",
          "output_type": "stream",
          "text": [
            "Estoy escribiendo una línea!\n",
            "Estoy escribiendo otra línea!\n",
            "Una última línea\n"
          ]
        }
      ],
      "source": [
        "with open(\"texto.txt\", \"r\", encoding=\"utf8\") as archivo:\n",
        "    for line in archivo.readlines():\n",
        "        print(line, end=\"\") # con end=\"\" evito que print() cree una nueva línea vacía"
      ]
    },
    {
      "cell_type": "code",
      "execution_count": null,
      "metadata": {
        "id": "5rocHN5RGvUO"
      },
      "outputs": [],
      "source": [
        "def coulomb(q1, q2, r):\n",
        "    k = 9e9\n",
        "    return k * (q1*q2)/r**2"
      ]
    },
    {
      "cell_type": "code",
      "execution_count": null,
      "metadata": {
        "id": "Kbq8dHi7GvUQ"
      },
      "outputs": [],
      "source": []
    }
  ],
  "metadata": {
    "colab": {
      "provenance": []
    },
    "kernelspec": {
      "display_name": "Python 3",
      "language": "python",
      "name": "python3"
    },
    "language_info": {
      "codemirror_mode": {
        "name": "ipython",
        "version": 3
      },
      "file_extension": ".py",
      "mimetype": "text/x-python",
      "name": "python",
      "nbconvert_exporter": "python",
      "pygments_lexer": "ipython3",
      "version": "3.11.5"
    },
    "orig_nbformat": 4
  },
  "nbformat": 4,
  "nbformat_minor": 0
}
