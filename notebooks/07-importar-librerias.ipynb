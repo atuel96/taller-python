{
  "cells": [
    {
      "cell_type": "markdown",
      "metadata": {
        "id": "nJW1awe59uCX"
      },
      "source": [
        "## Importar Librerias\n",
        "\n",
        "Al instalar python también tenemos acceso a su biblioteca estandar. Dentro de esta biblioteca tenemos varios módulos y librerias (conjuntos de módulos) que vienen con sus propias funciones, tipos de datos y variables. A continuación mostramos dos modulos bastante útiles; `math` y `random`:\n",
        "\n",
        "Para utilizar un módulo usamos la palabra `import` seguida del nombre del módulo:\n",
        "\n",
        "```\n",
        "import <nombre-del-modulo>\n",
        "```\n",
        "\n",
        "### Módulo `math`\n",
        "\n",
        "El modulo math tiene cargadas muchas funciones matemáticas y algunas variables como pi.\n",
        "\n",
        "### Módulo `random`\n",
        "\n",
        "El módulo random nos permite generar números [pseudoaleatorios](https://es.wikipedia.org/wiki/N%C3%BAmero_pseudoaleatorio#:~:text=Un%20n%C3%BAmero%20pseudoaleatorio%20es%20un,pero%20no%20lo%20hace%20realmente.). Estos son números que a fines practicos simular ser números aleatorios.\n",
        "\n",
        "### Estilo de Importación\n",
        "\n",
        "Hay diferentes formas de importar y usar un modulo\n"
      ]
    },
    {
      "cell_type": "code",
      "execution_count": null,
      "metadata": {
        "id": "dlxGyQq19uCY",
        "outputId": "8e796dde-f381-4c61-b323-660b782cfdbc"
      },
      "outputs": [
        {
          "data": {
            "text/plain": [
              "1.0"
            ]
          },
          "execution_count": 63,
          "metadata": {},
          "output_type": "execute_result"
        }
      ],
      "source": [
        "# Opción 1. Usar la notación de punto\n",
        "# Esta es la opción más sencilla. Luego de importar debemos usar un punto seguido del objeto que vayamos a utilizar\n",
        "import math\n",
        "\n",
        "# seno de pi/2:\n",
        "math.sin(math.pi/2)"
      ]
    },
    {
      "cell_type": "code",
      "execution_count": null,
      "metadata": {
        "id": "YDQQImaE9uCY",
        "outputId": "f470652b-ca2a-48a6-a1bf-039e33a38795"
      },
      "outputs": [
        {
          "data": {
            "text/plain": [
              "1.0"
            ]
          },
          "execution_count": 64,
          "metadata": {},
          "output_type": "execute_result"
        }
      ],
      "source": [
        "# Opción 2. Importar solo los elementos que vayamos a usar\n",
        "from math import sin, pi\n",
        "\n",
        "# seno de pi/2:\n",
        "sin(pi/2)"
      ]
    },
    {
      "cell_type": "code",
      "execution_count": null,
      "metadata": {
        "id": "52HJ3Iyr9uCa",
        "outputId": "6b8255bf-49e8-44fb-f1a8-44a8ba63c85f"
      },
      "outputs": [
        {
          "data": {
            "text/plain": [
              "1.0"
            ]
          },
          "execution_count": 68,
          "metadata": {},
          "output_type": "execute_result"
        }
      ],
      "source": [
        "# Opción 3. No muy recomendada, pero válida para casos particulares\n",
        "from math import *\n",
        "\n",
        "# seno de pi/2:\n",
        "sin(pi/2)\n",
        "# El problema de este método es que puede haber un conflicto entre dos o más módulos\n",
        "# Por lo tanto en caso de estar usando varios modulos o librerias no se recomienda usar\n",
        "# esta notación, ya que puede haber funciones con el mismo nombre en ambos lugares"
      ]
    },
    {
      "cell_type": "code",
      "execution_count": null,
      "metadata": {
        "id": "yUWEwCGA9uCb",
        "outputId": "b2384c9d-8155-402c-a6f2-31fc45d1abaa"
      },
      "outputs": [
        {
          "data": {
            "text/plain": [
              "1.0"
            ]
          },
          "execution_count": 66,
          "metadata": {},
          "output_type": "execute_result"
        }
      ],
      "source": [
        "# Opción 4. Usar un alias\n",
        "# Igual a la opçión 1 pero usando un alias o apodo para el nombre del modulo\n",
        "import math as m\n",
        "\n",
        "# seno de pi/2:\n",
        "m.sin(m.pi/2)"
      ]
    },
    {
      "cell_type": "markdown",
      "metadata": {
        "id": "giRmnVqT9uCc"
      },
      "source": [
        "Algunas funciones útiles en math son:\n",
        "\n",
        "`cos(x)` : coseno de x\n",
        "\n",
        "`sin(x)` : seno de x\n",
        "\n",
        "`log(x)` : logaritmo natural de x\n",
        "\n",
        "`log10(x)` : logaritmo base 10 de x\n",
        "\n",
        "`sqrt(x)` : raiz cuadrada de x\n",
        "\n",
        "`exp(x)` : e elevado a la x\n",
        "\n",
        "ver https://docs.python.org/es/3/library/math.html para más información."
      ]
    },
    {
      "cell_type": "code",
      "execution_count": null,
      "metadata": {
        "id": "Trwi_Skj9uCd",
        "outputId": "9819e9b3-6161-45c0-ec1c-a7b30a921ee1"
      },
      "outputs": [
        {
          "data": {
            "text/plain": [
              "0.9659202588640557"
            ]
          },
          "execution_count": 71,
          "metadata": {},
          "output_type": "execute_result"
        }
      ],
      "source": [
        "import random\n",
        "\n",
        "# la función random() devuelve un valor flotante aleatorio del intervalo semiabierto [0, 1)\n",
        "random.random()"
      ]
    },
    {
      "cell_type": "code",
      "execution_count": null,
      "metadata": {
        "id": "ofRKePro9uCe",
        "outputId": "e1a305d4-03d5-43eb-98ce-83609a84b222"
      },
      "outputs": [
        {
          "data": {
            "text/plain": [
              "1"
            ]
          },
          "execution_count": 73,
          "metadata": {},
          "output_type": "execute_result"
        }
      ],
      "source": [
        "a = 1\n",
        "b = 3\n",
        "\n",
        "# la función randint(a, b) devuelve un valor entre a y b (incluidos a y b)\n",
        "random.randint(a, b)"
      ]
    },
    {
      "cell_type": "markdown",
      "metadata": {},
      "source": [
        "### Importar Módulos propios\n",
        "\n",
        "\n",
        "Supongamos que tenemos un archivo \"suma.py\" con la definición de una función llamada `suma()`:\n",
        "\n",
        "``` python\n",
        "def suma(a, b):\n",
        "    return a + b\n",
        "```\n",
        "\n",
        "Podemos importar esta función a otro archivo que esté en el mismo directorio de la siguiente forma:\n",
        "\n",
        "``` python\n",
        "from suma import suma\n",
        "\n",
        "print(suma(1, 2))\n",
        "``` "
      ]
    },
    {
      "cell_type": "markdown",
      "metadata": {},
      "source": [
        "### Librerías Externas\n",
        "\n",
        "Existen muchas librerías que no vienen con Python. Por ejemplo en el ámbito científico existen dos librerias muy populares llamadas Matplotlib y Numpy.\n",
        "En caso de utilizar anaconda estas librerías vienen instaladas por defecto. En caso de usar el interprete de Python por defecto se deberán isntalar desde la terminal usando el gestor de paquetes de python, `pip`.\n",
        "\n",
        "``` bash\n",
        "$ pip intall matplotlib\n",
        "``` \n",
        "\n",
        "``` bash\n",
        "$ pip intall numpy\n",
        "``` "
      ]
    },
    {
      "cell_type": "markdown",
      "metadata": {},
      "source": [
        "#### Matplotlib\n",
        "\n",
        "Matplotlib es la librería más popular utilizada para realizar gráficos."
      ]
    },
    {
      "cell_type": "code",
      "execution_count": 1,
      "metadata": {},
      "outputs": [
        {
          "data": {
            "image/png": "[encoded data removed]",
            "text/plain": [
              "<Figure size 640x480 with 1 Axes>"
            ]
          },
          "metadata": {},
          "output_type": "display_data"
        }
      ],
      "source": [
        "import matplotlib.pyplot as plt\n",
        "\n",
        "# función para calcular la altura en caida libre\n",
        "def altura_tiro_vertical(y0, v0, t):\n",
        "    g = 9.8\n",
        "    return y0 + v0*t - 0.5*g*t**2\n",
        "\n",
        "# Listas para guardar mis datos\n",
        "t = []\n",
        "y = []\n",
        "\n",
        "# Defino mis variables\n",
        "tmin = 0\n",
        "tmax = 5\n",
        "y0 = 0      # altura inicial\n",
        "v0 = 25     # velocidad inicial\n",
        "N = 1000     # Número de puntos que voy a calcular\n",
        "\n",
        "for i in range(N):\n",
        "    # calculo la altura i para el tiempo i\n",
        "    tiempo_i = tmin + i*(tmax-tmin)/N\n",
        "    altura_i = altura_tiro_vertical(y0, v0, tiempo_i)\n",
        "    # guardo mis puntos en las listas\n",
        "    t.append(tiempo_i)\n",
        "    y.append(altura_i)\n",
        "\n",
        "# Creo el gráfico\n",
        "plt.plot(t, y)\n",
        "# Pueden renderizar ecuaciones escritas en latex usando 'raw strings'\n",
        "plt.title(r\"Texto en Latex: $y = y_0 + v_0 \\cdot t - \\frac{gt^2}{2}$\")\n",
        "plt.xlabel(\"t (s)\")    # título eje horizontal\n",
        "plt.ylabel(\"y (m)\")     # título eje vertical\n",
        "plt.show()"
      ]
    },
    {
      "cell_type": "markdown",
      "metadata": {},
      "source": [
        "#### Numpy\n",
        "\n",
        "Numpy nos permite trabajar con matrices y arreglos de varias dimensiones de una forma mucho más comoda y eficaz."
      ]
    },
    {
      "cell_type": "code",
      "execution_count": 2,
      "metadata": {},
      "outputs": [
        {
          "data": {
            "text/plain": [
              "Text(0, 0.5, 'y (m)')"
            ]
          },
          "execution_count": 2,
          "metadata": {},
          "output_type": "execute_result"
        },
        {
          "data": {
            "image/png": "[encoded data removed]",
            "text/plain": [
              "<Figure size 640x480 with 1 Axes>"
            ]
          },
          "metadata": {},
          "output_type": "display_data"
        }
      ],
      "source": [
        "import numpy as np\n",
        "import matplotlib.pyplot as plt\n",
        "\n",
        "# función para calcular la altura en caida libre\n",
        "def caida_libre(y0, v0, t):\n",
        "    g = 9.8\n",
        "    return y0 + v0*t - 0.5*g*t**2\n",
        "\n",
        "# Defino mis variables\n",
        "tmin = 0\n",
        "tmax = 5\n",
        "y0 = 0      # altura inicial\n",
        "v0 = 25     # velocidad inicial\n",
        "N = 100     # Número de puntos que voy a calcular\n",
        "\n",
        "# Datos (esta vez no necesitamos el bucle for)\n",
        "t = np.linspace(tmin, tmax, N)  # array\n",
        "y = caida_libre(y0, v0, t)\n",
        "\n",
        "# Plot\n",
        "plt.plot(t, y)\n",
        "plt.xlabel(\"t (s)\")\n",
        "plt.ylabel(\"y (m)\")"
      ]
    },
    {
      "cell_type": "markdown",
      "metadata": {},
      "source": []
    }
  ],
  "metadata": {
    "colab": {
      "provenance": []
    },
    "kernelspec": {
      "display_name": "Python 3",
      "name": "python3"
    },
    "language_info": {
      "codemirror_mode": {
        "name": "ipython",
        "version": 3
      },
      "file_extension": ".py",
      "mimetype": "text/x-python",
      "name": "python",
      "nbconvert_exporter": "python",
      "pygments_lexer": "ipython3",
      "version": "3.11.5"
    }
  },
  "nbformat": 4,
  "nbformat_minor": 0
}
