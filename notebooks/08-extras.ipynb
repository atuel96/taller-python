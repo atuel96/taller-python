{
 "cells": [
  {
   "cell_type": "markdown",
   "metadata": {},
   "source": [
    "# Extras\n",
    "\n",
    "Aquí les mostramos ejemplos muy sencillos de algunos temas que no veremos en el curso por temas de tiempo."
   ]
  },
  {
   "cell_type": "markdown",
   "metadata": {},
   "source": [
    "## Clases\n",
    "\n",
    "Las clases son plantillas que nos permiten crear nuestros propios objetos con sus métodos y atributos. Es una parte fundamental del paradigma de la programación orientada a objetos."
   ]
  },
  {
   "cell_type": "code",
   "execution_count": 2,
   "metadata": {},
   "outputs": [
    {
     "name": "stdout",
     "output_type": "stream",
     "text": [
      "La distancia entre los puntos es: 5.00\n"
     ]
    }
   ],
   "source": [
    "import math\n",
    "\n",
    "class Punto2D:\n",
    "    def __init__(self, x, y):\n",
    "        self.x = x\n",
    "        self.y = y\n",
    "\n",
    "    def distancia(self, otro):\n",
    "        \"\"\"Calcula la distancia entre este punto y otro punto 2D.\"\"\"\n",
    "        return math.sqrt((self.x - otro.x) ** 2 + (self.y - otro.y) ** 2)\n",
    "\n",
    "# Ejemplo de uso\n",
    "punto1 = Punto2D(3, 4)\n",
    "punto2 = Punto2D(6, 8)\n",
    "\n",
    "distancia = punto1.distancia(punto2)\n",
    "print(f\"La distancia entre los puntos es: {distancia:.2f}\")  # Salida: La distancia entre los puntos es: 5.00\n"
   ]
  },
  {
   "cell_type": "markdown",
   "metadata": {},
   "source": [
    "## Sobre Listas e Iteraciones"
   ]
  },
  {
   "cell_type": "markdown",
   "metadata": {},
   "source": [
    "### Iterar sobre dos o más listas con zip()"
   ]
  },
  {
   "cell_type": "code",
   "execution_count": 14,
   "metadata": {},
   "outputs": [
    {
     "name": "stdout",
     "output_type": "stream",
     "text": [
      "Alice tiene 25 años.\n",
      "Bob tiene 30 años.\n",
      "Charlie tiene 35 años.\n"
     ]
    }
   ],
   "source": [
    "nombres = [\"Alice\", \"Bob\", \"Charlie\"]\n",
    "edades = [25, 30, 35]\n",
    "\n",
    "for nombre, edad in zip(nombres, edades):\n",
    "    print(f\"{nombre} tiene {edad} años.\")\n"
   ]
  },
  {
   "cell_type": "code",
   "execution_count": 15,
   "metadata": {},
   "outputs": [
    {
     "name": "stdout",
     "output_type": "stream",
     "text": [
      "Alice, 25 años, vive en Madrid.\n",
      "Bob, 30 años, vive en Barcelona.\n",
      "Charlie, 35 años, vive en Valencia.\n"
     ]
    }
   ],
   "source": [
    "nombres = [\"Alice\", \"Bob\", \"Charlie\"]\n",
    "edades = [25, 30, 35]\n",
    "ciudades = [\"Madrid\", \"Barcelona\", \"Valencia\"]\n",
    "\n",
    "for nombre, edad, ciudad in zip(nombres, edades, ciudades):\n",
    "    print(f\"{nombre}, {edad} años, vive en {ciudad}.\")\n"
   ]
  },
  {
   "cell_type": "markdown",
   "metadata": {},
   "source": [
    "### Función ennumerate()\n",
    "\n",
    "permite iterar sobre un iterable (como una lista o una tupla) mientras se obtiene tanto el índice como el valor de cada elemento"
   ]
  },
  {
   "cell_type": "code",
   "execution_count": 16,
   "metadata": {},
   "outputs": [
    {
     "name": "stdout",
     "output_type": "stream",
     "text": [
      "Índice 0: Alice\n",
      "Índice 1: Bob\n",
      "Índice 2: Charlie\n"
     ]
    }
   ],
   "source": [
    "nombres = [\"Alice\", \"Bob\", \"Charlie\"]\n",
    "\n",
    "for indice, nombre in enumerate(nombres, start=0):\n",
    "    print(f\"Índice {indice}: {nombre}\")\n"
   ]
  },
  {
   "cell_type": "markdown",
   "metadata": {},
   "source": [
    "### For - Else\n",
    "El bloque else en un bucle for se ejecuta si el bucle termina sin encontrar un break."
   ]
  },
  {
   "cell_type": "code",
   "execution_count": 4,
   "metadata": {},
   "outputs": [
    {
     "name": "stdout",
     "output_type": "stream",
     "text": [
      "0\n",
      "1\n",
      "2\n",
      "Fin del bucle\n"
     ]
    }
   ],
   "source": [
    "for i in range(3):\n",
    "    print(i)\n",
    "else:\n",
    "    print(\"Fin del bucle\")  # Se ejecuta al final del bucle"
   ]
  },
  {
   "cell_type": "code",
   "execution_count": 5,
   "metadata": {},
   "outputs": [
    {
     "name": "stdout",
     "output_type": "stream",
     "text": [
      "0\n"
     ]
    }
   ],
   "source": [
    "for i in range(5):\n",
    "    print(i)\n",
    "    break\n",
    "else:\n",
    "    print(\"Fin del bucle\")  # No se ejecuta al final del bucle"
   ]
  },
  {
   "cell_type": "markdown",
   "metadata": {},
   "source": [
    "## Try - Else - Finally\n",
    "Manejo de excepciones. try intenta ejecutar código, else se ejecuta si no hay excepciones, y finally se ejecuta siempre."
   ]
  },
  {
   "cell_type": "code",
   "execution_count": 6,
   "metadata": {},
   "outputs": [
    {
     "name": "stdout",
     "output_type": "stream",
     "text": [
      "Resultado: 5.0\n",
      "Fin del bloque try\n"
     ]
    }
   ],
   "source": [
    "try:\n",
    "    resultado = 10 / 2\n",
    "except ZeroDivisionError:\n",
    "    print(\"División por cero\")\n",
    "else:\n",
    "    print(\"Resultado:\", resultado)  # Se ejecuta si no hay excepción\n",
    "finally:\n",
    "    print(\"Fin del bloque try\")  # Siempre se ejecuta\n"
   ]
  },
  {
   "cell_type": "markdown",
   "metadata": {},
   "source": [
    "## Funciones map() y filter()"
   ]
  },
  {
   "cell_type": "code",
   "execution_count": 9,
   "metadata": {},
   "outputs": [
    {
     "name": "stdout",
     "output_type": "stream",
     "text": [
      "[2, 4, 6, 8, 10]\n",
      "[2, 4]\n"
     ]
    }
   ],
   "source": [
    "def dobles(x):\n",
    "    return x*2\n",
    "\n",
    "def par(x):\n",
    "    return x % 2 == 0\n",
    "\n",
    "numeros = [1, 2, 3, 4, 5]\n",
    "\n",
    "# Usando map\n",
    "dobles = list(map(dobles, numeros))\n",
    "print(dobles)  # Salida: [2, 4, 6, 8, 10]\n",
    "\n",
    "# Usando filter\n",
    "pares = list(filter(par, numeros))\n",
    "print(pares)  # Salida: [2, 4]\n"
   ]
  },
  {
   "cell_type": "markdown",
   "metadata": {},
   "source": [
    "## Expresiones Lambda\n",
    "Funciones anónimas que se definen en una sola línea."
   ]
  },
  {
   "cell_type": "code",
   "execution_count": 10,
   "metadata": {},
   "outputs": [
    {
     "name": "stdout",
     "output_type": "stream",
     "text": [
      "[2, 4, 6, 8, 10]\n",
      "[2, 4]\n"
     ]
    }
   ],
   "source": [
    "numeros = [1, 2, 3, 4, 5]\n",
    "\n",
    "# Usando map\n",
    "dobles = list(map(lambda x: x*2, numeros))\n",
    "print(dobles)  # Salida: [2, 4, 6, 8, 10]\n",
    "\n",
    "# Usando filter\n",
    "pares = list(filter(lambda x: x % 2 == 0, numeros))\n",
    "print(pares)  # Salida: [2, 4]\n",
    "\n"
   ]
  },
  {
   "cell_type": "markdown",
   "metadata": {},
   "source": [
    "## List Comprehensions\n",
    "\n",
    "Las list comprehensions permiten crear una lista nueva aplicando una expresión a cada elemento de un iterable (como una lista, tupla o rango) en una sola línea.\n",
    "\n",
    "Sintaxis:\n",
    "\n",
    "``` python\n",
    "nueva_lista = [expresión for item in iterable if condición]\n",
    "```"
   ]
  },
  {
   "cell_type": "code",
   "execution_count": 11,
   "metadata": {},
   "outputs": [
    {
     "name": "stdout",
     "output_type": "stream",
     "text": [
      "[0, 1, 4, 9, 16, 25, 36, 49, 64, 81]\n"
     ]
    }
   ],
   "source": [
    "# Crear una lista de los cuadrados de los números del 0 al 9\n",
    "cuadrados = [x ** 2 for x in range(10)]\n",
    "print(cuadrados) \n"
   ]
  },
  {
   "cell_type": "code",
   "execution_count": 12,
   "metadata": {},
   "outputs": [
    {
     "name": "stdout",
     "output_type": "stream",
     "text": [
      "[0, 2, 4, 6, 8, 10, 12, 14, 16, 18, 20]\n"
     ]
    }
   ],
   "source": [
    "# Crear una lista de números pares del 0 al 20\n",
    "pares = [x for x in range(21) if x % 2 == 0]\n",
    "print(pares)  \n"
   ]
  },
  {
   "cell_type": "markdown",
   "metadata": {},
   "source": [
    "## Dict Comprehensions\n",
    "Las dict comprehensions funcionan de manera similar a las list comprehensions, pero crean diccionarios. Se utilizan para construir un nuevo diccionario a partir de un iterable."
   ]
  },
  {
   "cell_type": "code",
   "execution_count": 13,
   "metadata": {},
   "outputs": [
    {
     "name": "stdout",
     "output_type": "stream",
     "text": [
      "{0: 0, 1: 1, 2: 4, 3: 9, 4: 16}\n"
     ]
    }
   ],
   "source": [
    "cuadrados_dict = {x: x ** 2 for x in range(5)}\n",
    "print(cuadrados_dict)"
   ]
  },
  {
   "cell_type": "markdown",
   "metadata": {},
   "source": [
    "## Decoradores\n",
    "\n",
    "Son funciones que modifican el comportamiento de otras funciones."
   ]
  },
  {
   "cell_type": "code",
   "execution_count": 21,
   "metadata": {},
   "outputs": [
    {
     "name": "stdout",
     "output_type": "stream",
     "text": [
      "Antes de llamar a la función\n",
      "¡Hola!\n",
      "Después de llamar a la función\n"
     ]
    }
   ],
   "source": [
    "def decorador(func):\n",
    "    def envoltura():\n",
    "        print(\"Antes de llamar a la función\")\n",
    "        func()\n",
    "        print(\"Después de llamar a la función\")\n",
    "    return envoltura\n",
    "\n",
    "@decorador\n",
    "def saludar():\n",
    "    print(\"¡Hola!\")\n",
    "\n",
    "saludar()"
   ]
  },
  {
   "cell_type": "markdown",
   "metadata": {},
   "source": [
    "## Generadores\n",
    "\n",
    "Son funciones que devuelven un iterador, utilizando yield en lugar de return."
   ]
  },
  {
   "cell_type": "code",
   "execution_count": 32,
   "metadata": {},
   "outputs": [
    {
     "name": "stdout",
     "output_type": "stream",
     "text": [
      "1\n",
      "2\n",
      "3\n"
     ]
    }
   ],
   "source": [
    "def contar_hasta_tres():\n",
    "    yield 1\n",
    "    yield 2\n",
    "    yield 3\n",
    "\n",
    "mi_generador = contar_hasta_tres()\n",
    "\n",
    "for numero in mi_generador:\n",
    "    print(numero)  # Salida: 1, 2, 3\n"
   ]
  }
 ],
 "metadata": {
  "kernelspec": {
   "display_name": "base",
   "language": "python",
   "name": "python3"
  },
  "language_info": {
   "codemirror_mode": {
    "name": "ipython",
    "version": 3
   },
   "file_extension": ".py",
   "mimetype": "text/x-python",
   "name": "python",
   "nbconvert_exporter": "python",
   "pygments_lexer": "ipython3",
   "version": "3.11.5"
  }
 },
 "nbformat": 4,
 "nbformat_minor": 2
}
